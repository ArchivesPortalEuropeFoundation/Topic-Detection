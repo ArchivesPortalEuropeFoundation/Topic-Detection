{
 "cells": [
  {
   "cell_type": "code",
   "execution_count": 1,
   "metadata": {},
   "outputs": [],
   "source": [
    "import os, json,pickle\n",
    "import pandas as pd\n",
    "from langdetect import detect\n",
    "from collections import Counter"
   ]
  },
  {
   "cell_type": "code",
   "execution_count": 2,
   "metadata": {},
   "outputs": [
    {
     "name": "stdout",
     "output_type": "stream",
     "text": [
      "we have loaded 454807 entries\n"
     ]
    }
   ],
   "source": [
    "# in data you will store the topic related json files\n",
    "path = 'data/'\n",
    "\n",
    "aggregating_fields = [\"langMaterial\",\"unitTitle\",\"titleProper\",\"scopeContent\",\"topic\"]\n",
    "\n",
    "dataset = [[\"id\",\"langMaterial\",\"unitTitle\",\"titleProper\",\"scopeContent\",\"topic\",\"filename\"]]\n",
    "\n",
    "for filename in os.listdir(path):\n",
    "    \n",
    "    with open(path+filename) as json_file:\n",
    "        data = json.load(json_file)\n",
    "    \n",
    "    for i in range(len(data[\"response\"][\"docs\"])):\n",
    "        element = data[\"response\"][\"docs\"][i]\n",
    "        \n",
    "        line = [element[\"id\"]]\n",
    "        for field in aggregating_fields:\n",
    "            if field in element:\n",
    "                line.append(element[field])\n",
    "            else:\n",
    "                line.append(\" \")\n",
    "        line.append(filename)\n",
    "        dataset.append(line)\n",
    "print (\"we have loaded\",len(dataset),\"entries\")"
   ]
  },
  {
   "cell_type": "code",
   "execution_count": 3,
   "metadata": {},
   "outputs": [],
   "source": [
    "# we remove al columns that do not contain text (where we have less than 3 chars)\n",
    "selected_dataset = [dataset[0]]+ [x for x in dataset[1:] if len(x[4])>3]\n",
    "\n",
    "column_names = selected_dataset.pop(0)\n",
    "\n",
    "# we structure it in a dataframe\n",
    "df = pd.DataFrame(selected_dataset[1:], columns=column_names)"
   ]
  },
  {
   "cell_type": "code",
   "execution_count": 4,
   "metadata": {
    "collapsed": true,
    "jupyter": {
     "outputs_hidden": true
    }
   },
   "outputs": [
    {
     "name": "stdout",
     "output_type": "stream",
     "text": [
      "fre\n",
      "ger\n",
      "lav\n",
      "rus\n",
      "heb\n",
      "pol\n"
     ]
    },
    {
     "data": {
      "text/plain": [
       "[('ger', 53316),\n",
       " ('fr', 47886),\n",
       " ('de', 10983),\n",
       " ('fre', 7473),\n",
       " ('fi', 2706),\n",
       " ('it', 293),\n",
       " ('pl', 140),\n",
       " ('sv', 52),\n",
       " ('lav', 28),\n",
       " ('lv', 21),\n",
       " ('en', 16),\n",
       " ('heb', 14),\n",
       " ('rus', 13),\n",
       " ('pol', 11),\n",
       " ('es', 9),\n",
       " ('ca', 8)]"
      ]
     },
     "execution_count": 4,
     "metadata": {},
     "output_type": "execute_result"
    }
   ],
   "source": [
    "# as the language is often missing we add it using langdetect (note that the name of the language might diverge, e.g., ger and de)\n",
    "langs = []\n",
    "\n",
    "check = set()\n",
    "\n",
    "for index, row in df.iterrows():\n",
    "    if len(row[\"langMaterial\"])==3:\n",
    "        langs.append(row[\"langMaterial\"])\n",
    "        if row[\"langMaterial\"] not in check:\n",
    "            print(row[\"langMaterial\"])\n",
    "            check.add(row[\"langMaterial\"])\n",
    "        \n",
    "    else:\n",
    "        try:\n",
    "            l = detect(row[\"unitTitle\"] +\" \"+ row[\"titleProper\"]+\" \"+ row[\"scopeContent\"])\n",
    "            row[\"langMaterial\"] = l\n",
    "            langs.append(row[\"langMaterial\"])\n",
    "        except Exception as e:\n",
    "            print (e)\n",
    "            continue\n",
    "        \n",
    "\n",
    "        \n",
    "from collections import Counter\n",
    "\n",
    "Counter(langs).most_common()\n",
    "\n"
   ]
  },
  {
   "cell_type": "code",
   "execution_count": 6,
   "metadata": {},
   "outputs": [],
   "source": [
    "# to fix it we use this dictionary, that you would need to expand if you are dealing with other languages\n",
    "\n",
    "langs_dict = {\"de\":\"de\",\"ger\":\"de\",\"fr\":\"fr\",\"fre\":\"fr\",\"it\":\"it\",\"en\":\"en\",\"sl\":\"sl\",\"pl\":\"pl\",\"pol\":\"pl\",\"fi\":\"fi\"}\n",
    "df['langMaterial'] = df['langMaterial'].map(langs_dict)\n"
   ]
  },
  {
   "cell_type": "code",
   "execution_count": 7,
   "metadata": {},
   "outputs": [],
   "source": [
    "# finally we save the pickle file containing the dataframe\n",
    "with open('dataset.pickle', 'wb') as f:\n",
    "        pickle.dump(df, f)"
   ]
  }
 ],
 "metadata": {
  "kernelspec": {
   "display_name": "Python 3",
   "language": "python",
   "name": "python3"
  },
  "language_info": {
   "codemirror_mode": {
    "name": "ipython",
    "version": 3
   },
   "file_extension": ".py",
   "mimetype": "text/x-python",
   "name": "python",
   "nbconvert_exporter": "python",
   "pygments_lexer": "ipython3",
   "version": "3.7.4"
  }
 },
 "nbformat": 4,
 "nbformat_minor": 4
}
