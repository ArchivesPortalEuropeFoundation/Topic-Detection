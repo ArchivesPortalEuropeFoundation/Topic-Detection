{
 "cells": [
  {
   "cell_type": "code",
   "execution_count": 1,
   "metadata": {},
   "outputs": [
    {
     "output_type": "error",
     "ename": "ModuleNotFoundError",
     "evalue": "No module named 'pandas'",
     "traceback": [
      "\u001b[0;31m---------------------------------------------------------------------------\u001b[0m",
      "\u001b[0;31mModuleNotFoundError\u001b[0m                       Traceback (most recent call last)",
      "\u001b[0;32m<ipython-input-1-db736c5bebfe>\u001b[0m in \u001b[0;36m<module>\u001b[0;34m\u001b[0m\n\u001b[1;32m      1\u001b[0m \u001b[0;32mimport\u001b[0m \u001b[0mos\u001b[0m\u001b[0;34m,\u001b[0m \u001b[0mjson\u001b[0m\u001b[0;34m,\u001b[0m\u001b[0mpickle\u001b[0m\u001b[0;34m\u001b[0m\u001b[0;34m\u001b[0m\u001b[0m\n\u001b[0;32m----> 2\u001b[0;31m \u001b[0;32mimport\u001b[0m \u001b[0mpandas\u001b[0m \u001b[0;32mas\u001b[0m \u001b[0mpd\u001b[0m\u001b[0;34m\u001b[0m\u001b[0;34m\u001b[0m\u001b[0m\n\u001b[0m\u001b[1;32m      3\u001b[0m \u001b[0;32mfrom\u001b[0m \u001b[0mlangdetect\u001b[0m \u001b[0;32mimport\u001b[0m \u001b[0mdetect\u001b[0m\u001b[0;34m\u001b[0m\u001b[0;34m\u001b[0m\u001b[0m\n\u001b[1;32m      4\u001b[0m \u001b[0;32mfrom\u001b[0m \u001b[0mcollections\u001b[0m \u001b[0;32mimport\u001b[0m \u001b[0mCounter\u001b[0m\u001b[0;34m\u001b[0m\u001b[0;34m\u001b[0m\u001b[0m\n",
      "\u001b[0;31mModuleNotFoundError\u001b[0m: No module named 'pandas'"
     ]
    }
   ],
   "source": [
    "import os, json,pickle\n",
    "import pandas as pd\n",
    "from langdetect import detect\n",
    "from collections import Counter"
   ]
  },
  {
   "cell_type": "code",
   "execution_count": null,
   "metadata": {
    "scrolled": true
   },
   "outputs": [],
   "source": [
    "# in data you will store the topic related json files\n",
    "path = 'data/'\n",
    "\n",
    "aggregating_fields = [\"langMaterial\",\"unitTitle\",\"titleProper\",\"scopeContent\",\"topic\"]\n",
    "\n",
    "dataset = [[\"id\",\"langMaterial\",\"unitTitle\",\"titleProper\",\"scopeContent\",\"topic\",\"filename\"]]\n",
    "\n",
    "for filename in [x for x in os.listdir(path) if x.endswith(\".json\")]:\n",
    "    \n",
    "    with open(path+filename) as json_file:\n",
    "        data = json.load(json_file)\n",
    "    \n",
    "    for i in range(len(data[\"response\"][\"docs\"])):\n",
    "        element = data[\"response\"][\"docs\"][i]\n",
    "        \n",
    "        line = [element[\"id\"]]\n",
    "        for field in aggregating_fields:\n",
    "            if field in element:\n",
    "                line.append(element[field])\n",
    "            else:\n",
    "                line.append(\" \")\n",
    "        line.append(filename)\n",
    "        dataset.append(line)\n",
    "print (\"we have loaded\",len(dataset),\"entries\")"
   ]
  },
  {
   "cell_type": "code",
   "execution_count": null,
   "metadata": {},
   "outputs": [],
   "source": [
    "# we remove al columns that do not contain text (where we have less than 3 chars)\n",
    "selected_dataset = [dataset[0]]+ [x for x in dataset[1:] if len(x[4])>3]\n",
    "\n",
    "column_names = selected_dataset.pop(0)\n",
    "\n",
    "# we structure it in a dataframe\n",
    "df = pd.DataFrame(selected_dataset[1:], columns=column_names)"
   ]
  },
  {
   "cell_type": "code",
   "execution_count": null,
   "metadata": {
    "jupyter": {
     "outputs_hidden": true
    }
   },
   "outputs": [],
   "source": [
    "# as the language is often missing we add it using langdetect (note that the name of the language might diverge, e.g., ger and de)\n",
    "langs = []\n",
    "\n",
    "check = set()\n",
    "\n",
    "for index, row in df.iterrows():\n",
    "    if len(row[\"langMaterial\"])==3:\n",
    "        langs.append(row[\"langMaterial\"])\n",
    "        if row[\"langMaterial\"] not in check:\n",
    "            print(row[\"langMaterial\"])\n",
    "            check.add(row[\"langMaterial\"])\n",
    "        \n",
    "    else:\n",
    "        try:\n",
    "            l = detect(row[\"unitTitle\"] +\" \"+ row[\"titleProper\"]+\" \"+ row[\"scopeContent\"])\n",
    "            row[\"langMaterial\"] = l\n",
    "            langs.append(row[\"langMaterial\"])\n",
    "        except Exception as e:\n",
    "            print (e)\n",
    "            continue\n",
    "        \n",
    "\n",
    "        \n",
    "from collections import Counter\n",
    "\n",
    "Counter(langs).most_common()\n",
    "\n"
   ]
  },
  {
   "cell_type": "code",
   "execution_count": null,
   "metadata": {},
   "outputs": [],
   "source": [
    "# to fix it we use this dictionary, that you would need to expand if you are dealing with other languages\n",
    "\n",
    "langs_dict = {\"de\":\"de\",\"ger\":\"de\",\"fr\":\"fr\",\"fre\":\"fr\",\"it\":\"it\",\"en\":\"en\",\"sl\":\"sl\",\"pl\":\"pl\",\"pol\":\"pl\",\"fi\":\"fi\"}\n",
    "df['langMaterial'] = df['langMaterial'].map(langs_dict)\n"
   ]
  },
  {
   "cell_type": "code",
   "execution_count": null,
   "metadata": {},
   "outputs": [],
   "source": [
    "# finally we save the pickle file containing the dataframe\n",
    "with open('dataset.pickle', 'wb') as f:\n",
    "        pickle.dump(df, f)"
   ]
  }
 ],
 "metadata": {
  "kernelspec": {
   "display_name": "Python 3.7.3 64-bit",
   "language": "python",
   "name": "python37364bitac5e7f9869f54114a4b1a9a5c222bda0"
  }
 },
 "nbformat": 4,
 "nbformat_minor": 4
}