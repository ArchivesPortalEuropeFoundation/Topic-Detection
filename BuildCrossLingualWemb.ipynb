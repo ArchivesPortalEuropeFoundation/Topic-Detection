{
 "cells": [
  {
   "cell_type": "code",
   "execution_count": 10,
   "metadata": {},
   "outputs": [],
   "source": [
    "import nltk, string\n",
    "\n",
    "exclude = set(string.punctuation)\n",
    "\n",
    "# input should be a string\n",
    "def text_embedding(text,model):\n",
    "    \n",
    "    #it depends if the words have been lowercased or not\n",
    "    text = text.lower()\n",
    "    \n",
    "    text = nltk.word_tokenize(text)\n",
    "        \n",
    "    text = [token for token in text if token not in exclude and token.isalpha()]\n",
    "    \n",
    "    doc_embedd = []\n",
    "    \n",
    "    for word in text:\n",
    "            try:\n",
    "                embed_word = model[word]\n",
    "                doc_embedd.append(embed_word)\n",
    "            except KeyError:\n",
    "                continue\n",
    "    if len(doc_embedd)>1:\n",
    "        avg = [float(sum(col))/len(col) for col in zip(*doc_embedd)]\n",
    "        return avg\n",
    "    else:\n",
    "        return None"
   ]
  },
  {
   "cell_type": "code",
   "execution_count": 1,
   "metadata": {},
   "outputs": [],
   "source": [
    "import pickle\n",
    "import pandas as pd\n",
    "\n",
    "langs_dict = {\"ger\":\"de\",\"fre\":\"fr\",\"it\":\"it\",\"en\":\"en\"}\n",
    "\n",
    "with open('selected_dataset.pickle', 'rb') as f:\n",
    "    df = pickle.load(f)\n",
    "    \n",
    "df['langMaterial'] = df['langMaterial'].map(langs_dict)\n"
   ]
  },
  {
   "cell_type": "code",
   "execution_count": 2,
   "metadata": {},
   "outputs": [
    {
     "data": {
      "text/html": [
       "<div>\n",
       "<style scoped>\n",
       "    .dataframe tbody tr th:only-of-type {\n",
       "        vertical-align: middle;\n",
       "    }\n",
       "\n",
       "    .dataframe tbody tr th {\n",
       "        vertical-align: top;\n",
       "    }\n",
       "\n",
       "    .dataframe thead th {\n",
       "        text-align: right;\n",
       "    }\n",
       "</style>\n",
       "<table border=\"1\" class=\"dataframe\">\n",
       "  <thead>\n",
       "    <tr style=\"text-align: right;\">\n",
       "      <th></th>\n",
       "      <th>id</th>\n",
       "      <th>langMaterial</th>\n",
       "      <th>unitTitle</th>\n",
       "      <th>titleProper</th>\n",
       "      <th>scopeContent</th>\n",
       "      <th>topic</th>\n",
       "      <th>filename</th>\n",
       "    </tr>\n",
       "  </thead>\n",
       "  <tbody>\n",
       "    <tr>\n",
       "      <th>0</th>\n",
       "      <td>C122304196</td>\n",
       "      <td>fr</td>\n",
       "      <td>Documents généraux.</td>\n",
       "      <td>119 J - Arnoux, fabrique de tracteurs, Miramas...</td>\n",
       "      <td>Historique par monsieur Hervé Arnoux (1993). C...</td>\n",
       "      <td>[economics]</td>\n",
       "      <td>economics.json</td>\n",
       "    </tr>\n",
       "    <tr>\n",
       "      <th>1</th>\n",
       "      <td>C122304197</td>\n",
       "      <td>fr</td>\n",
       "      <td>Réparations et représentations pour les automo...</td>\n",
       "      <td>119 J - Arnoux, fabrique de tracteurs, Miramas...</td>\n",
       "      <td>Garage Arnoux : vue de la façade sud, le long ...</td>\n",
       "      <td>[economics]</td>\n",
       "      <td>economics.json</td>\n",
       "    </tr>\n",
       "    <tr>\n",
       "      <th>2</th>\n",
       "      <td>C122304198</td>\n",
       "      <td>fr</td>\n",
       "      <td>Motoculteurs Arnoux.</td>\n",
       "      <td>119 J - Arnoux, fabrique de tracteurs, Miramas...</td>\n",
       "      <td>Brevet d'invention pour un petit tracteur moto...</td>\n",
       "      <td>[economics]</td>\n",
       "      <td>economics.json</td>\n",
       "    </tr>\n",
       "    <tr>\n",
       "      <th>3</th>\n",
       "      <td>C122304200</td>\n",
       "      <td>fr</td>\n",
       "      <td>Tracteurs Arnoux et leur outillage.</td>\n",
       "      <td>119 J - Arnoux, fabrique de tracteurs, Miramas...</td>\n",
       "      <td>Tracteurs type VM 10 et VM 15 : prospectus et ...</td>\n",
       "      <td>[economics]</td>\n",
       "      <td>economics.json</td>\n",
       "    </tr>\n",
       "    <tr>\n",
       "      <th>4</th>\n",
       "      <td>C122304201</td>\n",
       "      <td>fr</td>\n",
       "      <td>Documentation générale.</td>\n",
       "      <td>119 J - Arnoux, fabrique de tracteurs, Miramas...</td>\n",
       "      <td>L'Officiel des marques, 1er trimestre 1957, 3e...</td>\n",
       "      <td>[economics]</td>\n",
       "      <td>economics.json</td>\n",
       "    </tr>\n",
       "  </tbody>\n",
       "</table>\n",
       "</div>"
      ],
      "text/plain": [
       "           id langMaterial                                          unitTitle  \\\n",
       "0  C122304196           fr                                Documents généraux.   \n",
       "1  C122304197           fr  Réparations et représentations pour les automo...   \n",
       "2  C122304198           fr                               Motoculteurs Arnoux.   \n",
       "3  C122304200           fr                Tracteurs Arnoux et leur outillage.   \n",
       "4  C122304201           fr                            Documentation générale.   \n",
       "\n",
       "                                         titleProper  \\\n",
       "0  119 J - Arnoux, fabrique de tracteurs, Miramas...   \n",
       "1  119 J - Arnoux, fabrique de tracteurs, Miramas...   \n",
       "2  119 J - Arnoux, fabrique de tracteurs, Miramas...   \n",
       "3  119 J - Arnoux, fabrique de tracteurs, Miramas...   \n",
       "4  119 J - Arnoux, fabrique de tracteurs, Miramas...   \n",
       "\n",
       "                                        scopeContent        topic  \\\n",
       "0  Historique par monsieur Hervé Arnoux (1993). C...  [economics]   \n",
       "1  Garage Arnoux : vue de la façade sud, le long ...  [economics]   \n",
       "2  Brevet d'invention pour un petit tracteur moto...  [economics]   \n",
       "3  Tracteurs type VM 10 et VM 15 : prospectus et ...  [economics]   \n",
       "4  L'Officiel des marques, 1er trimestre 1957, 3e...  [economics]   \n",
       "\n",
       "         filename  \n",
       "0  economics.json  \n",
       "1  economics.json  \n",
       "2  economics.json  \n",
       "3  economics.json  \n",
       "4  economics.json  "
      ]
     },
     "execution_count": 2,
     "metadata": {},
     "output_type": "execute_result"
    }
   ],
   "source": [
    "df.head()"
   ]
  },
  {
   "cell_type": "code",
   "execution_count": 3,
   "metadata": {},
   "outputs": [],
   "source": [
    "from gensim.models import KeyedVectors\n",
    "de_model = KeyedVectors.load_word2vec_format('/Users/fnanni/Resources/word-embs/wiki.multi.de.vec')\n",
    "fr_model = KeyedVectors.load_word2vec_format('/Users/fnanni/Resources/word-embs/wiki.multi.fr.vec')\n",
    "en_model = KeyedVectors.load_word2vec_format('/Users/fnanni/Resources/word-embs/wiki.multi.en.vec')\n",
    "it_model = KeyedVectors.load_word2vec_format('/Users/fnanni/Resources/word-embs/wiki.multi.it.vec')"
   ]
  },
  {
   "cell_type": "code",
   "execution_count": 13,
   "metadata": {},
   "outputs": [],
   "source": [
    "model_dict = {\"fr\":fr_model,\"en\":en_model,\"de\":de_model,\"it\":it_model}"
   ]
  },
  {
   "cell_type": "code",
   "execution_count": 11,
   "metadata": {},
   "outputs": [
    {
     "data": {
      "text/plain": [
       "[('de', 55078), ('fr', 10582), ('en', 11), ('it', 6)]"
      ]
     },
     "execution_count": 11,
     "metadata": {},
     "output_type": "execute_result"
    }
   ],
   "source": [
    "from langdetect import detect\n",
    "\n",
    "langs = []\n",
    "\n",
    "for index, row in df.iterrows():\n",
    "    if row[\"langMaterial\"] not in langs_dict:\n",
    "        try:\n",
    "            l = detect(row[\"unitTitle\"] +\" \"+ row[\"titleProper\"]+\" \"+ row[\"scopeContent\"])\n",
    "            row[\"langMaterial\"] = l\n",
    "            langs.append(l)\n",
    "        except Exception as e:\n",
    "            print (e)\n",
    "            continue\n",
    "    else:\n",
    "        langs.append(row[\"langMaterial\"])\n",
    "        \n",
    "from collections import Counter\n",
    "\n",
    "Counter(langs).most_common()"
   ]
  },
  {
   "cell_type": "code",
   "execution_count": null,
   "metadata": {},
   "outputs": [],
   "source": [
    "# prepare doc embedding function\n",
    "# match correct embedding for each language"
   ]
  },
  {
   "cell_type": "code",
   "execution_count": null,
   "metadata": {},
   "outputs": [],
   "source": [
    "embs = []\n",
    "labels = []\n",
    "\n",
    "for index, row in df.iterrows():\n",
    "    lang = row[\"langMaterial\"]\n",
    "    model = model_dict[lang]\n",
    "    text = row[\"unitTitle\"] +\" \"+ row[\"titleProper\"]+\" \"+ row[\"scopeContent\"]\n",
    "    label = row[\"filename\"]\n",
    "    emb = text_embedding(text,model)\n",
    "    if emb != None:\n",
    "        embs.append(emb)\n",
    "        labels.append(label)\n",
    "print (len(embs),len(labels))"
   ]
  }
 ],
 "metadata": {
  "kernelspec": {
   "display_name": "topic)",
   "language": "python",
   "name": "topic"
  },
  "language_info": {
   "codemirror_mode": {
    "name": "ipython",
    "version": 3
   },
   "file_extension": ".py",
   "mimetype": "text/x-python",
   "name": "python",
   "nbconvert_exporter": "python",
   "pygments_lexer": "ipython3",
   "version": "3.7.7"
  }
 },
 "nbformat": 4,
 "nbformat_minor": 4
}
