{
 "cells": [
  {
   "cell_type": "code",
   "execution_count": 18,
   "metadata": {},
   "outputs": [],
   "source": [
    "import warnings\n",
    "import pandas as pd\n",
    "from sklearn import svm\n",
    "import nltk, string, pickle\n",
    "from gensim.models import KeyedVectors\n",
    "from sklearn.model_selection import KFold # import KFold\n",
    "from sklearn.metrics import precision_recall_fscore_support, accuracy_score\n",
    "\n",
    "exclude = set(string.punctuation)\n",
    "\n",
    "# this function convert a string of text to a cross-lingual doc embedding capturing its semantics\n",
    "def text_embedding(text,model):\n",
    "    \n",
    "    text = text.lower()\n",
    "    \n",
    "    text = nltk.word_tokenize(text)\n",
    "        \n",
    "    text = [token for token in text if token not in exclude and token.isalpha()]\n",
    "    \n",
    "    doc_embedd = []\n",
    "    \n",
    "    for word in text:\n",
    "            try:\n",
    "                embed_word = model[word]\n",
    "                doc_embedd.append(embed_word)\n",
    "            except KeyError:\n",
    "                continue\n",
    "    if len(doc_embedd)>1:\n",
    "        avg = [float(sum(col))/len(col) for col in zip(*doc_embedd)]\n",
    "        return avg\n",
    "    else:\n",
    "        return None"
   ]
  },
  {
   "cell_type": "code",
   "execution_count": 19,
   "metadata": {},
   "outputs": [],
   "source": [
    "# we load the dataset\n",
    "\n",
    "with open('dataset.pickle', 'rb') as f:\n",
    "    df = pickle.load(f)    "
   ]
  },
  {
   "cell_type": "code",
   "execution_count": 20,
   "metadata": {},
   "outputs": [
    {
     "data": {
      "text/html": [
       "<div>\n",
       "<style scoped>\n",
       "    .dataframe tbody tr th:only-of-type {\n",
       "        vertical-align: middle;\n",
       "    }\n",
       "\n",
       "    .dataframe tbody tr th {\n",
       "        vertical-align: top;\n",
       "    }\n",
       "\n",
       "    .dataframe thead th {\n",
       "        text-align: right;\n",
       "    }\n",
       "</style>\n",
       "<table border=\"1\" class=\"dataframe\">\n",
       "  <thead>\n",
       "    <tr style=\"text-align: right;\">\n",
       "      <th></th>\n",
       "      <th>id</th>\n",
       "      <th>langMaterial</th>\n",
       "      <th>unitTitle</th>\n",
       "      <th>titleProper</th>\n",
       "      <th>scopeContent</th>\n",
       "      <th>topic</th>\n",
       "      <th>filename</th>\n",
       "    </tr>\n",
       "  </thead>\n",
       "  <tbody>\n",
       "    <tr>\n",
       "      <th>0</th>\n",
       "      <td>C122304196</td>\n",
       "      <td>fr</td>\n",
       "      <td>Documents généraux.</td>\n",
       "      <td>119 J - Arnoux, fabrique de tracteurs, Miramas...</td>\n",
       "      <td>Historique par monsieur Hervé Arnoux (1993). C...</td>\n",
       "      <td>[economics]</td>\n",
       "      <td>economics.json</td>\n",
       "    </tr>\n",
       "    <tr>\n",
       "      <th>1</th>\n",
       "      <td>C122304197</td>\n",
       "      <td>fr</td>\n",
       "      <td>Réparations et représentations pour les automo...</td>\n",
       "      <td>119 J - Arnoux, fabrique de tracteurs, Miramas...</td>\n",
       "      <td>Garage Arnoux : vue de la façade sud, le long ...</td>\n",
       "      <td>[economics]</td>\n",
       "      <td>economics.json</td>\n",
       "    </tr>\n",
       "    <tr>\n",
       "      <th>2</th>\n",
       "      <td>C122304198</td>\n",
       "      <td>fr</td>\n",
       "      <td>Motoculteurs Arnoux.</td>\n",
       "      <td>119 J - Arnoux, fabrique de tracteurs, Miramas...</td>\n",
       "      <td>Brevet d'invention pour un petit tracteur moto...</td>\n",
       "      <td>[economics]</td>\n",
       "      <td>economics.json</td>\n",
       "    </tr>\n",
       "    <tr>\n",
       "      <th>3</th>\n",
       "      <td>C122304200</td>\n",
       "      <td>fr</td>\n",
       "      <td>Tracteurs Arnoux et leur outillage.</td>\n",
       "      <td>119 J - Arnoux, fabrique de tracteurs, Miramas...</td>\n",
       "      <td>Tracteurs type VM 10 et VM 15 : prospectus et ...</td>\n",
       "      <td>[economics]</td>\n",
       "      <td>economics.json</td>\n",
       "    </tr>\n",
       "    <tr>\n",
       "      <th>4</th>\n",
       "      <td>C122304201</td>\n",
       "      <td>fr</td>\n",
       "      <td>Documentation générale.</td>\n",
       "      <td>119 J - Arnoux, fabrique de tracteurs, Miramas...</td>\n",
       "      <td>L'Officiel des marques, 1er trimestre 1957, 3e...</td>\n",
       "      <td>[economics]</td>\n",
       "      <td>economics.json</td>\n",
       "    </tr>\n",
       "  </tbody>\n",
       "</table>\n",
       "</div>"
      ],
      "text/plain": [
       "           id langMaterial                                          unitTitle  \\\n",
       "0  C122304196           fr                                Documents généraux.   \n",
       "1  C122304197           fr  Réparations et représentations pour les automo...   \n",
       "2  C122304198           fr                               Motoculteurs Arnoux.   \n",
       "3  C122304200           fr                Tracteurs Arnoux et leur outillage.   \n",
       "4  C122304201           fr                            Documentation générale.   \n",
       "\n",
       "                                         titleProper  \\\n",
       "0  119 J - Arnoux, fabrique de tracteurs, Miramas...   \n",
       "1  119 J - Arnoux, fabrique de tracteurs, Miramas...   \n",
       "2  119 J - Arnoux, fabrique de tracteurs, Miramas...   \n",
       "3  119 J - Arnoux, fabrique de tracteurs, Miramas...   \n",
       "4  119 J - Arnoux, fabrique de tracteurs, Miramas...   \n",
       "\n",
       "                                        scopeContent        topic  \\\n",
       "0  Historique par monsieur Hervé Arnoux (1993). C...  [economics]   \n",
       "1  Garage Arnoux : vue de la façade sud, le long ...  [economics]   \n",
       "2  Brevet d'invention pour un petit tracteur moto...  [economics]   \n",
       "3  Tracteurs type VM 10 et VM 15 : prospectus et ...  [economics]   \n",
       "4  L'Officiel des marques, 1er trimestre 1957, 3e...  [economics]   \n",
       "\n",
       "         filename  \n",
       "0  economics.json  \n",
       "1  economics.json  \n",
       "2  economics.json  \n",
       "3  economics.json  \n",
       "4  economics.json  "
      ]
     },
     "execution_count": 20,
     "metadata": {},
     "output_type": "execute_result"
    }
   ],
   "source": [
    "df.head()"
   ]
  },
  {
   "cell_type": "code",
   "execution_count": 5,
   "metadata": {},
   "outputs": [],
   "source": [
    "# for each language under study you need to download its related cross-lingual embeddings from here: https://github.com/facebookresearch/MUSE\n",
    "\n",
    "de_model = KeyedVectors.load_word2vec_format('/Users/fnanni/Resources/word-embs/wiki.multi.de.vec')\n",
    "fr_model = KeyedVectors.load_word2vec_format('/Users/fnanni/Resources/word-embs/wiki.multi.fr.vec')\n",
    "en_model = KeyedVectors.load_word2vec_format('/Users/fnanni/Resources/word-embs/wiki.multi.en.vec')\n",
    "it_model = KeyedVectors.load_word2vec_format('/Users/fnanni/Resources/word-embs/wiki.multi.it.vec')\n",
    "fi_model = KeyedVectors.load_word2vec_format('/Users/fnanni/Resources/word-embs/wiki.multi.fi.vec')\n",
    "pl_model = KeyedVectors.load_word2vec_format('/Users/fnanni/Resources/word-embs/wiki.multi.pl.vec')\n",
    "sl_model = KeyedVectors.load_word2vec_format('/Users/fnanni/Resources/word-embs/wiki.multi.sl.vec')"
   ]
  },
  {
   "cell_type": "code",
   "execution_count": 6,
   "metadata": {},
   "outputs": [],
   "source": [
    "model_dict = {\"fr\":fr_model,\"en\":en_model,\"de\":de_model,\"it\":it_model,\"fi\":fi_model,\"pl\":pl_model,\"sl\":sl_model}"
   ]
  },
  {
   "cell_type": "code",
   "execution_count": 10,
   "metadata": {},
   "outputs": [],
   "source": [
    "skip = [\"\"]\n",
    "#skip = [\"germanDemocraticRepublic.json\"]"
   ]
  },
  {
   "cell_type": "code",
   "execution_count": 7,
   "metadata": {},
   "outputs": [
    {
     "name": "stdout",
     "output_type": "stream",
     "text": [
      "[('de', 64298), ('fr', 55338), ('fi', 2716), ('it', 313), ('pl', 151), ('en', 17)]\n",
      "[(nan, 137)]\n"
     ]
    }
   ],
   "source": [
    "from langdetect import detect\n",
    "\n",
    "langs = []\n",
    "check = []\n",
    "\n",
    "for index, row in df.iterrows():\n",
    "    if row[\"langMaterial\"] not in model_dict:\n",
    "        check.append(row[\"langMaterial\"])\n",
    "    else:\n",
    "        langs.append(row[\"langMaterial\"])\n",
    "        \n",
    "from collections import Counter\n",
    "\n",
    "print(Counter(langs).most_common())\n",
    "print(Counter(check).most_common())\n"
   ]
  },
  {
   "cell_type": "code",
   "execution_count": 13,
   "metadata": {},
   "outputs": [
    {
     "name": "stdout",
     "output_type": "stream",
     "text": [
      "122833 122833\n"
     ]
    }
   ],
   "source": [
    "embs = []\n",
    "labels = []\n",
    "selected_langs = []\n",
    "\n",
    "for index, row in df.iterrows():\n",
    "    lang = row[\"langMaterial\"]\n",
    "    label = row[\"filename\"]\n",
    "    if lang in model_dict and label not in skip:\n",
    "        model = model_dict[lang]\n",
    "        text = row[\"unitTitle\"] +\" \"+ row[\"titleProper\"]+\" \"+ row[\"scopeContent\"]\n",
    "        emb = text_embedding(text,model)\n",
    "        if emb != None:\n",
    "            embs.append(emb)\n",
    "            labels.append(label)\n",
    "            selected_langs.append(lang)\n",
    "print (len(embs),len(labels))"
   ]
  },
  {
   "cell_type": "code",
   "execution_count": null,
   "metadata": {},
   "outputs": [],
   "source": [
    "check = []\n",
    "for x in range(len(labels)):\n",
    "    lang = selected_langs[x]\n",
    "    label = labels[x]\n",
    "    check.append(label+\" \"+lang)\n",
    "Counter(check).most_common()"
   ]
  },
  {
   "cell_type": "code",
   "execution_count": 14,
   "metadata": {},
   "outputs": [
    {
     "name": "stdout",
     "output_type": "stream",
     "text": [
      "[('germanDemocraticRepublic.json', 55073), ('notaries.json', 32782), ('maps.json', 14581), ('firstWorldWar.json', 9653), ('economics.json', 9596), ('slavery.json', 657), ('catholicism.json', 348), ('genealogy.json', 139), ('frenchNapoleonI.json', 4)]\n"
     ]
    }
   ],
   "source": [
    "import numpy as np\n",
    "\n",
    "X = np.array(embs)\n",
    "y = np.array(labels)\n",
    "\n",
    "print(Counter(labels).most_common())"
   ]
  },
  {
   "cell_type": "code",
   "execution_count": 16,
   "metadata": {},
   "outputs": [
    {
     "name": "stdout",
     "output_type": "stream",
     "text": [
      "(0.8787591806392407, 0.84441381727218, 0.8599655533077262, None) 0.9938944969065451\n",
      "[('germanDemocraticRepublic.json', 5532), ('notaries.json', 3304), ('maps.json', 1470), ('economics.json', 964), ('firstWorldWar.json', 907), ('slavery.json', 65), ('catholicism.json', 27), ('genealogy.json', 14), ('frenchNapoleonI.json', 1)]\n",
      " \n",
      "(0.9904358897944596, 0.9379662825133221, 0.9601407093747819, None) 0.9932432432432432\n",
      "[('germanDemocraticRepublic.json', 5449), ('notaries.json', 3339), ('maps.json', 1418), ('firstWorldWar.json', 1004), ('economics.json', 939), ('slavery.json', 74), ('catholicism.json', 42), ('genealogy.json', 19)]\n",
      " \n",
      "(0.9914140926141366, 0.9390083498968735, 0.961383727425864, None) 0.9940573103223705\n",
      "[('germanDemocraticRepublic.json', 5504), ('notaries.json', 3266), ('maps.json', 1479), ('economics.json', 984), ('firstWorldWar.json', 930), ('slavery.json', 67), ('catholicism.json', 41), ('genealogy.json', 13)]\n",
      " \n",
      "(0.9899817983351475, 0.9578068340991979, 0.9727367557267961, None) 0.9931612798176341\n",
      "[('germanDemocraticRepublic.json', 5558), ('notaries.json', 3195), ('maps.json', 1457), ('firstWorldWar.json', 980), ('economics.json', 971), ('slavery.json', 73), ('catholicism.json', 37), ('genealogy.json', 12)]\n",
      " \n",
      "(0.993031006706681, 0.9563963639552712, 0.9727676104230945, None) 0.9940568265081821\n",
      "[('germanDemocraticRepublic.json', 5450), ('notaries.json', 3399), ('maps.json', 1424), ('economics.json', 974), ('firstWorldWar.json', 927), ('slavery.json', 67), ('genealogy.json', 22), ('catholicism.json', 20)]\n",
      " \n",
      "(0.8789033174922117, 0.8544834634903214, 0.8659432639267314, None) 0.9934055198241472\n",
      "[('germanDemocraticRepublic.json', 5501), ('notaries.json', 3237), ('maps.json', 1526), ('firstWorldWar.json', 971), ('economics.json', 932), ('slavery.json', 71), ('catholicism.json', 34), ('genealogy.json', 10), ('frenchNapoleonI.json', 1)]\n",
      " \n",
      "(0.8772055162534818, 0.8666864363785091, 0.8716808330287565, None) 0.9934055198241472\n",
      "[('germanDemocraticRepublic.json', 5508), ('notaries.json', 3236), ('maps.json', 1475), ('economics.json', 1000), ('firstWorldWar.json', 955), ('slavery.json', 63), ('catholicism.json', 34), ('genealogy.json', 11), ('frenchNapoleonI.json', 1)]\n",
      " \n",
      "(0.986612217863321, 0.9489080350844044, 0.9666104594450415, None) 0.9939754131726777\n",
      "[('germanDemocraticRepublic.json', 5489), ('notaries.json', 3249), ('maps.json', 1501), ('firstWorldWar.json', 969), ('economics.json', 968), ('slavery.json', 57), ('catholicism.json', 35), ('genealogy.json', 15)]\n",
      " \n",
      "(0.9881554028104533, 0.9465871527381846, 0.964642232499995, None) 0.9925913864691036\n",
      "[('germanDemocraticRepublic.json', 5555), ('notaries.json', 3303), ('maps.json', 1418), ('firstWorldWar.json', 965), ('economics.json', 926), ('slavery.json', 60), ('catholicism.json', 41), ('genealogy.json', 15)]\n",
      " \n",
      "(0.8817831096928777, 0.8574008772643027, 0.8687797428378488, None) 0.9935683464951559\n",
      "[('germanDemocraticRepublic.json', 5527), ('notaries.json', 3254), ('maps.json', 1413), ('firstWorldWar.json', 1045), ('economics.json', 938), ('slavery.json', 60), ('catholicism.json', 37), ('genealogy.json', 8), ('frenchNapoleonI.json', 1)]\n",
      " \n"
     ]
    }
   ],
   "source": [
    "SVM = svm.SVC(kernel = \"linear\", C=1)\n",
    "\n",
    "kf = KFold(n_splits=10,shuffle=True)\n",
    "\n",
    "for train_index, test_index in kf.split(X):\n",
    "    X_train, X_test = X[train_index], X[test_index]\n",
    "    y_train, y_test = y[train_index], y[test_index]\n",
    "    classifier = SVM.fit(X_train , y_train)\n",
    "    y_pred = classifier.predict(X_test)\n",
    "    \n",
    "    p,r,f1,s = precision_recall_fscore_support(y_test, y_pred, average=\"macro\")\n",
    "    micro_f1 = precision_recall_fscore_support(y_test, y_pred, average=\"micro\")[0]\n",
    "    print (\"p\",round(p,2),\"r\",round(r,2),\"f1\",round(f1,2),\"micro_f1\",round(micro_f1,2))\n",
    "    print (Counter(y_test).most_common())\n",
    "    print (\" \")"
   ]
  },
  {
   "cell_type": "code",
   "execution_count": 17,
   "metadata": {},
   "outputs": [],
   "source": [
    "# train a final model\n",
    "classifier = SVM.fit(X , y)\n",
    "\n",
    "# save the model to disk\n",
    "filename = 'trained_topic_classifier.model'\n",
    "pickle.dump(classifier, open(filename, 'wb'))"
   ]
  },
  {
   "cell_type": "code",
   "execution_count": null,
   "metadata": {},
   "outputs": [],
   "source": []
  },
  {
   "cell_type": "code",
   "execution_count": null,
   "metadata": {},
   "outputs": [],
   "source": []
  }
 ],
 "metadata": {
  "kernelspec": {
   "display_name": "topic)",
   "language": "python",
   "name": "topic"
  },
  "language_info": {
   "codemirror_mode": {
    "name": "ipython",
    "version": 3
   },
   "file_extension": ".py",
   "mimetype": "text/x-python",
   "name": "python",
   "nbconvert_exporter": "python",
   "pygments_lexer": "ipython3",
   "version": "3.7.7"
  }
 },
 "nbformat": 4,
 "nbformat_minor": 4
}
