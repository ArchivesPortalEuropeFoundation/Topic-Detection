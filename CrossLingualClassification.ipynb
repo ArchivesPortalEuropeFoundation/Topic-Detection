{
 "cells": [
  {
   "cell_type": "code",
   "execution_count": 1,
   "metadata": {},
   "outputs": [],
   "source": [
    "import pandas as pd\n",
    "import numpy as np\n",
    "from sklearn import svm\n",
    "import nltk, string, pickle\n",
    "from collections import Counter\n",
    "from gensim.models import KeyedVectors\n",
    "from sklearn.model_selection import KFold # import KFold\n",
    "from sklearn.metrics import precision_recall_fscore_support, accuracy_score\n",
    "\n",
    "exclude = set(string.punctuation)\n",
    "\n",
    "# this function convert a string of text to a cross-lingual doc embedding capturing its semantics\n",
    "def text_embedding(text,model):\n",
    "    \n",
    "    text = text.lower()\n",
    "    \n",
    "    text = nltk.word_tokenize(text)\n",
    "        \n",
    "    text = [token for token in text if token not in exclude and token.isalpha()]\n",
    "    \n",
    "    doc_embedd = []\n",
    "    \n",
    "    for word in text:\n",
    "            try:\n",
    "                embed_word = model[word]\n",
    "                doc_embedd.append(embed_word)\n",
    "            except KeyError:\n",
    "                continue\n",
    "    if len(doc_embedd)>1:\n",
    "        avg = [float(sum(col))/len(col) for col in zip(*doc_embedd)]\n",
    "        return avg\n",
    "    else:\n",
    "        return None"
   ]
  },
  {
   "cell_type": "code",
   "execution_count": 2,
   "metadata": {},
   "outputs": [],
   "source": [
    "# we load the dataset\n",
    "\n",
    "with open('dataset.pickle', 'rb') as f:\n",
    "    df = pickle.load(f)    "
   ]
  },
  {
   "cell_type": "code",
   "execution_count": 3,
   "metadata": {},
   "outputs": [
    {
     "data": {
      "text/html": [
       "<div>\n",
       "<style scoped>\n",
       "    .dataframe tbody tr th:only-of-type {\n",
       "        vertical-align: middle;\n",
       "    }\n",
       "\n",
       "    .dataframe tbody tr th {\n",
       "        vertical-align: top;\n",
       "    }\n",
       "\n",
       "    .dataframe thead th {\n",
       "        text-align: right;\n",
       "    }\n",
       "</style>\n",
       "<table border=\"1\" class=\"dataframe\">\n",
       "  <thead>\n",
       "    <tr style=\"text-align: right;\">\n",
       "      <th></th>\n",
       "      <th>id</th>\n",
       "      <th>langMaterial</th>\n",
       "      <th>unitTitle</th>\n",
       "      <th>titleProper</th>\n",
       "      <th>scopeContent</th>\n",
       "      <th>topic</th>\n",
       "      <th>filename</th>\n",
       "    </tr>\n",
       "  </thead>\n",
       "  <tbody>\n",
       "    <tr>\n",
       "      <th>0</th>\n",
       "      <td>C122304196</td>\n",
       "      <td>fr</td>\n",
       "      <td>Documents généraux.</td>\n",
       "      <td>119 J - Arnoux, fabrique de tracteurs, Miramas...</td>\n",
       "      <td>Historique par monsieur Hervé Arnoux (1993). C...</td>\n",
       "      <td>[economics]</td>\n",
       "      <td>economics.json</td>\n",
       "    </tr>\n",
       "    <tr>\n",
       "      <th>1</th>\n",
       "      <td>C122304197</td>\n",
       "      <td>fr</td>\n",
       "      <td>Réparations et représentations pour les automo...</td>\n",
       "      <td>119 J - Arnoux, fabrique de tracteurs, Miramas...</td>\n",
       "      <td>Garage Arnoux : vue de la façade sud, le long ...</td>\n",
       "      <td>[economics]</td>\n",
       "      <td>economics.json</td>\n",
       "    </tr>\n",
       "    <tr>\n",
       "      <th>2</th>\n",
       "      <td>C122304198</td>\n",
       "      <td>fr</td>\n",
       "      <td>Motoculteurs Arnoux.</td>\n",
       "      <td>119 J - Arnoux, fabrique de tracteurs, Miramas...</td>\n",
       "      <td>Brevet d'invention pour un petit tracteur moto...</td>\n",
       "      <td>[economics]</td>\n",
       "      <td>economics.json</td>\n",
       "    </tr>\n",
       "    <tr>\n",
       "      <th>3</th>\n",
       "      <td>C122304200</td>\n",
       "      <td>fr</td>\n",
       "      <td>Tracteurs Arnoux et leur outillage.</td>\n",
       "      <td>119 J - Arnoux, fabrique de tracteurs, Miramas...</td>\n",
       "      <td>Tracteurs type VM 10 et VM 15 : prospectus et ...</td>\n",
       "      <td>[economics]</td>\n",
       "      <td>economics.json</td>\n",
       "    </tr>\n",
       "    <tr>\n",
       "      <th>4</th>\n",
       "      <td>C122304201</td>\n",
       "      <td>fr</td>\n",
       "      <td>Documentation générale.</td>\n",
       "      <td>119 J - Arnoux, fabrique de tracteurs, Miramas...</td>\n",
       "      <td>L'Officiel des marques, 1er trimestre 1957, 3e...</td>\n",
       "      <td>[economics]</td>\n",
       "      <td>economics.json</td>\n",
       "    </tr>\n",
       "  </tbody>\n",
       "</table>\n",
       "</div>"
      ],
      "text/plain": [
       "           id langMaterial                                          unitTitle  \\\n",
       "0  C122304196           fr                                Documents généraux.   \n",
       "1  C122304197           fr  Réparations et représentations pour les automo...   \n",
       "2  C122304198           fr                               Motoculteurs Arnoux.   \n",
       "3  C122304200           fr                Tracteurs Arnoux et leur outillage.   \n",
       "4  C122304201           fr                            Documentation générale.   \n",
       "\n",
       "                                         titleProper  \\\n",
       "0  119 J - Arnoux, fabrique de tracteurs, Miramas...   \n",
       "1  119 J - Arnoux, fabrique de tracteurs, Miramas...   \n",
       "2  119 J - Arnoux, fabrique de tracteurs, Miramas...   \n",
       "3  119 J - Arnoux, fabrique de tracteurs, Miramas...   \n",
       "4  119 J - Arnoux, fabrique de tracteurs, Miramas...   \n",
       "\n",
       "                                        scopeContent        topic  \\\n",
       "0  Historique par monsieur Hervé Arnoux (1993). C...  [economics]   \n",
       "1  Garage Arnoux : vue de la façade sud, le long ...  [economics]   \n",
       "2  Brevet d'invention pour un petit tracteur moto...  [economics]   \n",
       "3  Tracteurs type VM 10 et VM 15 : prospectus et ...  [economics]   \n",
       "4  L'Officiel des marques, 1er trimestre 1957, 3e...  [economics]   \n",
       "\n",
       "         filename  \n",
       "0  economics.json  \n",
       "1  economics.json  \n",
       "2  economics.json  \n",
       "3  economics.json  \n",
       "4  economics.json  "
      ]
     },
     "execution_count": 3,
     "metadata": {},
     "output_type": "execute_result"
    }
   ],
   "source": [
    "df.head()"
   ]
  },
  {
   "cell_type": "code",
   "execution_count": 4,
   "metadata": {},
   "outputs": [],
   "source": [
    "# for each language under study you need to download its related cross-lingual embeddings from here: https://github.com/facebookresearch/MUSEœ\n",
    "\n",
    "de_model = KeyedVectors.load_word2vec_format('word-embs/wiki.multi.de.vec')\n",
    "fr_model = KeyedVectors.load_word2vec_format('word-embs/wiki.multi.fr.vec')\n",
    "en_model = KeyedVectors.load_word2vec_format('word-embs/wiki.multi.en.vec')\n",
    "it_model = KeyedVectors.load_word2vec_format('word-embs/wiki.multi.it.vec')\n",
    "fi_model = KeyedVectors.load_word2vec_format('word-embs/wiki.multi.fi.vec')\n",
    "pl_model = KeyedVectors.load_word2vec_format('word-embs/wiki.multi.pl.vec')\n",
    "sl_model = KeyedVectors.load_word2vec_format('word-embs/wiki.multi.sl.vec')"
   ]
  },
  {
   "cell_type": "code",
   "execution_count": 5,
   "metadata": {},
   "outputs": [],
   "source": [
    "# we just map the language with the word embeddings model\n",
    "\n",
    "model_dict = {\"fr\":fr_model,\"en\":en_model,\"de\":de_model,\"it\":it_model,\"fi\":fi_model,\"pl\":pl_model,\"sl\":sl_model}"
   ]
  },
  {
   "cell_type": "code",
   "execution_count": 6,
   "metadata": {},
   "outputs": [],
   "source": [
    "# in case we want to skip a specific topic\n",
    "skip = [\"\"]\n",
    "#skip = [\"germanDemocraticRepublic.json\"]"
   ]
  },
  {
   "cell_type": "code",
   "execution_count": 7,
   "metadata": {
    "collapsed": true,
    "jupyter": {
     "outputs_hidden": true
    }
   },
   "outputs": [
    {
     "name": "stdout",
     "output_type": "stream",
     "text": [
      "[('de', 64299), ('fr', 55359), ('fi', 2706), ('it', 293), ('pl', 151), ('en', 16)]\n",
      "[(nan, 1), (nan, 1), (nan, 1), (nan, 1), (nan, 1), (nan, 1), (nan, 1), (nan, 1), (nan, 1), (nan, 1), (nan, 1), (nan, 1), (nan, 1), (nan, 1), (nan, 1), (nan, 1), (nan, 1), (nan, 1), (nan, 1), (nan, 1), (nan, 1), (nan, 1), (nan, 1), (nan, 1), (nan, 1), (nan, 1), (nan, 1), (nan, 1), (nan, 1), (nan, 1), (nan, 1), (nan, 1), (nan, 1), (nan, 1), (nan, 1), (nan, 1), (nan, 1), (nan, 1), (nan, 1), (nan, 1), (nan, 1), (nan, 1), (nan, 1), (nan, 1), (nan, 1), (nan, 1), (nan, 1), (nan, 1), (nan, 1), (nan, 1), (nan, 1), (nan, 1), (nan, 1), (nan, 1), (nan, 1), (nan, 1), (nan, 1), (nan, 1), (nan, 1), (nan, 1), (nan, 1), (nan, 1), (nan, 1), (nan, 1), (nan, 1), (nan, 1), (nan, 1), (nan, 1), (nan, 1), (nan, 1), (nan, 1), (nan, 1), (nan, 1), (nan, 1), (nan, 1), (nan, 1), (nan, 1), (nan, 1), (nan, 1), (nan, 1), (nan, 1), (nan, 1), (nan, 1), (nan, 1), (nan, 1), (nan, 1), (nan, 1), (nan, 1), (nan, 1), (nan, 1), (nan, 1), (nan, 1), (nan, 1), (nan, 1), (nan, 1), (nan, 1), (nan, 1), (nan, 1), (nan, 1), (nan, 1), (nan, 1), (nan, 1), (nan, 1), (nan, 1), (nan, 1), (nan, 1), (nan, 1), (nan, 1), (nan, 1), (nan, 1), (nan, 1), (nan, 1), (nan, 1), (nan, 1), (nan, 1), (nan, 1), (nan, 1), (nan, 1), (nan, 1), (nan, 1), (nan, 1), (nan, 1), (nan, 1), (nan, 1), (nan, 1), (nan, 1), (nan, 1), (nan, 1), (nan, 1), (nan, 1), (nan, 1), (nan, 1), (nan, 1), (nan, 1), (nan, 1), (nan, 1), (nan, 1), (nan, 1), (nan, 1), (nan, 1), (nan, 1), (nan, 1), (nan, 1), (nan, 1), (nan, 1)]\n"
     ]
    }
   ],
   "source": [
    "# a quick overview of the frequency of language\n",
    "\n",
    "langs = []\n",
    "check = []\n",
    "\n",
    "for index, row in df.iterrows():\n",
    "    if row[\"langMaterial\"] not in model_dict:\n",
    "        check.append(row[\"langMaterial\"])\n",
    "    else:\n",
    "        langs.append(row[\"langMaterial\"])\n",
    "        \n",
    "\n",
    "print(Counter(langs).most_common())"
   ]
  },
  {
   "cell_type": "code",
   "execution_count": 8,
   "metadata": {},
   "outputs": [
    {
     "name": "stdout",
     "output_type": "stream",
     "text": [
      "122824 122824\n"
     ]
    }
   ],
   "source": [
    "# for each document we create a document embedding and collect its topic label\n",
    "\n",
    "embs = []\n",
    "labels = []\n",
    "selected_langs = []\n",
    "\n",
    "for index, row in df.iterrows():\n",
    "    lang = row[\"langMaterial\"]\n",
    "    label = row[\"filename\"]\n",
    "    if lang in model_dict and label not in skip:\n",
    "        model = model_dict[lang]\n",
    "        text = row[\"unitTitle\"] +\" \"+ row[\"titleProper\"]+\" \"+ row[\"scopeContent\"]\n",
    "        emb = text_embedding(text,model)\n",
    "        if emb != None:\n",
    "            embs.append(emb)\n",
    "            labels.append(label)\n",
    "            selected_langs.append(lang)\n",
    "print (len(embs),len(labels))"
   ]
  },
  {
   "cell_type": "code",
   "execution_count": 9,
   "metadata": {},
   "outputs": [
    {
     "data": {
      "text/plain": [
       "[('germanDemocraticRepublic.json de', 55073),\n",
       " ('notaries.json fr', 32741),\n",
       " ('maps.json fr', 11575),\n",
       " ('economics.json fr', 9571),\n",
       " ('firstWorldWar.json de', 9219),\n",
       " ('maps.json fi', 2706),\n",
       " ('slavery.json fr', 657),\n",
       " ('firstWorldWar.json fr', 434),\n",
       " ('catholicism.json fr', 348),\n",
       " ('maps.json it', 288),\n",
       " ('genealogy.json pl', 110),\n",
       " ('notaries.json pl', 41),\n",
       " ('genealogy.json fr', 29),\n",
       " ('economics.json en', 12),\n",
       " ('economics.json de', 7),\n",
       " ('economics.json it', 5),\n",
       " ('maps.json en', 4),\n",
       " ('frenchNapoleonI.json fr', 4)]"
      ]
     },
     "execution_count": 9,
     "metadata": {},
     "output_type": "execute_result"
    }
   ],
   "source": [
    "# overview of relation between label and language\n",
    "\n",
    "check = []\n",
    "for x in range(len(labels)):\n",
    "    lang = selected_langs[x]\n",
    "    label = labels[x]\n",
    "    check.append(label+\" \"+lang)\n",
    "Counter(check).most_common()"
   ]
  },
  {
   "cell_type": "code",
   "execution_count": 10,
   "metadata": {},
   "outputs": [
    {
     "name": "stdout",
     "output_type": "stream",
     "text": [
      "[('germanDemocraticRepublic.json', 55073), ('notaries.json', 32782), ('maps.json', 14573), ('firstWorldWar.json', 9653), ('economics.json', 9595), ('slavery.json', 657), ('catholicism.json', 348), ('genealogy.json', 139), ('frenchNapoleonI.json', 4)]\n"
     ]
    }
   ],
   "source": [
    "X = np.array(embs)\n",
    "y = np.array(labels)"
   ]
  },
  {
   "cell_type": "code",
   "execution_count": 11,
   "metadata": {},
   "outputs": [
    {
     "name": "stdout",
     "output_type": "stream",
     "text": [
      "p 0.99 r 0.93 f1 0.95 micro_f1 0.99\n",
      "[('germanDemocraticRepublic.json', 5572), ('notaries.json', 3200), ('maps.json', 1455), ('economics.json', 999), ('firstWorldWar.json', 954), ('slavery.json', 59), ('catholicism.json', 30), ('genealogy.json', 14)]\n",
      " \n",
      "p 0.99 r 0.95 f1 0.97 micro_f1 0.99\n",
      "[('germanDemocraticRepublic.json', 5485), ('notaries.json', 3362), ('maps.json', 1393), ('firstWorldWar.json', 987), ('economics.json', 944), ('slavery.json', 78), ('catholicism.json', 27), ('genealogy.json', 7)]\n",
      " \n"
     ]
    },
    {
     "name": "stderr",
     "output_type": "stream",
     "text": [
      "/usr/local/anaconda3/envs/topic/lib/python3.7/site-packages/sklearn/metrics/_classification.py:1272: UndefinedMetricWarning: Precision and F-score are ill-defined and being set to 0.0 in labels with no predicted samples. Use `zero_division` parameter to control this behavior.\n",
      "  _warn_prf(average, modifier, msg_start, len(result))\n"
     ]
    },
    {
     "name": "stdout",
     "output_type": "stream",
     "text": [
      "p 0.88 r 0.84 f1 0.86 micro_f1 0.99\n",
      "[('germanDemocraticRepublic.json', 5492), ('notaries.json', 3322), ('maps.json', 1467), ('firstWorldWar.json', 973), ('economics.json', 899), ('slavery.json', 75), ('catholicism.json', 36), ('genealogy.json', 17), ('frenchNapoleonI.json', 2)]\n",
      " \n"
     ]
    },
    {
     "name": "stderr",
     "output_type": "stream",
     "text": [
      "/usr/local/anaconda3/envs/topic/lib/python3.7/site-packages/sklearn/metrics/_classification.py:1272: UndefinedMetricWarning: Precision and F-score are ill-defined and being set to 0.0 in labels with no predicted samples. Use `zero_division` parameter to control this behavior.\n",
      "  _warn_prf(average, modifier, msg_start, len(result))\n"
     ]
    },
    {
     "name": "stdout",
     "output_type": "stream",
     "text": [
      "p 0.88 r 0.84 f1 0.85 micro_f1 0.99\n",
      "[('germanDemocraticRepublic.json', 5485), ('notaries.json', 3279), ('maps.json', 1493), ('economics.json', 966), ('firstWorldWar.json', 948), ('slavery.json', 62), ('catholicism.json', 36), ('genealogy.json', 13), ('frenchNapoleonI.json', 1)]\n",
      " \n",
      "p 0.99 r 0.95 f1 0.97 micro_f1 0.99\n",
      "[('germanDemocraticRepublic.json', 5502), ('notaries.json', 3270), ('maps.json', 1419), ('economics.json', 1004), ('firstWorldWar.json', 962), ('slavery.json', 66), ('catholicism.json', 35), ('genealogy.json', 24)]\n",
      " \n"
     ]
    },
    {
     "name": "stderr",
     "output_type": "stream",
     "text": [
      "/usr/local/anaconda3/envs/topic/lib/python3.7/site-packages/sklearn/metrics/_classification.py:1272: UndefinedMetricWarning: Precision and F-score are ill-defined and being set to 0.0 in labels with no predicted samples. Use `zero_division` parameter to control this behavior.\n",
      "  _warn_prf(average, modifier, msg_start, len(result))\n"
     ]
    },
    {
     "name": "stdout",
     "output_type": "stream",
     "text": [
      "p 0.88 r 0.83 f1 0.85 micro_f1 0.99\n",
      "[('germanDemocraticRepublic.json', 5536), ('notaries.json', 3232), ('maps.json', 1486), ('firstWorldWar.json', 966), ('economics.json', 947), ('slavery.json', 72), ('catholicism.json', 30), ('genealogy.json', 12), ('frenchNapoleonI.json', 1)]\n",
      " \n",
      "p 0.99 r 0.97 f1 0.98 micro_f1 0.99\n",
      "[('germanDemocraticRepublic.json', 5459), ('notaries.json', 3262), ('maps.json', 1469), ('firstWorldWar.json', 1009), ('economics.json', 967), ('slavery.json', 67), ('catholicism.json', 35), ('genealogy.json', 14)]\n",
      " \n",
      "p 0.99 r 0.97 f1 0.98 micro_f1 0.99\n",
      "[('germanDemocraticRepublic.json', 5553), ('notaries.json', 3237), ('maps.json', 1446), ('firstWorldWar.json', 972), ('economics.json', 957), ('slavery.json', 59), ('catholicism.json', 43), ('genealogy.json', 15)]\n",
      " \n",
      "p 0.99 r 0.97 f1 0.98 micro_f1 0.99\n",
      "[('germanDemocraticRepublic.json', 5512), ('notaries.json', 3312), ('maps.json', 1443), ('economics.json', 966), ('firstWorldWar.json', 938), ('slavery.json', 64), ('catholicism.json', 35), ('genealogy.json', 12)]\n",
      " \n",
      "p 0.99 r 0.97 f1 0.98 micro_f1 0.99\n",
      "[('germanDemocraticRepublic.json', 5477), ('notaries.json', 3306), ('maps.json', 1502), ('economics.json', 946), ('firstWorldWar.json', 944), ('slavery.json', 55), ('catholicism.json', 41), ('genealogy.json', 11)]\n",
      " \n"
     ]
    }
   ],
   "source": [
    "# we evaluate the quality of the classifier via 10fold cross validation\n",
    "# we report for each fold precision recall f1 and micro f1\n",
    "\n",
    "SVM = svm.SVC(kernel = \"linear\", C=1,probability=True)\n",
    "\n",
    "kf = KFold(n_splits=10,shuffle=True)\n",
    "\n",
    "for train_index, test_index in kf.split(X):\n",
    "    X_train, X_test = X[train_index], X[test_index]\n",
    "    y_train, y_test = y[train_index], y[test_index]\n",
    "    classifier = SVM.fit(X_train , y_train)\n",
    "    y_pred = classifier.predict(X_test)\n",
    "    \n",
    "    p,r,f1,s = precision_recall_fscore_support(y_test, y_pred, average=\"macro\")\n",
    "    micro_f1 = precision_recall_fscore_support(y_test, y_pred, average=\"micro\")[0]\n",
    "    print (\"p\",round(p,2),\"r\",round(r,2),\"f1\",round(f1,2),\"micro_f1\",round(micro_f1,2))\n",
    "    print (Counter(y_test).most_common())\n",
    "    print (\" \")"
   ]
  },
  {
   "cell_type": "code",
   "execution_count": 12,
   "metadata": {},
   "outputs": [],
   "source": [
    "# train a final model\n",
    "\n",
    "classifier = SVM.fit(X , y)\n",
    "\n",
    "# save the model to disk\n",
    "filename = 'trained_topic_classifier.model'\n",
    "pickle.dump(classifier, open(filename, 'wb'))"
   ]
  },
  {
   "cell_type": "code",
   "execution_count": 20,
   "metadata": {},
   "outputs": [],
   "source": [
    "#load a pretrained model\n",
    "\n",
    "with open('trained_topic_classifier.model', 'rb') as f:\n",
    "    classifier = pickle.load(f)\n",
    "    \n",
    "cl_labels = classifier.classes_"
   ]
  },
  {
   "cell_type": "code",
   "execution_count": 31,
   "metadata": {},
   "outputs": [],
   "source": [
    "# apply the classifier to a new description\n",
    "\n",
    "description = \"this is a text about the GDR and Berlin\"\n",
    "lang = \"en\"\n",
    "\n",
    "model = model_dict[lang]\n",
    "emb = text_embedding(description,model)"
   ]
  },
  {
   "cell_type": "code",
   "execution_count": 32,
   "metadata": {},
   "outputs": [
    {
     "name": "stdout",
     "output_type": "stream",
     "text": [
      "germanDemocraticRepublic.json 0.9960320692919401\n",
      "firstWorldWar.json 0.0014033443217374567\n",
      "economics.json 0.0008213346476806612\n",
      "maps.json 0.0004988021479632826\n",
      "slavery.json 0.0003807402550087378\n",
      "frenchNapoleonI.json 0.0003684683129376941\n",
      "notaries.json 0.00024581178644725494\n",
      "genealogy.json 0.00023105450715705243\n",
      "catholicism.json 1.837472912796481e-05\n"
     ]
    }
   ],
   "source": [
    "pred_proba = classifier.predict_proba([emb])[0]\n",
    "preds = [[cl_labels[x],pred_proba[x]] for x in range(len(pred_proba))]\n",
    "preds.sort(key=lambda x: x[1],reverse=True)\n",
    "\n",
    "for x in preds:\n",
    "    print (x[0],x[1])"
   ]
  },
  {
   "cell_type": "code",
   "execution_count": 19,
   "metadata": {},
   "outputs": [
    {
     "data": {
      "text/plain": [
       "array(['catholicism.json', 'economics.json', 'firstWorldWar.json',\n",
       "       'frenchNapoleonI.json', 'genealogy.json',\n",
       "       'germanDemocraticRepublic.json', 'maps.json', 'notaries.json',\n",
       "       'slavery.json'], dtype='<U29')"
      ]
     },
     "execution_count": 19,
     "metadata": {},
     "output_type": "execute_result"
    }
   ],
   "source": []
  }
 ],
 "metadata": {
  "kernelspec": {
   "display_name": "topic)",
   "language": "python",
   "name": "topic"
  },
  "language_info": {
   "codemirror_mode": {
    "name": "ipython",
    "version": 3
   },
   "file_extension": ".py",
   "mimetype": "text/x-python",
   "name": "python",
   "nbconvert_exporter": "python",
   "pygments_lexer": "ipython3",
   "version": "3.7.7"
  }
 },
 "nbformat": 4,
 "nbformat_minor": 4
}
