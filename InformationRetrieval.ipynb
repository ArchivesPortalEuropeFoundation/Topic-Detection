{
 "cells": [
  {
   "cell_type": "code",
   "execution_count": 1,
   "metadata": {},
   "outputs": [],
   "source": [
    "import pandas as pd\n",
    "import numpy as np\n",
    "from sklearn import svm\n",
    "import nltk, string, pickle\n",
    "from collections import Counter\n",
    "from gensim.models import KeyedVectors\n",
    "from sklearn.model_selection import KFold # import KFold\n",
    "from sklearn.metrics import precision_recall_fscore_support, accuracy_score\n",
    "from sklearn.metrics.pairwise import cosine_similarity as cs\n",
    "\n",
    "exclude = set(string.punctuation)\n",
    "\n",
    "# this function convert a string of text to a cross-lingual doc embedding capturing its semantics\n",
    "def text_embedding(text,model):\n",
    "    \n",
    "    text = text.lower()\n",
    "    \n",
    "    text = nltk.word_tokenize(text)\n",
    "        \n",
    "    text = [token for token in text if token not in exclude and token.isalpha()]\n",
    "    \n",
    "    doc_embedd = []\n",
    "    \n",
    "    for word in text:\n",
    "            try:\n",
    "                embed_word = model[word]\n",
    "                doc_embedd.append(embed_word)\n",
    "            except KeyError:\n",
    "                continue\n",
    "    if len(doc_embedd)>1:\n",
    "        avg = [float(sum(col))/len(col) for col in zip(*doc_embedd)]\n",
    "        return avg\n",
    "    else:\n",
    "        return None"
   ]
  },
  {
   "cell_type": "code",
   "execution_count": 2,
   "metadata": {},
   "outputs": [],
   "source": [
    "# we load the dataset\n",
    "\n",
    "with open('dataset.pickle', 'rb') as f:\n",
    "    df = pickle.load(f)    "
   ]
  },
  {
   "cell_type": "code",
   "execution_count": 3,
   "metadata": {},
   "outputs": [
    {
     "data": {
      "text/html": [
       "<div>\n",
       "<style scoped>\n",
       "    .dataframe tbody tr th:only-of-type {\n",
       "        vertical-align: middle;\n",
       "    }\n",
       "\n",
       "    .dataframe tbody tr th {\n",
       "        vertical-align: top;\n",
       "    }\n",
       "\n",
       "    .dataframe thead th {\n",
       "        text-align: right;\n",
       "    }\n",
       "</style>\n",
       "<table border=\"1\" class=\"dataframe\">\n",
       "  <thead>\n",
       "    <tr style=\"text-align: right;\">\n",
       "      <th></th>\n",
       "      <th>id</th>\n",
       "      <th>langMaterial</th>\n",
       "      <th>unitTitle</th>\n",
       "      <th>titleProper</th>\n",
       "      <th>scopeContent</th>\n",
       "      <th>topic</th>\n",
       "      <th>filename</th>\n",
       "    </tr>\n",
       "  </thead>\n",
       "  <tbody>\n",
       "    <tr>\n",
       "      <th>0</th>\n",
       "      <td>C122304196</td>\n",
       "      <td>fr</td>\n",
       "      <td>Documents généraux.</td>\n",
       "      <td>119 J - Arnoux, fabrique de tracteurs, Miramas...</td>\n",
       "      <td>Historique par monsieur Hervé Arnoux (1993). C...</td>\n",
       "      <td>[economics]</td>\n",
       "      <td>economics.json</td>\n",
       "    </tr>\n",
       "    <tr>\n",
       "      <th>1</th>\n",
       "      <td>C122304197</td>\n",
       "      <td>fr</td>\n",
       "      <td>Réparations et représentations pour les automo...</td>\n",
       "      <td>119 J - Arnoux, fabrique de tracteurs, Miramas...</td>\n",
       "      <td>Garage Arnoux : vue de la façade sud, le long ...</td>\n",
       "      <td>[economics]</td>\n",
       "      <td>economics.json</td>\n",
       "    </tr>\n",
       "    <tr>\n",
       "      <th>2</th>\n",
       "      <td>C122304198</td>\n",
       "      <td>fr</td>\n",
       "      <td>Motoculteurs Arnoux.</td>\n",
       "      <td>119 J - Arnoux, fabrique de tracteurs, Miramas...</td>\n",
       "      <td>Brevet d'invention pour un petit tracteur moto...</td>\n",
       "      <td>[economics]</td>\n",
       "      <td>economics.json</td>\n",
       "    </tr>\n",
       "    <tr>\n",
       "      <th>3</th>\n",
       "      <td>C122304200</td>\n",
       "      <td>fr</td>\n",
       "      <td>Tracteurs Arnoux et leur outillage.</td>\n",
       "      <td>119 J - Arnoux, fabrique de tracteurs, Miramas...</td>\n",
       "      <td>Tracteurs type VM 10 et VM 15 : prospectus et ...</td>\n",
       "      <td>[economics]</td>\n",
       "      <td>economics.json</td>\n",
       "    </tr>\n",
       "    <tr>\n",
       "      <th>4</th>\n",
       "      <td>C122304201</td>\n",
       "      <td>fr</td>\n",
       "      <td>Documentation générale.</td>\n",
       "      <td>119 J - Arnoux, fabrique de tracteurs, Miramas...</td>\n",
       "      <td>L'Officiel des marques, 1er trimestre 1957, 3e...</td>\n",
       "      <td>[economics]</td>\n",
       "      <td>economics.json</td>\n",
       "    </tr>\n",
       "  </tbody>\n",
       "</table>\n",
       "</div>"
      ],
      "text/plain": [
       "           id langMaterial                                          unitTitle  \\\n",
       "0  C122304196           fr                                Documents généraux.   \n",
       "1  C122304197           fr  Réparations et représentations pour les automo...   \n",
       "2  C122304198           fr                               Motoculteurs Arnoux.   \n",
       "3  C122304200           fr                Tracteurs Arnoux et leur outillage.   \n",
       "4  C122304201           fr                            Documentation générale.   \n",
       "\n",
       "                                         titleProper  \\\n",
       "0  119 J - Arnoux, fabrique de tracteurs, Miramas...   \n",
       "1  119 J - Arnoux, fabrique de tracteurs, Miramas...   \n",
       "2  119 J - Arnoux, fabrique de tracteurs, Miramas...   \n",
       "3  119 J - Arnoux, fabrique de tracteurs, Miramas...   \n",
       "4  119 J - Arnoux, fabrique de tracteurs, Miramas...   \n",
       "\n",
       "                                        scopeContent        topic  \\\n",
       "0  Historique par monsieur Hervé Arnoux (1993). C...  [economics]   \n",
       "1  Garage Arnoux : vue de la façade sud, le long ...  [economics]   \n",
       "2  Brevet d'invention pour un petit tracteur moto...  [economics]   \n",
       "3  Tracteurs type VM 10 et VM 15 : prospectus et ...  [economics]   \n",
       "4  L'Officiel des marques, 1er trimestre 1957, 3e...  [economics]   \n",
       "\n",
       "         filename  \n",
       "0  economics.json  \n",
       "1  economics.json  \n",
       "2  economics.json  \n",
       "3  economics.json  \n",
       "4  economics.json  "
      ]
     },
     "execution_count": 3,
     "metadata": {},
     "output_type": "execute_result"
    }
   ],
   "source": [
    "df.head()"
   ]
  },
  {
   "cell_type": "code",
   "execution_count": 4,
   "metadata": {},
   "outputs": [],
   "source": [
    "# for each language under study you need to download its related cross-lingual embeddings from here: https://github.com/facebookresearch/MUSEœ\n",
    "\n",
    "de_model = KeyedVectors.load_word2vec_format('word-embs/wiki.multi.de.vec')\n",
    "fr_model = KeyedVectors.load_word2vec_format('word-embs/wiki.multi.fr.vec')\n",
    "en_model = KeyedVectors.load_word2vec_format('word-embs/wiki.multi.en.vec')\n",
    "it_model = KeyedVectors.load_word2vec_format('word-embs/wiki.multi.it.vec')\n",
    "fi_model = KeyedVectors.load_word2vec_format('word-embs/wiki.multi.fi.vec')\n",
    "pl_model = KeyedVectors.load_word2vec_format('word-embs/wiki.multi.pl.vec')\n",
    "sl_model = KeyedVectors.load_word2vec_format('word-embs/wiki.multi.sl.vec')"
   ]
  },
  {
   "cell_type": "code",
   "execution_count": 5,
   "metadata": {},
   "outputs": [],
   "source": [
    "# we just map the language with the word embeddings model\n",
    "\n",
    "model_dict = {\"fr\":fr_model,\"en\":en_model,\"de\":de_model,\"it\":it_model,\"fi\":fi_model,\"pl\":pl_model,\"sl\":sl_model}"
   ]
  },
  {
   "cell_type": "code",
   "execution_count": 6,
   "metadata": {},
   "outputs": [],
   "source": []
  },
  {
   "cell_type": "code",
   "execution_count": null,
   "metadata": {
    "collapsed": true,
    "jupyter": {
     "outputs_hidden": true
    }
   },
   "outputs": [],
   "source": []
  },
  {
   "cell_type": "code",
   "execution_count": 8,
   "metadata": {},
   "outputs": [
    {
     "name": "stdout",
     "output_type": "stream",
     "text": [
      "122824 122824\n"
     ]
    }
   ],
   "source": [
    "# for each document we create a document embedding and collect its topic label\n",
    "\n",
    "embs = []\n",
    "labels = []\n",
    "doc_names = []\n",
    "selected_langs = []\n",
    "\n",
    "for index, row in df.iterrows():\n",
    "    lang = row[\"langMaterial\"]\n",
    "    label = row[\"filename\"]    \n",
    "    title = row[\"titleProper\"]\n",
    "\n",
    "    if lang in model_dict and label not in skip:\n",
    "        model = model_dict[lang]\n",
    "        text = row[\"unitTitle\"] +\" \"+ row[\"titleProper\"]+\" \"+ row[\"scopeContent\"]\n",
    "        emb = text_embedding(text,model)\n",
    "        if emb != None:\n",
    "            embs.append(emb)\n",
    "            labels.append(label)\n",
    "            selected_langs.append(lang)\n",
    "            doc_names.append(title)\n",
    "print (len(embs),len(labels))"
   ]
  },
  {
   "cell_type": "code",
   "execution_count": 1,
   "metadata": {},
   "outputs": [],
   "source": []
  },
  {
   "cell_type": "code",
   "execution_count": 31,
   "metadata": {},
   "outputs": [],
   "source": [
    "# apply the classifier to a new description\n",
    "\n",
    "description = \"this is a text about the GDR and Berlin\"\n",
    "lang = \"en\"\n",
    "\n",
    "model = model_dict[lang]\n",
    "emb = text_embedding(description,model)"
   ]
  },
  {
   "cell_type": "code",
   "execution_count": 34,
   "metadata": {},
   "outputs": [
    {
     "name": "stdout",
     "output_type": "stream",
     "text": [
      "germanDemocraticRepublic.json 0.996\n",
      "firstWorldWar.json 0.001\n",
      "economics.json 0.001\n",
      "maps.json 0.0\n",
      "slavery.json 0.0\n",
      "frenchNapoleonI.json 0.0\n",
      "notaries.json 0.0\n",
      "genealogy.json 0.0\n",
      "catholicism.json 0.0\n"
     ]
    }
   ],
   "source": [
    "ranking = [[doc_names[x],labels[x],cs(embs[x],emb)] for x in range(len(embs))]\n",
    "\n",
    "ranking.sort(key=lambda x: x[2],reverse=True)\n",
    "\n",
    "for x in ranking[:10]:\n",
    "    print (x)"
   ]
  },
  {
   "cell_type": "code",
   "execution_count": null,
   "metadata": {},
   "outputs": [],
   "source": []
  }
 ],
 "metadata": {
  "kernelspec": {
   "display_name": "Python 3",
   "language": "python",
   "name": "python3"
  },
  "language_info": {
   "codemirror_mode": {
    "name": "ipython",
    "version": 3
   },
   "file_extension": ".py",
   "mimetype": "text/x-python",
   "name": "python",
   "nbconvert_exporter": "python",
   "pygments_lexer": "ipython3",
   "version": "3.6.0"
  }
 },
 "nbformat": 4,
 "nbformat_minor": 4
}
