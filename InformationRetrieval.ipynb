{
 "cells": [
  {
   "cell_type": "code",
   "execution_count": 71,
   "metadata": {},
   "outputs": [],
   "source": [
    "import pandas as pd\n",
    "import numpy as np\n",
    "from sklearn import svm\n",
    "import nltk, string, pickle\n",
    "from collections import Counter\n",
    "from gensim.models import KeyedVectors\n",
    "from sklearn.model_selection import KFold # import KFold\n",
    "from sklearn.metrics import precision_recall_fscore_support, accuracy_score\n",
    "from sklearn.metrics.pairwise import cosine_similarity as cs\n",
    "\n",
    "exclude = set(string.punctuation)\n",
    "\n",
    "exclude.add(\"-\")\n",
    "\n",
    "# this function convert a string of text to a cross-lingual doc embedding capturing its semantics\n",
    "def text_embedding(text,model):\n",
    "    \n",
    "    text = text.lower()\n",
    "    \n",
    "    text = ''.join(ch for ch in text if ch not in exclude)\n",
    "    \n",
    "    text = nltk.word_tokenize(text)\n",
    "        \n",
    "    text = [token for token in text if token.isalpha()]\n",
    "    \n",
    "    doc_embedd = []\n",
    "    \n",
    "    for word in text:\n",
    "            try:\n",
    "                embed_word = model[word]\n",
    "                doc_embedd.append(embed_word)\n",
    "            except KeyError:\n",
    "                continue\n",
    "    if len(doc_embedd)>0:\n",
    "        avg = [float(sum(col))/len(col) for col in zip(*doc_embedd)]\n",
    "        return avg\n",
    "    else:\n",
    "        return None"
   ]
  },
  {
   "cell_type": "code",
   "execution_count": 2,
   "metadata": {},
   "outputs": [],
   "source": [
    "# we load the dataset\n",
    "\n",
    "with open('dataset.pickle', 'rb') as f:\n",
    "    df = pickle.load(f)    "
   ]
  },
  {
   "cell_type": "code",
   "execution_count": 3,
   "metadata": {},
   "outputs": [
    {
     "data": {
      "text/html": [
       "<div>\n",
       "<style scoped>\n",
       "    .dataframe tbody tr th:only-of-type {\n",
       "        vertical-align: middle;\n",
       "    }\n",
       "\n",
       "    .dataframe tbody tr th {\n",
       "        vertical-align: top;\n",
       "    }\n",
       "\n",
       "    .dataframe thead th {\n",
       "        text-align: right;\n",
       "    }\n",
       "</style>\n",
       "<table border=\"1\" class=\"dataframe\">\n",
       "  <thead>\n",
       "    <tr style=\"text-align: right;\">\n",
       "      <th></th>\n",
       "      <th>id</th>\n",
       "      <th>langMaterial</th>\n",
       "      <th>unitTitle</th>\n",
       "      <th>titleProper</th>\n",
       "      <th>scopeContent</th>\n",
       "      <th>topic</th>\n",
       "      <th>filename</th>\n",
       "    </tr>\n",
       "  </thead>\n",
       "  <tbody>\n",
       "    <tr>\n",
       "      <td>0</td>\n",
       "      <td>C122304196</td>\n",
       "      <td>fr</td>\n",
       "      <td>Documents généraux.</td>\n",
       "      <td>119 J - Arnoux, fabrique de tracteurs, Miramas...</td>\n",
       "      <td>Historique par monsieur Hervé Arnoux (1993). C...</td>\n",
       "      <td>[economics]</td>\n",
       "      <td>economics.json</td>\n",
       "    </tr>\n",
       "    <tr>\n",
       "      <td>1</td>\n",
       "      <td>C122304197</td>\n",
       "      <td>fr</td>\n",
       "      <td>Réparations et représentations pour les automo...</td>\n",
       "      <td>119 J - Arnoux, fabrique de tracteurs, Miramas...</td>\n",
       "      <td>Garage Arnoux : vue de la façade sud, le long ...</td>\n",
       "      <td>[economics]</td>\n",
       "      <td>economics.json</td>\n",
       "    </tr>\n",
       "    <tr>\n",
       "      <td>2</td>\n",
       "      <td>C122304198</td>\n",
       "      <td>fr</td>\n",
       "      <td>Motoculteurs Arnoux.</td>\n",
       "      <td>119 J - Arnoux, fabrique de tracteurs, Miramas...</td>\n",
       "      <td>Brevet d'invention pour un petit tracteur moto...</td>\n",
       "      <td>[economics]</td>\n",
       "      <td>economics.json</td>\n",
       "    </tr>\n",
       "    <tr>\n",
       "      <td>3</td>\n",
       "      <td>C122304200</td>\n",
       "      <td>fr</td>\n",
       "      <td>Tracteurs Arnoux et leur outillage.</td>\n",
       "      <td>119 J - Arnoux, fabrique de tracteurs, Miramas...</td>\n",
       "      <td>Tracteurs type VM 10 et VM 15 : prospectus et ...</td>\n",
       "      <td>[economics]</td>\n",
       "      <td>economics.json</td>\n",
       "    </tr>\n",
       "    <tr>\n",
       "      <td>4</td>\n",
       "      <td>C122304201</td>\n",
       "      <td>fr</td>\n",
       "      <td>Documentation générale.</td>\n",
       "      <td>119 J - Arnoux, fabrique de tracteurs, Miramas...</td>\n",
       "      <td>L'Officiel des marques, 1er trimestre 1957, 3e...</td>\n",
       "      <td>[economics]</td>\n",
       "      <td>economics.json</td>\n",
       "    </tr>\n",
       "  </tbody>\n",
       "</table>\n",
       "</div>"
      ],
      "text/plain": [
       "           id langMaterial                                          unitTitle  \\\n",
       "0  C122304196           fr                                Documents généraux.   \n",
       "1  C122304197           fr  Réparations et représentations pour les automo...   \n",
       "2  C122304198           fr                               Motoculteurs Arnoux.   \n",
       "3  C122304200           fr                Tracteurs Arnoux et leur outillage.   \n",
       "4  C122304201           fr                            Documentation générale.   \n",
       "\n",
       "                                         titleProper  \\\n",
       "0  119 J - Arnoux, fabrique de tracteurs, Miramas...   \n",
       "1  119 J - Arnoux, fabrique de tracteurs, Miramas...   \n",
       "2  119 J - Arnoux, fabrique de tracteurs, Miramas...   \n",
       "3  119 J - Arnoux, fabrique de tracteurs, Miramas...   \n",
       "4  119 J - Arnoux, fabrique de tracteurs, Miramas...   \n",
       "\n",
       "                                        scopeContent        topic  \\\n",
       "0  Historique par monsieur Hervé Arnoux (1993). C...  [economics]   \n",
       "1  Garage Arnoux : vue de la façade sud, le long ...  [economics]   \n",
       "2  Brevet d'invention pour un petit tracteur moto...  [economics]   \n",
       "3  Tracteurs type VM 10 et VM 15 : prospectus et ...  [economics]   \n",
       "4  L'Officiel des marques, 1er trimestre 1957, 3e...  [economics]   \n",
       "\n",
       "         filename  \n",
       "0  economics.json  \n",
       "1  economics.json  \n",
       "2  economics.json  \n",
       "3  economics.json  \n",
       "4  economics.json  "
      ]
     },
     "execution_count": 3,
     "metadata": {},
     "output_type": "execute_result"
    }
   ],
   "source": [
    "df.head()"
   ]
  },
  {
   "cell_type": "code",
   "execution_count": 4,
   "metadata": {},
   "outputs": [],
   "source": [
    "# for each language under study you need to download its related cross-lingual embeddings from here: https://github.com/facebookresearch/MUSEœ\n",
    "\n",
    "de_model = KeyedVectors.load_word2vec_format('word-embs/wiki.multi.de.vec')\n",
    "fr_model = KeyedVectors.load_word2vec_format('word-embs/wiki.multi.fr.vec')\n",
    "en_model = KeyedVectors.load_word2vec_format('word-embs/wiki.multi.en.vec')\n",
    "it_model = KeyedVectors.load_word2vec_format('word-embs/wiki.multi.it.vec')\n",
    "fi_model = KeyedVectors.load_word2vec_format('word-embs/wiki.multi.fi.vec')\n",
    "pl_model = KeyedVectors.load_word2vec_format('word-embs/wiki.multi.pl.vec')\n",
    "sl_model = KeyedVectors.load_word2vec_format('word-embs/wiki.multi.sl.vec')"
   ]
  },
  {
   "cell_type": "code",
   "execution_count": 48,
   "metadata": {},
   "outputs": [],
   "source": [
    "# we just map the language with the word embeddings model\n",
    "\n",
    "model_dict = {\"fr\":fr_model,\"en\":en_model,\"de\":de_model,\"it\":it_model,\"fi\":fi_model,\"pl\":pl_model,\"sl\":sl_model,\"German\":de_model,\"English\":en_model,\"Finnish\":fi_model,\"French\":fr_model}"
   ]
  },
  {
   "cell_type": "code",
   "execution_count": null,
   "metadata": {},
   "outputs": [],
   "source": []
  },
  {
   "cell_type": "code",
   "execution_count": null,
   "metadata": {
    "collapsed": true,
    "jupyter": {
     "outputs_hidden": true
    }
   },
   "outputs": [],
   "source": []
  },
  {
   "cell_type": "code",
   "execution_count": 6,
   "metadata": {},
   "outputs": [
    {
     "name": "stdout",
     "output_type": "stream",
     "text": [
      "122824 122824\n"
     ]
    }
   ],
   "source": [
    "# for each document we create a document embedding and collect its topic label\n",
    "\n",
    "embs = []\n",
    "labels = []\n",
    "doc_names = []\n",
    "selected_langs = []\n",
    "texts = []\n",
    "\n",
    "for index, row in df.iterrows():\n",
    "    lang = row[\"langMaterial\"]\n",
    "    label = row[\"filename\"].replace(\".json\",\"\")    \n",
    "    title = row[\"titleProper\"]\n",
    "\n",
    "    if lang in model_dict:\n",
    "        model = model_dict[lang]\n",
    "        text = row[\"unitTitle\"] +\" \"+ row[\"titleProper\"]+\" \"+ row[\"scopeContent\"]\n",
    "        emb = text_embedding(text,model)\n",
    "        if emb != None:\n",
    "            embs.append(emb)\n",
    "            labels.append(label)\n",
    "            selected_langs.append(lang)\n",
    "            doc_names.append(title)\n",
    "            texts.append(text)\n",
    "print (len(embs),len(labels))"
   ]
  },
  {
   "cell_type": "code",
   "execution_count": 7,
   "metadata": {},
   "outputs": [],
   "source": [
    "def cossim(v1,v2):\n",
    "    v1 = np.array(v1).reshape(1, -1)\n",
    "    v2 = np.array(v2).reshape(1, -1)\n",
    "    score = cs(v1,v2)[0][0]\n",
    "    return score"
   ]
  },
  {
   "cell_type": "code",
   "execution_count": 13,
   "metadata": {},
   "outputs": [],
   "source": [
    "# apply the classifier to a new description\n",
    "\n",
    "description = \"this is a text about the GDR and Berlin\"\n",
    "lang = \"en\"\n",
    "how_many_results = 50\n",
    "\n",
    "model = model_dict[lang]\n",
    "emb = text_embedding(description,model)"
   ]
  },
  {
   "cell_type": "code",
   "execution_count": 40,
   "metadata": {
    "collapsed": true,
    "jupyter": {
     "outputs_hidden": true
    }
   },
   "outputs": [
    {
     "name": "stdout",
     "output_type": "stream",
     "text": [
      "{'germanDemocraticRepublic'}\n",
      "[-0.012079556865407579, -0.010485933730658467, -0.014580406899242053, 0.031358638020258615, -0.029932400377748348, 0.010504350412787609, -0.011128717253720161, -0.04463270201177341, 0.007910225738675933, 0.04641123058832468, 0.019241045910076658, 0.0027314927562094252, -0.0027289968233613206, 0.001794673255026209, 0.00761892810634334, -0.05021791710987082, -0.024420454189086272, -0.011123543782360974, 0.016019292179520993, 0.049480504048255686, -0.015610096776421185, 0.04155833052725311, -0.05802365635689005, -0.027019738614002472, -0.026283239246494592, -0.01017227928151301, 0.008088999880262751, -0.005203467523201399, 0.007093956546378419, 0.017059169028154127, -0.03473544589487915, 0.06447181237441654, -0.058598261331002266, 0.04361457112771845, 0.01740793189406, -0.039732568453874094, -0.017632184570687895, -0.015770965631290827, 0.0234168842573575, -0.020006101962598312, 0.024343995485479487, -0.0162207009670641, -0.004553796852408873, -0.001076497347488918, 0.0038368056237783627, 0.00022875046383838822, 0.014979440970557973, 0.004893134244181867, 0.030271069755936394, -0.01831843911418558, 0.014662852738917544, -0.025744685464630303, -0.012142338065462494, 0.007294788777160804, -0.035605981032824835, 0.006079883098321284, -0.001396188965486217, 0.019093009337656956, -0.016562388599295156, 0.04401941109475878, -0.003190138211680999, -0.050522645080891486, 0.07097328655870241, -0.03145264891007348, -0.004494850967881078, -0.0418109063827238, -0.03185702501219934, -0.01046610097086572, -0.028524112093295962, -0.00637675359022131, -0.021456657464560654, 0.0036675401396193573, 0.026306954314887488, -0.022603093738982918, -0.016868146428827713, -0.0023344984168155516, 0.05291223358069939, 0.05245023261686617, -0.000493701709722967, -0.009822666166954236, 0.016043803736004843, 0.03182987629547614, -0.023230882271074792, -0.0031697548754228205, -0.013041545290418186, -0.01044451175825515, -0.015975053686114408, 0.00554831724553093, -0.011418999972424078, -0.02850141079303724, 0.011912143983648147, -0.011485436351961371, 0.06301645186720403, -0.06355674411382901, 0.002980729797790768, 0.01065557858683573, 0.002753306659928651, 0.02317005567907184, -0.00986743852408288, -0.007953913352343389, -0.0037785876890498176, -0.02025728849163866, 0.03698707743020742, -0.02175306547013027, -0.03979274193347971, -0.009371847707425612, -0.04682550767677008, 0.022801678542704748, 0.0042889336635708614, -0.003381789211938603, -0.006754835770816301, -0.013807825371985556, -0.0263544625857415, -0.027305127404959523, 0.015808611675875873, -0.014384171122081553, 0.023757666585617458, 0.039070250486630424, 0.0031956780581017313, 0.028015911542664886, 0.0579220625610032, 0.024956700559815626, -0.04321231792564107, 0.07759462973519655, 0.012288968848530082, -0.019715300948671913, 0.03689941236161454, 0.020401646319408325, 0.02832577734416163, 0.027612733156668203, 0.015413052090228552, 0.028734926479333643, -0.010958430114183588, -0.016962386215992883, -0.017855206800082526, 0.014052660016548247, -0.018570810245010904, -0.0025571608667574208, -0.0021823169974507562, 0.05199611490011991, 0.00662598042578394, 0.031660320872635234, 0.04043404681425687, 0.01611284890232465, 0.017262858480883332, 0.07577428698747873, -0.009751869257604772, -0.011996899660023999, 0.004150294697671494, 0.017422517163554765, 0.025904537156887463, -0.04323080278003109, -0.01342283689571762, -0.004236784585052784, -0.040487271531814285, -0.02669850651295212, -0.016398872872247998, -0.023584221860980494, 0.047277178952540966, 0.021849983275957486, -0.014644198371470978, 0.07309854791062823, -0.03431794715440446, 0.005894411771065229, 0.067163126598576, -0.014644530803265452, -0.012568221777709228, -0.007157383814885535, 0.05084909822591901, -0.014467752471581165, -0.05554312683427638, -0.03191194396792398, -0.04936258777261921, -0.002480492801933068, -0.03377864812705384, 0.04236216864146338, 0.00754070129593235, 0.023713699732328602, -0.019077829521082813, -0.024659827898894374, 0.0010136330612082727, -0.024941121788119944, -0.008017137625316704, 0.033096147734790825, -0.008566574573966668, 0.06255271754557402, 0.009223907103526005, -0.02779104523599162, 0.046859676860480315, 0.00014696184953082972, -0.00930200669674949, -0.07615638939873723, 0.031511569610783934, 0.02290266409329476, -0.0274364456345232, -0.018451576295736655, -0.021908483993995656, -0.0033345880851698645, -0.052527875135547075, -0.029157476028857578, 0.031192455031508727, -0.015265577870697773, -0.007250275618317359, 0.019107318226210642, 0.011882561778759716, -0.02982739368987093, -0.04049844449256419, 0.00026899995295970764, 0.039360049482519394, 0.03590263397978231, 0.0875011192818726, -0.005292506859749025, 0.023736457384910842, -0.00801126620274764, 0.003841828021347047, -0.018883346861971545, -0.00047862782848324693, -0.07673249546454539, -0.03270815788725749, -0.009083250319929879, -0.016178713974738586, -0.019499558833204863, -0.05168515372917452, 0.04081622934474261, -0.0152366367974991, 0.00018056609124794746, -0.033965792880383726, -0.03080537048515063, 0.016161205989546613, -0.0010794614793150276, 0.02764744442555221, 0.020677085134340967, -0.026757607245153116, 0.005069471248031784, -0.014603544643051797, 0.030284147305645607, 0.01889408705935855, -0.012671929424891813, -0.00851143155755641, 0.010414325543171545, -0.005871134442096152, -0.0003592243616204498, 0.03887991596956649, -0.013548473870620314, -0.007786707913291925, 0.029710460693801274, 0.02677918127369894, -0.00032981409577599596, -0.005665272609177401, 0.007409534816572724, 0.0035211105742871105, 0.008651559096668785, -0.025276453191794047, -0.01659457243321677, -0.023510964278614176, 0.016109801717829914, -0.02601593163650611, -0.042739414159101104, -0.005287994710985218, -0.009323194727202883, -0.00016263630119246728, 0.03293766907109587, 0.008965115310535003, 0.004725129305559958, -0.03441159419590464, -0.015144126530262947, 0.005960112261772394, 0.012326898432664197, -0.007181859961978926, -0.030422077409493885, -0.04984321982297201, 0.004571116730847729, 0.008569257404516788, 0.025323634171664725, -0.030195827818373343, -0.026351016815954528, 0.02548186924270739, 0.06839302829445341, 0.0347788212021841, -0.010839983612606267, 0.007875329884295158, 0.0005962313377663265, -0.004190034430157478, 0.009372234730799487, 0.042063816769887505, 0.01460860507540357, 0.01642467929298098, 0.026309689299660093, -0.04288348636860161, 0.022176721988861704, 0.019293865928305443, -0.022533925703087904, 0.004052810548878592, 0.03592777090436957, 0.004113485190183738, -0.035933827555840445, -0.031425390410232006, 0.037176635713392574, 0.012742851684032514, 0.008152070287049168]\n"
     ]
    }
   ],
   "source": [
    "ranking = [[doc_names[x],labels[x],texts[x],embs[x],cossim(embs[x],emb)] for x in range(len(embs))]\n",
    "\n",
    "ranking.sort(key=lambda x: x[4],reverse=True)\n",
    "\n",
    "ranking = ranking[:how_many_results]\n",
    " \n",
    "rel_topics = set([x[1] for x in ranking])\n",
    "\n",
    "all_res_embs = [float(sum(col))/len(col) for col in zip(*[x[3] for x in ranking])]"
   ]
  },
  {
   "cell_type": "code",
   "execution_count": 82,
   "metadata": {},
   "outputs": [
    {
     "name": "stdout",
     "output_type": "stream",
     "text": [
      "Missing Langs: {'Maltese', 'Norwegian'} Missing Embs: 18\n"
     ]
    }
   ],
   "source": [
    "import os,pandas\n",
    "\n",
    "all_topic_words = []\n",
    "\n",
    "for topic in rel_topics:\n",
    "    for file in os.listdir(\"Taxonomies/\"):\n",
    "        if topic.lower() in file.lower():\n",
    "            file_errors_location = 'Taxonomies/'+file\n",
    "            df = pd.read_excel(file_errors_location)\n",
    "            words = df.iloc[:,0].tolist()\n",
    "            words = [x.split(\"/\")[-1].replace(\"_\",\" \") for x in words]\n",
    "            langs = df.iloc[:,1].tolist()\n",
    "            emb = text_embedding(description,model_dict[lang])\n",
    "            topic_words = [[words[x],langs[x],text_embedding(words[x],model_dict[langs[x]])] for x in range(len(words)) if langs[x] in model_dict]\n",
    "            miss_emb = len(topic_words)\n",
    "            topic_words = [x for x in topic_words if x[2] is not None]\n",
    "            miss_emb -= len(topic_words)\n",
    "            print (\"Missing Langs:\",set([langs[x] for x in range(len(langs)) if langs[x] not in model_dict]), \"Missing Embs:\",miss_emb)\n",
    "            all_topic_words += topic_words\n",
    "\n",
    "            \n",
    "topic_ranking = [[topic_words[x][0],cossim(topic_words[x][2],all_res_embs)] for x in range(len(topic_words))]\n",
    "\n",
    "topic_ranking.sort(key=lambda x: x[1],reverse=True)          "
   ]
  },
  {
   "cell_type": "code",
   "execution_count": 85,
   "metadata": {},
   "outputs": [
    {
     "name": "stdout",
     "output_type": "stream",
     "text": [
      "Most relevant topics: Treaty on the Final Settlement with Respect to Germany, Bundesbeauftragter für die Stasi-Unterlagen, Die Wende, Democratic Women's Federation of Germany, Allemagne de l'Est, State Secretariat for Church Affairs, Communist Party of Germany (KPD), Two Plus Four Agreement, Ministerium für Staatssicherheit, Ernst Thälmann Pioneer Organisation\n",
      " \n",
      "['MfS–Wachregiment „Feliks E. Dzierzynski“ (WR Berlin) – Tonaufnahmen [= WR Berlin-Tb]:F952135', 'germanDemocraticRepublic'] 0.868\n",
      "['Verzeichnis der Filme und Videos des Ministeriums für Staatssicherheit der DDR:F921180', 'germanDemocraticRepublic'] 0.866\n",
      "['Verzeichnis der Filme und Videos des Ministeriums für Staatssicherheit der DDR:F921180', 'germanDemocraticRepublic'] 0.866\n",
      "['SED-Kreisleitung im Ministerium für Staatssicherheit [= SED-KL]:F921175', 'germanDemocraticRepublic'] 0.865\n",
      "['Verzeichnis der Filme und Videos des Ministeriums für Staatssicherheit der DDR:F921180', 'germanDemocraticRepublic'] 0.863\n",
      "['MfS–Hauptabteilung II – Tonaufnahmen [= HA II-Tb / HA II-Ka]:F1118014', 'germanDemocraticRepublic'] 0.863\n",
      "['Arbeitsgruppe XXII (Terrorabwehr), MfS-Bezirksverwaltung Gera [= Gra AG XXII]:F1074370', 'germanDemocraticRepublic'] 0.861\n",
      "['Bezirksbüro der Sportvereinigung Dresden, MfS-Bezirksverwaltung Dresden [= Ddn SV Dyn]:F891359', 'germanDemocraticRepublic'] 0.86\n",
      "['Allgemeine Sachablage der Abteilung XII (Auskunft, Speicher, Archiv), MfS-Bezirksverwaltung Gera [= Gra AS]:F1258856', 'germanDemocraticRepublic'] 0.86\n",
      "['Verzeichnis der Filme und Videos des Ministeriums für Staatssicherheit der DDR:F921180', 'germanDemocraticRepublic'] 0.86\n",
      "['Verzeichnis der Filme und Videos des Ministeriums für Staatssicherheit der DDR:F921180', 'germanDemocraticRepublic'] 0.858\n",
      "['Kreisdienststelle Greifswald, MfS-Bezirksverwaltung Rostock [= KD GW]:F988400', 'germanDemocraticRepublic'] 0.858\n",
      "['MfS–Wachregiment „Feliks E. Dzierzynski“ (WR Berlin) – Tonaufnahmen [= WR Berlin-Tb]:F952135', 'germanDemocraticRepublic'] 0.858\n",
      "['Verzeichnis der Filme und Videos des Ministeriums für Staatssicherheit der DDR:F921180', 'germanDemocraticRepublic'] 0.857\n",
      "['Abteilung Kader und Schulung, MfS-Bezirksverwaltung Leipzig [= Lpz Abt KuSch]:F1001710', 'germanDemocraticRepublic'] 0.857\n",
      "['Bezirksbüro der Sportvereinigung Dresden, MfS-Bezirksverwaltung Dresden [= Ddn SV Dyn]:F891359', 'germanDemocraticRepublic'] 0.857\n",
      "['Kreisdienststelle Greifswald, MfS-Bezirksverwaltung Rostock [= KD GW]:F988400', 'germanDemocraticRepublic'] 0.857\n",
      "['MfS-Hauptabteilung XXII (Terrorabwehr) – Fotografien [ = HA XXII-Fo / HA XXII-Di]:F921183', 'germanDemocraticRepublic'] 0.856\n",
      "['SED-Kreisleitung im Ministerium für Staatssicherheit [= SED-KL]:F921175', 'germanDemocraticRepublic'] 0.856\n",
      "['Bezirkskoordinierungsgruppe (BKG), MfS-Bezirksverwaltung Dresden [= Ddn BKG]:F1490953', 'germanDemocraticRepublic'] 0.856\n",
      "['Kreisdienststelle Greifswald, MfS-Bezirksverwaltung Rostock [= KD GW]:F988400', 'germanDemocraticRepublic'] 0.855\n",
      "['Zentrale Auswertungs- und Informationsgruppe des MfS - Organisationsspeicher [= ZAIG]:F1011860', 'germanDemocraticRepublic'] 0.854\n",
      "['Arbeitsgruppe des Ministers im MfS - Fotografien [= AGM-Fo / AGM-Di]:F919714', 'germanDemocraticRepublic'] 0.854\n",
      "['Verzeichnis der Filme und Videos des Ministeriums für Staatssicherheit der DDR:F921180', 'germanDemocraticRepublic'] 0.854\n",
      "['Verzeichnis der Filme und Videos des Ministeriums für Staatssicherheit der DDR:F921180', 'germanDemocraticRepublic'] 0.854\n",
      "['Kreisdienststelle Greifswald, MfS-Bezirksverwaltung Rostock [= KD GW]:F988400', 'germanDemocraticRepublic'] 0.853\n",
      "['Verzeichnis der Filme und Videos des Ministeriums für Staatssicherheit der DDR:F921180', 'germanDemocraticRepublic'] 0.853\n",
      "['Verzeichnis der Filme und Videos des Ministeriums für Staatssicherheit der DDR:F921180', 'germanDemocraticRepublic'] 0.853\n",
      "['Verzeichnis der Filme und Videos des Ministeriums für Staatssicherheit der DDR:F921180', 'germanDemocraticRepublic'] 0.853\n",
      "['Auswertungs- und Kontrollgruppe (AKG), MfS-Bezirksverwaltung Neubrandenburg [= Nbg AKG]:F1056278', 'germanDemocraticRepublic'] 0.852\n",
      "['Arbeitsgruppe XXII (Terrorabwehr), MfS-Bezirksverwaltung Gera [= Gra AG XXII]:F1074370', 'germanDemocraticRepublic'] 0.852\n",
      "['Sekretariat des Stellvertreters des Ministers Neiber [= Sekr Neiber]:F1647941', 'germanDemocraticRepublic'] 0.852\n",
      "['MfS-Zentrale Koordinierungsgruppe Flucht / Übersiedlung (ZKG) – Tonaufnahmen [= ZKG-Tb / ZKG-Ka / ZKG-Pl]:F1073866', 'germanDemocraticRepublic'] 0.852\n",
      "['Bezirkskoordinierungsgruppe (BKG), MfS-Bezirksverwaltung Gera [= Gra BKG]:F1475567', 'germanDemocraticRepublic'] 0.852\n",
      "['Abteilung 26, MfS-Bezirksverwaltung Leipzig [= Lpz Abt 26]:F978900', 'germanDemocraticRepublic'] 0.852\n",
      "['MfS-Abteilung 26 (Telefonüberwachung) [= Abt 26]:F999088', 'germanDemocraticRepublic'] 0.852\n",
      "['Leiter der Bezirksverwaltung, MfS-Bezirksverwaltung Rostock [= Rst Leiter]:F1475563', 'germanDemocraticRepublic'] 0.852\n",
      "['Verzeichnis der Filme und Videos des Ministeriums für Staatssicherheit der DDR:F921180', 'germanDemocraticRepublic'] 0.851\n",
      "['Sportvereinigung–Dynamo Büro der Bezirksleitung Erfurt, MfS-Bezirksverwaltung Erfurt [= Eft SV Dyn]:F1057348', 'germanDemocraticRepublic'] 0.851\n",
      "['Verzeichnis der Filme und Videos des Ministeriums für Staatssicherheit der DDR:F921180', 'germanDemocraticRepublic'] 0.851\n",
      "['Hauptverwaltung Aufklärung des Ministeriums für Staatssicherheit der DDR [= HV A]:F919730', 'germanDemocraticRepublic'] 0.851\n",
      "['Abteilung III (Funkaufklärung), MfS-Bezirksverwaltung Gera [= Gra Abt III]:F1258860', 'germanDemocraticRepublic'] 0.851\n",
      "['Teil 4: Auswertungs- und Kontrollgruppe (AKG), MfS-Bezirksverwaltung Leipzig [= Lpz AKG]:F1490949', 'germanDemocraticRepublic'] 0.851\n",
      "['Abteilung XX, MfS-Bezirksverwaltung Magdeburg [= Mgb Abt XX]:F1236931', 'germanDemocraticRepublic'] 0.851\n",
      "['Kreisdienststelle Bad Doberan, MfS-Bezirksverwaltung Rostock [= KD DBR]:F988405', 'germanDemocraticRepublic'] 0.851\n",
      "['Archivbestand 1 - Archivierte Untersuchungsvorgänge des Ministeriums für Staatssicherheit der DDR, Hauptabteilung IX (Untersuchungsorgan):F1211190', 'germanDemocraticRepublic'] 0.851\n",
      "['MfS-Hauptabteilung VI (Passkontrolle, Tourismus, Interhotel) - Tonaufzeichnungen [= HA VI-Tb / HA VI-Ka]:F850191', 'germanDemocraticRepublic'] 0.851\n",
      "['Verzeichnis der Filme und Videos des Ministeriums für Staatssicherheit der DDR:F921180', 'germanDemocraticRepublic'] 0.851\n",
      "['SED-Kreisleitung im Ministerium für Staatssicherheit [= SED-KL]:F921175', 'germanDemocraticRepublic'] 0.85\n",
      "['Hauptverwaltung Aufklärung des Ministeriums für Staatssicherheit der DDR - Audiovisuelle Archivalien [= HV A-Fo / HV A-Vi / HV A-Fi / HV A-Tb / HV A-Ka]:F919710', 'germanDemocraticRepublic'] 0.85\n"
     ]
    }
   ],
   "source": [
    "print (\"Most relevant topics:\", \", \".join([x[0] for x in topic_ranking[:10]]))\n",
    "print (\" \")\n",
    "for doc in ranking:\n",
    "    print (doc[0:2],round(doc[-1],3))\n",
    "   "
   ]
  },
  {
   "cell_type": "code",
   "execution_count": null,
   "metadata": {},
   "outputs": [],
   "source": []
  }
 ],
 "metadata": {
  "kernelspec": {
   "display_name": "Python 3",
   "language": "python",
   "name": "python3"
  },
  "language_info": {
   "codemirror_mode": {
    "name": "ipython",
    "version": 3
   },
   "file_extension": ".py",
   "mimetype": "text/x-python",
   "name": "python",
   "nbconvert_exporter": "python",
   "pygments_lexer": "ipython3",
   "version": "3.7.4"
  }
 },
 "nbformat": 4,
 "nbformat_minor": 4
}
