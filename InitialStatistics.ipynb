{
 "cells": [
  {
   "cell_type": "code",
   "execution_count": null,
   "metadata": {},
   "outputs": [],
   "source": []
  },
  {
   "cell_type": "code",
   "execution_count": 1,
   "metadata": {},
   "outputs": [
    {
     "name": "stdout",
     "output_type": "stream",
     "text": [
      "economics.json 5060 3.51 %\n",
      "germanDemocraticRepublic.json 95455 81.46 %\n",
      "genealogy.json 35295 80.6 %\n",
      "slavery.json 0 0.0 %\n",
      "maps.json 0 0.0 %\n",
      "firstWorldWar.json 52566 91.56 %\n",
      "frenchNapoleonI.json 0 0.0 %\n",
      "notaries.json 7704 21.71 %\n",
      "catholicism.json 0 0.0 %\n"
     ]
    }
   ],
   "source": [
    "import os, json,pickle\n",
    "import pandas as pd\n",
    "\n",
    "path = 'data/'\n",
    "\n",
    "\n",
    "for filename in os.listdir(path):\n",
    "    \n",
    "    with open(path+filename) as json_file:\n",
    "        data = json.load(json_file)\n",
    "    \n",
    "    ct = 0\n",
    "    for i in range(len(data[\"response\"][\"docs\"])):\n",
    "        element = data[\"response\"][\"docs\"][i]\n",
    "        if 'langMaterial' in element:\n",
    "            ct+=1\n",
    "    print (filename,ct, round(ct/len(data[\"response\"][\"docs\"])*100,2),\"%\")"
   ]
  },
  {
   "cell_type": "code",
   "execution_count": 2,
   "metadata": {},
   "outputs": [
    {
     "name": "stdout",
     "output_type": "stream",
     "text": [
      "454807\n"
     ]
    }
   ],
   "source": [
    "path = 'data/'\n",
    "\n",
    "aggregating_fields = [\"langMaterial\",\"unitTitle\",\"titleProper\",\"scopeContent\",\"topic\"]\n",
    "\n",
    "dataset = [[\"id\",\"langMaterial\",\"unitTitle\",\"titleProper\",\"scopeContent\",\"topic\",\"filename\"]]\n",
    "\n",
    "for filename in os.listdir(path):\n",
    "    \n",
    "    with open(path+filename) as json_file:\n",
    "        data = json.load(json_file)\n",
    "    \n",
    "    ct = 0\n",
    "    for i in range(len(data[\"response\"][\"docs\"])):\n",
    "        element = data[\"response\"][\"docs\"][i]\n",
    "        \n",
    "        line = [element[\"id\"]]\n",
    "        for field in aggregating_fields:\n",
    "            if field in element:\n",
    "                line.append(element[field])\n",
    "            else:\n",
    "                line.append(\" \")\n",
    "        line.append(filename)\n",
    "        dataset.append(line)\n",
    "print (len(dataset))"
   ]
  },
  {
   "cell_type": "code",
   "execution_count": 3,
   "metadata": {},
   "outputs": [],
   "source": [
    "from collections import Counter\n",
    "\n",
    "selected_dataset = [dataset[0]]+ [x for x in dataset if len(x[4])>3]\n"
   ]
  },
  {
   "cell_type": "code",
   "execution_count": null,
   "metadata": {},
   "outputs": [],
   "source": []
  },
  {
   "cell_type": "code",
   "execution_count": 4,
   "metadata": {},
   "outputs": [],
   "source": [
    "column_names = selected_dataset.pop(0)\n",
    "\n",
    "df = pd.DataFrame(selected_dataset[1:], columns=column_names)\n",
    "\n"
   ]
  },
  {
   "cell_type": "code",
   "execution_count": 5,
   "metadata": {},
   "outputs": [
    {
     "data": {
      "text/plain": [
       "[(' ', 62087),\n",
       " ('ger', 53316),\n",
       " ('fre', 7474),\n",
       " ('lav', 28),\n",
       " ('lav rus', 18),\n",
       " ('heb', 14),\n",
       " ('rus', 13),\n",
       " ('pol', 11),\n",
       " ('rus pol', 2),\n",
       " ('fre ger eng ita rus', 2),\n",
       " ('fre eng', 2),\n",
       " ('fre eng ger ita', 2),\n",
       " ('lav rus pol', 1)]"
      ]
     },
     "execution_count": 5,
     "metadata": {},
     "output_type": "execute_result"
    }
   ],
   "source": [
    "langs = []\n",
    "\n",
    "for index, row in df.iterrows():\n",
    "            langs.append(row[\"langMaterial\"])\n",
    "from collections import Counter\n",
    "\n",
    "Counter(langs).most_common()"
   ]
  },
  {
   "cell_type": "code",
   "execution_count": 8,
   "metadata": {},
   "outputs": [
    {
     "name": "stdout",
     "output_type": "stream",
     "text": [
      "fre\n",
      "ger\n",
      "lav\n",
      "rus\n",
      "heb\n",
      "pol\n"
     ]
    },
    {
     "data": {
      "text/plain": [
       "[('ger', 53316),\n",
       " ('fr', 47864),\n",
       " ('de', 10982),\n",
       " ('fre', 7474),\n",
       " ('fi', 2716),\n",
       " ('it', 313),\n",
       " ('pl', 140),\n",
       " ('sv', 42),\n",
       " ('lav', 28),\n",
       " ('lv', 21),\n",
       " ('en', 17),\n",
       " ('heb', 14),\n",
       " ('rus', 13),\n",
       " ('pol', 11),\n",
       " ('es', 10),\n",
       " ('ca', 9)]"
      ]
     },
     "execution_count": 8,
     "metadata": {},
     "output_type": "execute_result"
    }
   ],
   "source": [
    "from langdetect import detect\n",
    "\n",
    "langs = []\n",
    "\n",
    "check = set()\n",
    "\n",
    "for index, row in df.iterrows():\n",
    "    if len(row[\"langMaterial\"])==3:\n",
    "        langs.append(row[\"langMaterial\"])\n",
    "        if row[\"langMaterial\"] not in check:\n",
    "            print(row[\"langMaterial\"])\n",
    "            check.add(row[\"langMaterial\"])\n",
    "        \n",
    "    else:\n",
    "        try:\n",
    "            l = detect(row[\"unitTitle\"] +\" \"+ row[\"titleProper\"]+\" \"+ row[\"scopeContent\"])\n",
    "            row[\"langMaterial\"] = l\n",
    "            langs.append(row[\"langMaterial\"])\n",
    "        except Exception as e:\n",
    "            print (e)\n",
    "            continue\n",
    "        \n",
    "from collections import Counter\n",
    "\n",
    "Counter(langs).most_common()\n",
    "\n"
   ]
  },
  {
   "cell_type": "code",
   "execution_count": 9,
   "metadata": {},
   "outputs": [],
   "source": [
    "with open('larger_selected_dataset.pickle', 'wb') as f:\n",
    "        pickle.dump(df, f)"
   ]
  },
  {
   "cell_type": "code",
   "execution_count": null,
   "metadata": {},
   "outputs": [],
   "source": []
  }
 ],
 "metadata": {
  "kernelspec": {
   "display_name": "Python 3",
   "language": "python",
   "name": "python3"
  },
  "language_info": {
   "codemirror_mode": {
    "name": "ipython",
    "version": 3
   },
   "file_extension": ".py",
   "mimetype": "text/x-python",
   "name": "python",
   "nbconvert_exporter": "python",
   "pygments_lexer": "ipython3",
   "version": "3.7.4"
  }
 },
 "nbformat": 4,
 "nbformat_minor": 4
}
