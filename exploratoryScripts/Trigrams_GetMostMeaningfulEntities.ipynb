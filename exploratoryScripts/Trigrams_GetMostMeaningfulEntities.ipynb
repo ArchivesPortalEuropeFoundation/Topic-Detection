{
 "cells": [
  {
   "cell_type": "code",
   "execution_count": null,
   "metadata": {},
   "outputs": [],
   "source": [
    "\n"
   ]
  },
  {
   "cell_type": "code",
   "execution_count": null,
   "metadata": {},
   "outputs": [],
   "source": []
  },
  {
   "cell_type": "code",
   "execution_count": null,
   "metadata": {},
   "outputs": [],
   "source": []
  },
  {
   "cell_type": "code",
   "execution_count": null,
   "metadata": {},
   "outputs": [],
   "source": []
  },
  {
   "cell_type": "code",
   "execution_count": 1,
   "metadata": {},
   "outputs": [],
   "source": [
    "import spacy\n",
    "from utils import tools\n"
   ]
  },
  {
   "cell_type": "code",
   "execution_count": 2,
   "metadata": {},
   "outputs": [],
   "source": [
    "import pickle\n",
    "import pandas as pd\n",
    "\n",
    "langs_dict = {\"ger\":\"de\",\"fre\":\"fr\",\"it\":\"it\",\"en\":\"en\",\"sl\":\"sl\",\"pl\":\"pl\",\"fi\":\"fi\"}\n",
    "\n",
    "with open('larger_selected_dataset.pickle', 'rb') as f:\n",
    "\n",
    "#with open('selected_dataset.pickle', 'rb') as f:\n",
    "    df = pickle.load(f)\n",
    "    \n",
    "df['langMaterial'] = df['langMaterial'].map(langs_dict)\n"
   ]
  },
  {
   "cell_type": "code",
   "execution_count": 3,
   "metadata": {},
   "outputs": [
    {
     "data": {
      "text/html": [
       "<div>\n",
       "<style scoped>\n",
       "    .dataframe tbody tr th:only-of-type {\n",
       "        vertical-align: middle;\n",
       "    }\n",
       "\n",
       "    .dataframe tbody tr th {\n",
       "        vertical-align: top;\n",
       "    }\n",
       "\n",
       "    .dataframe thead th {\n",
       "        text-align: right;\n",
       "    }\n",
       "</style>\n",
       "<table border=\"1\" class=\"dataframe\">\n",
       "  <thead>\n",
       "    <tr style=\"text-align: right;\">\n",
       "      <th></th>\n",
       "      <th>id</th>\n",
       "      <th>langMaterial</th>\n",
       "      <th>unitTitle</th>\n",
       "      <th>titleProper</th>\n",
       "      <th>scopeContent</th>\n",
       "      <th>topic</th>\n",
       "      <th>filename</th>\n",
       "    </tr>\n",
       "  </thead>\n",
       "  <tbody>\n",
       "    <tr>\n",
       "      <th>0</th>\n",
       "      <td>C122304194</td>\n",
       "      <td>fr</td>\n",
       "      <td>Usine Giraud</td>\n",
       "      <td>119 J - Arnoux, fabrique de tracteurs, Miramas...</td>\n",
       "      <td>Plan des ateliers de construction V. Giraud fi...</td>\n",
       "      <td>[economics]</td>\n",
       "      <td>economics.json</td>\n",
       "    </tr>\n",
       "    <tr>\n",
       "      <th>1</th>\n",
       "      <td>C122304196</td>\n",
       "      <td>fr</td>\n",
       "      <td>Documents généraux.</td>\n",
       "      <td>119 J - Arnoux, fabrique de tracteurs, Miramas...</td>\n",
       "      <td>Historique par monsieur Hervé Arnoux (1993). C...</td>\n",
       "      <td>[economics]</td>\n",
       "      <td>economics.json</td>\n",
       "    </tr>\n",
       "    <tr>\n",
       "      <th>2</th>\n",
       "      <td>C122304197</td>\n",
       "      <td>fr</td>\n",
       "      <td>Réparations et représentations pour les automo...</td>\n",
       "      <td>119 J - Arnoux, fabrique de tracteurs, Miramas...</td>\n",
       "      <td>Garage Arnoux : vue de la façade sud, le long ...</td>\n",
       "      <td>[economics]</td>\n",
       "      <td>economics.json</td>\n",
       "    </tr>\n",
       "    <tr>\n",
       "      <th>3</th>\n",
       "      <td>C122304198</td>\n",
       "      <td>fr</td>\n",
       "      <td>Motoculteurs Arnoux.</td>\n",
       "      <td>119 J - Arnoux, fabrique de tracteurs, Miramas...</td>\n",
       "      <td>Brevet d'invention pour un petit tracteur moto...</td>\n",
       "      <td>[economics]</td>\n",
       "      <td>economics.json</td>\n",
       "    </tr>\n",
       "    <tr>\n",
       "      <th>4</th>\n",
       "      <td>C122304200</td>\n",
       "      <td>fr</td>\n",
       "      <td>Tracteurs Arnoux et leur outillage.</td>\n",
       "      <td>119 J - Arnoux, fabrique de tracteurs, Miramas...</td>\n",
       "      <td>Tracteurs type VM 10 et VM 15 : prospectus et ...</td>\n",
       "      <td>[economics]</td>\n",
       "      <td>economics.json</td>\n",
       "    </tr>\n",
       "  </tbody>\n",
       "</table>\n",
       "</div>"
      ],
      "text/plain": [
       "           id langMaterial                                          unitTitle  \\\n",
       "0  C122304194           fr                                       Usine Giraud   \n",
       "1  C122304196           fr                                Documents généraux.   \n",
       "2  C122304197           fr  Réparations et représentations pour les automo...   \n",
       "3  C122304198           fr                               Motoculteurs Arnoux.   \n",
       "4  C122304200           fr                Tracteurs Arnoux et leur outillage.   \n",
       "\n",
       "                                         titleProper  \\\n",
       "0  119 J - Arnoux, fabrique de tracteurs, Miramas...   \n",
       "1  119 J - Arnoux, fabrique de tracteurs, Miramas...   \n",
       "2  119 J - Arnoux, fabrique de tracteurs, Miramas...   \n",
       "3  119 J - Arnoux, fabrique de tracteurs, Miramas...   \n",
       "4  119 J - Arnoux, fabrique de tracteurs, Miramas...   \n",
       "\n",
       "                                        scopeContent        topic  \\\n",
       "0  Plan des ateliers de construction V. Giraud fi...  [economics]   \n",
       "1  Historique par monsieur Hervé Arnoux (1993). C...  [economics]   \n",
       "2  Garage Arnoux : vue de la façade sud, le long ...  [economics]   \n",
       "3  Brevet d'invention pour un petit tracteur moto...  [economics]   \n",
       "4  Tracteurs type VM 10 et VM 15 : prospectus et ...  [economics]   \n",
       "\n",
       "         filename  \n",
       "0  economics.json  \n",
       "1  economics.json  \n",
       "2  economics.json  \n",
       "3  economics.json  \n",
       "4  economics.json  "
      ]
     },
     "execution_count": 3,
     "metadata": {},
     "output_type": "execute_result"
    }
   ],
   "source": [
    "df.head()"
   ]
  },
  {
   "cell_type": "code",
   "execution_count": null,
   "metadata": {},
   "outputs": [],
   "source": []
  },
  {
   "cell_type": "code",
   "execution_count": null,
   "metadata": {},
   "outputs": [],
   "source": []
  },
  {
   "cell_type": "code",
   "execution_count": null,
   "metadata": {},
   "outputs": [],
   "source": []
  },
  {
   "cell_type": "code",
   "execution_count": 4,
   "metadata": {},
   "outputs": [],
   "source": [
    "topics = set([row[\"filename\"] for index, row in df.iterrows()])"
   ]
  },
  {
   "cell_type": "code",
   "execution_count": 5,
   "metadata": {},
   "outputs": [],
   "source": [
    "\n",
    "ngram_dict = {x:[] for x in topics}\n",
    "\n",
    "for index, row in df.iterrows():\n",
    "    lang = row[\"langMaterial\"]\n",
    "    #model = model_dict[lang]\n",
    "    text = row[\"unitTitle\"] +\" \"+ row[\"titleProper\"]+\" \"+ row[\"scopeContent\"]\n",
    "    text = tools.strip_punct(text)\n",
    "    topic = row[\"filename\"]\n",
    "    ngram_dict[topic] += tools.get_all_ngrams(text,3)\n"
   ]
  },
  {
   "cell_type": "code",
   "execution_count": 6,
   "metadata": {
    "collapsed": true,
    "jupyter": {
     "outputs_hidden": true
    }
   },
   "outputs": [
    {
     "name": "stdout",
     "output_type": "stream",
     "text": [
      "genealogy.json\n",
      "['la commune', 'commune de', 'de la commune', 'la commune de', 'contenu Copies', 'en français', 'du contenu Copies', 'traduction en français', 'la Serre', 'demande de', 'de la Serre', 'Catalogue des', 'des périodiquesF204609', 'Catalogue des périodiquesF204609', 'au greffe', 'de Pradt', 'Les racines', 'racines cantaliennes', 'cantaliennes de', 'Martine Aubry', 'son père', 'JeanneJoséphine Rigal', 'la fille', 'fille de', 'plus ancien', 'la seconde', 'de Georges', 'Georges Pompidou', 'canton de', 'Les racines cantaliennes', 'racines cantaliennes de', 'la fille de', 'de Georges Pompidou', 'Denis Vieyres', 'les habitants', 'Sv Aleksandra', 'Aleksandra Ņevska', 'Ņevska baznīcas', 'Stāmerienas Sv Aleksandra', 'Sv Aleksandra Ņevska', 'Aleksandra Ņevska baznīcas', 'Ņevska baznīcas pareizticīgo', 'Rīgas cietumu', 'cietumu mācītājs', 'Rīgas cietumu mācītājs', 'Bučauskas pareizticīgo', 'Bučauskas pareizticīgo draudze', 'Rīgas Alekseja', 'Alekseja pareizticīgo', 'Rīgas Alekseja pareizticīgo', 'Alekseja pareizticīgo baznīca', 'Rīgas pils', 'pils Uspenskas', 'Uspenskas pareizticīgo', 'Rīgas pils Uspenskas', 'pils Uspenskas pareizticīgo', 'Uspenskas pareizticīgo baznīca', 'Vozņesenskas baznīca', 'baznīca Verhovenskas', 'Verhovenskas pagasts', 'pagasts Ostrovas', 'Vozņesenskas baznīca Verhovenskas', 'baznīca Verhovenskas pagasts', 'Verhovenskas pagasts Ostrovas', 'Sv Nikolaja', 'Nikolaja baznīcas', 'Tukuma Sv Nikolaja', 'Sv Nikolaja baznīcas', 'Nikolaja baznīcas pareizticīgo', 'Jēzus baznīca', 'Pētera baznīca', 'Smiltenes evaņģēliski', 'draudze Smiltene', 'Smiltene Vidzemes', 'Smiltenes evaņģēliski luteriskā', 'luteriskā draudze Smiltene', 'draudze Smiltene Vidzemes', 'Vācu evaņģēliski', 'draudžu savienība', 'Vācu evaņģēliski luterisko', 'luterisko draudžu savienība', 'Sv Jēkaba', 'Jēkaba baznīca', 'Sv Jēkaba baznīca', 'Reformātu baznīca', 'Mārtiņa baznīca', 'Džūkstes Irlavas', 'Irlavas evaņģēliski', 'Džūkstes Irlavas evaņģēliski', 'Irlavas evaņģēliski luteriskā', 'Sv Jāņa', 'Jāņa baznīca', 'baznīca Rīgā', 'Sv Jāņa baznīca', 'Lubānas evaņģēliski', 'Lubānas evaņģēliski luteriskā', 'Liezeres evaņģēliski', 'Liezeres evaņģēliski luteriskā', 'rabināts Jelgava', 'Jelgava Kurzemes', 'Jelgavas rabināts Jelgava', 'rabināts Jelgava Kurzemes', 'Ļaudonas evaņģēliski', 'Ļaudonas evaņģēliski luteriskā', 'Daugavpils rabināts', 'Daugavpils rabināts Vitebskas', 'Riebiņu rabināts', 'Riebiņu rabināts Rēzeknes', 'Tirzas evaņģēliski', 'Tirzas evaņģēliski luteriskā', 'Varakļānu rabināts', 'Varakļānu rabināts Rēzeknes', 'Zemītes evaņģēliski', 'Zemītes evaņģēliski luteriskā', 'Neretas Ilzu', 'Ilzu evaņģēliski', 'draudze Jaunjelgavas', 'Jaunjelgavas apriņķis', 'Neretas Ilzu evaņģēliski', 'Ilzu evaņģēliski luteriskā', 'luteriskā draudze Jaunjelgavas', 'draudze Jaunjelgavas apriņķis', 'Jaunjelgavas apriņķis Kurzemes', 'Sv Pāvila', 'Pāvila evaņģēliski', 'Rīgas Sv Pāvila', 'Sv Pāvila evaņģēliski', 'Pāvila evaņģēliski luteriskā', 'Jaungulbenes un', 'un Vecgulbenes', 'Vecgulbenes evaņģēliski', 'Jaungulbenes un Vecgulbenes', 'un Vecgulbenes evaņģēliski', 'Vecgulbenes evaņģēliski luteriskā', 'Vidzemes guberņas', 'guberņas Kamerālvalde', 'Kamerālvalde Kamerālpalāta', 'Vidzemes guberņas Kamerālvalde', 'guberņas Kamerālvalde Kamerālpalāta', 'Krievijas 1897', '1897 gada', 'gada tautas', 'tautas skaitīšanas', 'skaitīšanas materiāli', 'materiāli Kurzemes', 'Krievijas 1897 gada', '1897 gada tautas', 'gada tautas skaitīšanas', 'tautas skaitīšanas materiāli', 'skaitīšanas materiāli Kurzemes', 'materiāli Kurzemes Vitebskas', 'Latgales revīziju', 'Engures evaņģēliski', 'Engures evaņģēliski luteriskā', 'Sv Gara', 'Gara baznīca', 'pareizticīgo Sv Gara', 'Sv Gara baznīca', 'Stendes evaņģēliski', 'Stendes evaņģēliski luteriskā', 'Popes Rindas', 'Rindas Pizes', 'Pizes evaņģēliski', 'Popes Rindas Pizes', 'Rindas Pizes evaņģēliski', 'Pizes evaņģēliski luteriskā', 'Bērzones pagasta', 'pagasta valde', 'valde Cēsu', 'Bērzones pagasta valde', 'pagasta valde Cēsu', 'valde Cēsu apriņķis', 'Ārpus Latvijas', 'iestāžu dokumenti', 'Ārpus Latvijas baznīcu', 'baznīcu iestāžu dokumenti', 'Rūjienas Dienvidu', 'Dienvidu un', 'un Ziemeļu', 'Ziemeļu evaņģēliski', 'evaņģēliski lureriskā', 'lureriskā draudze', 'Rūjienas Dienvidu un', 'Dienvidu un Ziemeļu', 'un Ziemeļu evaņģēliski', 'Ziemeļu evaņģēliski lureriskā', 'evaņģēliski lureriskā draudze', 'lureriskā draudze Valmieras', 'Vecā un', 'un Jaunā', 'Jaunā Ģertrūdes', 'Ģertrūdes baznīca', 'Vecā un Jaunā', 'un Jaunā Ģertrūdes', 'Jaunā Ģertrūdes baznīca', 'Rubenes evaņģēliski', 'draudze Ilūkstes', 'Rubenes evaņģēliski luteriskā', 'luteriskā draudze Ilūkstes', 'luteriskā vācu', 'vācu un', 'un latviešu', 'evaņģēliski luteriskā vācu', 'luteriskā vācu un', 'vācu un latviešu', 'Āraišu evaņģēliski', 'Āraišu evaņģēliski luteriskā', 'Kandavas evaņģēliski', 'Kandavas evaņģēliski luteriskā', 'Liepupes evaņģēliski', 'Liepupes evaņģēliski luteriskā', 'Ērģemes evaņģēliski', 'Ērģemes evaņģēliski luteriskā', 'Balgales evaņģēliski', 'Balgales evaņģēliski luteriskā', 'Aizkraukles evaņģēliski', 'Aizkraukles evaņģēliski luteriskā', 'Rīgas pilsētas', 'pilsētas un', 'un apriņķa', 'apriņķa mājas', 'Rīgas pilsētas un', 'pilsētas un apriņķa', 'un apriņķa mājas', 'Lutera baznīca', 'Doma baznīca', 'baznīca arī', 'arī Sv', 'Sv Māras', 'Māras baznīca', 'Doma baznīca arī', 'baznīca arī Sv', 'arī Sv Māras', 'Sv Māras baznīca', 'Rīgas vecticībnieku', 'vecticībnieku Grebenščikova', 'Grebenščikova draudze', 'Rīgas vecticībnieku Grebenščikova', 'vecticībnieku Grebenščikova draudze', 'Grebenščikova draudze Vidzemes', 'Matīšu evaņģēliski', 'draudze Bauņu', 'Bauņu pagasts', 'Matīšu evaņģēliski luteriskā', 'luteriskā draudze Bauņu', 'draudze Bauņu pagasts', 'Bauņu pagasts Valmieras', 'Lazdonas evaņģēliski', 'Lazdonas evaņģēliski luteriskā', 'Cywilnego Wilcze', 'Stanu Cywilnego Wilcze', 'Koszalin Inwentarz', 'Koszalin Inwentarz zespołu', 'Cywilnego Połczyn', 'Połczyn Zdrój', 'Stanu Cywilnego Połczyn', 'Cywilnego Połczyn Zdrój', 'Cywilnego Ostre', 'Stanu Cywilnego Ostre', 'Cywilnego Turowo', 'Stanu Cywilnego Turowo', 'Cywilnego Węgorzewo', 'Stanu Cywilnego Węgorzewo', 'Cywilnego Zegrze', 'Stanu Cywilnego Zegrze', 'Kołobrzeg Inwentarz', 'Kołobrzeg Inwentarz zespołu', 'Cywilnego Stare', 'Stanu Cywilnego Stare', 'Cywilnego Nowe', 'Stanu Cywilnego Nowe', 'Cywilnego Gwda', 'Stanu Cywilnego Gwda', 'Cywilnego Kalisz', 'Stanu Cywilnego Kalisz', 'Cywilnego Kozia', 'Stanu Cywilnego Kozia', 'Cywilnego Kościernica', 'Stanu Cywilnego Kościernica', 'Cywilnego Mielenko', 'Stanu Cywilnego Mielenko', 'de linformation', 'Bibliothèque MSH', 'Liste des', 'des acquisitions', 'acquisitions de', 'Liste des acquisitions', 'des acquisitions de', 'dune chapelle', 'chapelle à', 'contenu Original', 'copie de', 'de 1856', 'dune chapelle à', 'du contenu Original', 'copie de 1856', 'Nicolas de', 'la cour', 'cour de', 'la cour de', 'cour de Berne', 'la paroisse', 'paroisse de', 'de Champvent', 'de la paroisse', 'la paroisse de', 'Copies de', 'de textes', 'textes en', 'contenu Copies de', 'Copies de textes', 'de textes en', 'textes en allemand', 'du XIXe', 'XIXe siècle', 'ainsi que', 'du XIXe siècle', 'S 11', '11 S', 'S Pièces', 'Pièces isolées', 'isolées et', 'et petits', 'petits fonds', 'fonds entrés', 'entrés par', 'par voie', 'voie extraordinaireF1512167', 'extraordinaireF1512167 Présentation', 'Série S 11', 'S 11 S', '11 S Pièces', 'S Pièces isolées', 'Pièces isolées et', 'isolées et petits', 'et petits fonds', 'petits fonds entrés', 'fonds entrés par', 'entrés par voie', 'par voie extraordinaireF1512167', 'voie extraordinaireF1512167 Présentation', 'extraordinaireF1512167 Présentation du', 'Rodolphe Garin', 'de Cocconato', 'Série D', 'D Administration', 'Administration générale', 'générale de', 'de Nice', 'Nice première', 'première partieF1584207', 'partieF1584207 Présentation', 'Série D Administration', 'D Administration générale', 'Administration générale de', 'générale de la', 'commune de Nice', 'de Nice première', 'Nice première partieF1584207', 'première partieF1584207 Présentation', 'partieF1584207 Présentation du', 'pièces justificatives', 'justificatives de', 'avec pièces justificatives', 'pièces justificatives de', 'Reproduction dune', 'Serre et', 'de Conac', 'Conac branche', 'branche éteinte', 'éteinte au', 'au 17e', '17e siècle', 'Fonds Guy', 'Guy Sarrauste', 'Sarrauste de', 'de MenthièreF655470', 'MenthièreF655470 Présentation', 'contenu Généalogie', 'Généalogie établie', 'établie sous', 'sous Louis', 'Louis XIII', 'XIII à', 'la demande', 'de Léon', 'Léon de', 'Serre pour', 'pour attester', 'attester lorigine', 'lorigine noble', 'noble huit', 'huit quartiers', 'ses filles', 'filles Honorée', 'Honorée et', 'et MarieBarbe', 'MarieBarbe seule', 'seule descendance', 'descendance entrées', 'entrées en', 'en religion', 'religion dans', 'un couvent', 'couvent qui', 'qui exigeait', 'exigeait au', 'au moins', 'moins sept', 'sept quartiers', 'Reproduction dune généalogie', 'la Serre et', 'Serre et de', 'et de Conac', 'de Conac branche', 'Conac branche éteinte', 'branche éteinte au', 'éteinte au 17e', 'au 17e siècle', '17e siècle Fonds', 'siècle Fonds Guy', 'Fonds Guy Sarrauste', 'Guy Sarrauste de', 'Sarrauste de MenthièreF655470', 'de MenthièreF655470 Présentation', 'MenthièreF655470 Présentation du', 'du contenu Généalogie', 'contenu Généalogie établie', 'Généalogie établie sous', 'établie sous Louis', 'sous Louis XIII', 'Louis XIII à', 'XIII à la', 'à la demande', 'la demande de', 'demande de Léon', 'de Léon de', 'Léon de la', 'la Serre pour', 'Serre pour attester', 'pour attester lorigine', 'attester lorigine noble', 'lorigine noble huit', 'noble huit quartiers', 'huit quartiers de', 'de ses filles', 'ses filles Honorée', 'filles Honorée et', 'Honorée et MarieBarbe', 'et MarieBarbe seule', 'MarieBarbe seule descendance', 'seule descendance entrées', 'descendance entrées en', 'entrées en religion', 'en religion dans', 'religion dans un', 'terres', 'groupe', 'recherches', 'conservé', 'tentative', 'avait', 'porte', 'mère', 'dorigine', 'Paris', 'Bernard', 'SaintMartinCantalès', 'Raymont', 'tous', 'ancêtre', 'lacte', 'Guillaume', 'origines', 'métier', '1822', 'président', 'Corrèze', 'jeune', 'Conseil', 'Chavagnac', 'deux', 'quelques', 'près', 'ancêtres', 'Drawsko', 'réunies', 'reproductions', 'dinformations', '1982', 'Rome', 'Fondation', 'parchemin', 'fixant', 'baptêmes', 'droits', 'Decoppet', 'lusage', 'papier', 'blason', 'Robillard']\n",
      " \n",
      "frenchNapoleonI.json\n",
      "[]\n",
      " \n",
      "germanDemocraticRepublic.json\n",
      "['Operativstab ZOSF1717740', 'MfSZentraler Operativstab ZOSF1717740', 'ZOSF1717740 Enthält', 'Operativstab ZOSF1717740 Enthält', 'und Videos', 'Filme und Videos', 'Videos des', 'und Videos des', 'Videos des Ministeriums', 'der DDRF921180', 'Staatssicherheit der DDRF921180', 'Kader und', 'und Schulung', 'des Innern', 'ZOSF1717740 Enthält u', 'Kader und Schulung', 'Dresden Ddn', 'MfSBezirksverwaltung Dresden Ddn', 'Magdeburg Mgb', 'der Kreisleitung', 'im Zusammenhang', 'Abt XVF997289', 'Gra Abt XVF997289', 'MfSBezirksverwaltung Magdeburg Mgb', 'Zusammenhang mit', 'im Zusammenhang mit', 'Zentrale AuskunftSpeicher', 'XII Zentrale AuskunftSpeicher', 'und Informationsgruppe', 'Auswertungs und Informationsgruppe', 'der Hauptabteilung', 'AuskunftSpeicher Abt', 'Abt XIIMF', 'XIIMF Abt', 'Abt XIIRFF1647945', 'Zentrale AuskunftSpeicher Abt', 'AuskunftSpeicher Abt XII', 'XII Abt XIIMF', 'Abt XIIMF Abt', 'XIIMF Abt XIIRFF1647945', 'XIIRFF1647945 Enthält', 'Abt XIIRFF1647945 Enthält', 'Rückwärtige Dienste', 'der KDfS', 'der Bevölkerung', 'BStU MfS', 'Abteilung Kader', 'Berlin West', 'Abteilung Kader und', 'Erfurt Eft', 'MfSBezirksverwaltung Erfurt Eft', 'Enthält ua', 'der politischoperativen', 'der Dokumentenstelle', 'Dokumentensammlung DOSA', 'Dokumentenstelle im', 'der Dokumentenstelle im', 'Einschätzung der', 'DOSA der', 'Dokumentensammlung DOSA der', 'DOSA der Dokumentenstelle', 'Dokumentenstelle im Büro', 'min Ton', 'Hochschule des', 'des Stellvertreters', 'Mgb Abt', 'Magdeburg Mgb Abt', 'Hochschule des MfS', 'ZK der', 'XXII Terrorabwehr', 'Schulung MfSBezirksverwaltung', 'und Schulung MfSBezirksverwaltung', 'Allgemeine Sachablage', 'im Rahmen', 'Abteilung Rückwärtige', 'Abteilung Rückwärtige Dienste', 'Verbindungen Ergänzungsband', 'Ergänzungsband Abt', 'Abt XF1467515', 'Internationale Verbindungen Ergänzungsband', 'Verbindungen Ergänzungsband Abt', 'Ergänzungsband Abt XF1467515', 'der Zentralen', 'Lpz LeiterF1022818', 'Leipzig Lpz LeiterF1022818', 'LeiterF1022818 Enthält', 'Lpz LeiterF1022818 Enthält', 'im Kreis', 'der Parteiorganisation', 'Bemerkung Herausgeber', 'des Sekretariats', 'XF1467515 Bemerkung', 'Abt XF1467515 Bemerkung', 'XF1467515 Bemerkung mReko', 'des Bezirkes', '– Tonaufnahmen', '2 Dienstanweisungen', 'Teil 2 Dienstanweisungen', 'Dienstanweisungen BdLDokF1068354', '2 Dienstanweisungen BdLDokF1068354', 'Lpz AKGF1236937', 'Leipzig Lpz AKGF1236937', 'AKGF1236937 Enthält', 'Lpz AKGF1236937 Enthält', 'Angehörigen der', 'im Bereich', 'Abt XF997282', 'XF997282 Enthält', 'Verbindungen Abt XF997282', 'Abt XF997282 Enthält', 'Altsignatur MfSArchivnummer', '26 Telefonüberwachung', 'Lpz AKGF1490949', 'Leipzig Lpz AKGF1490949', 'Ministerium des Innern', 'AKGF1490949 Enthält', 'Lpz AKGF1490949 Enthält', 'Informationsgruppe des', 'XVF997289 Bemerkung', 'Abt XVF997289 Bemerkung', 'XVF997289 Bemerkung mReko', 'des ZK', 'und Informationsgruppe des', 'Informationsgruppe des MfS', 'Stellvertreters des', 'Inoffizieller Mitarbeiter', 'Stand der', 'KD HALF1258857', 'Halle KD HALF1258857', 'Rst LeiterF1475563', 'LeiterF1475563 Enthält', 'Rostock Rst LeiterF1475563', 'Rst LeiterF1475563 Enthält', 'Ton Enthält', 'für Nationale', 'MfSAbteilung 26', 'Telefonüberwachung Abt', 'Abt 26F999088', 'MfSAbteilung 26 Telefonüberwachung', '26 Telefonüberwachung Abt', 'Telefonüberwachung Abt 26F999088', 'Arbeitsgruppe XVII', 'HALF1258857 Enthält', 'KD HALF1258857 Enthält', '26F999088 Enthält', 'Abt 26F999088 Enthält', 'BStU MfS BV', 'Kontrolle der', 'Selbständiges Referat', 'Übersicht über', 'ZK der SED', 'Auskunft Speicher', 'des Stellvertreters des', 'und Verwaltung', 'XII Auskunft', 'Leitung BdL', 'der Leitung BdL', 'XII Auskunft Speicher', 'XVII Besucherbüros', '– Arbeitsgruppe XVII', 'Arbeitsgruppe XVII Besucherbüros', 'Altsignatur VSTgbNr', 'Juristische Hochschule', 'Abteilung XII Auskunft', 'Halle Hle', 'MfSBezirksverwaltung Halle Hle', 'Stellvertreters des Ministers', 'Speicher Archiv', 'Auskunft Speicher Archiv', 'anlässlich des', 'Herausgeber MfS', 'Bemerkung Herausgeber MfS', 'und Kontrolle', 'Hauptverwaltung Aufklärung', 'Ämter und', 'XIIRFF1647945 Enthält u', 'Archiv MfSBezirksverwaltung', 'Speicher Archiv MfSBezirksverwaltung', 'des Ministerrates', 'Regierungsdienststellen Partei', 'Partei Ämter', 'Verwaltung Ablage', 'Ablage IV', 'Regierungsdienststellen Partei Ämter', 'Partei Ämter und', 'Ämter und Verwaltung', 'und Verwaltung Ablage', 'Verwaltung Ablage IV', 'Juristische Hochschule des', 'MfS Organisationsspeicher', 'Organisationsspeicher ZAIGF1011860', 'des MfS Organisationsspeicher', 'MfS Organisationsspeicher ZAIGF1011860', 'Staatssicherheit Regierungsdienststellen', 'IV SdMF1716371', 'für Staatssicherheit Regierungsdienststellen', 'Staatssicherheit Regierungsdienststellen Partei', 'Ablage IV SdMF1716371', 'ZAIGF1011860 Enthält', 'Organisationsspeicher ZAIGF1011860 Enthält', 'der Bundesrepublik', 'SdMF1716371 Enthält', 'IV SdMF1716371 Enthält', 'Nbg AKGF1056278', 'Neubrandenburg Nbg AKGF1056278', 'AKGF1056278 Enthält', 'Nbg AKGF1056278 Enthält', 'Abteilung VIII', 'Durchsetzung der', 'Kreisdienststelle Eisenach', 'Deutsche Volkspolizei', 'des Kreises', 'Erich Mielke', 'DDRF921180 VHS', 'der DDRF921180 VHS', 'II Spionageabwehr', 'Bezirkskoordinierungsgruppe BKG', 'XF997282 Enthält u', 'Rahmen der', 'BdL MfSBezirksverwaltung', 'Eft BdLF1074374', 'Leitung BdL MfSBezirksverwaltung', 'BdL MfSBezirksverwaltung Erfurt', 'Erfurt Eft BdLF1074374', 'BdLF1074374 Enthält', 'Eft BdLF1074374 Enthält', 'im Rahmen der', 'Absicherung der', 'und deren', 'Abt KuSchF1001710', 'Schulung MfSBezirksverwaltung Leipzig', 'Lpz Abt KuSchF1001710', 'Deutschen Volkspolizei', 'MfS DissertationenF1074656', 'des MfS DissertationenF1074656', 'KuSchF1001710 Enthält', 'Abt KuSchF1001710 Enthält', 'der Deutschen Volkspolizei', 'SdMF1716371 Enthält u', 'Sachablage der', 'Allgemeine Sachablage der', 'Sachablage der Abteilung', 'Eisenach MfSBezirksverwaltung', 'KD ESAF1647942', 'Kreisdienststelle Eisenach MfSBezirksverwaltung', 'Eisenach MfSBezirksverwaltung Erfurt', 'Erfurt KD ESAF1647942', 'VII Ministerium', 'VII Ministerium des', 'BKG MfSBezirksverwaltung', 'Bezirkskoordinierungsgruppe BKG MfSBezirksverwaltung', 'Innern Deutsche', 'des Innern Deutsche', 'Innern Deutsche Volkspolizei', 'Sekretariat des Stellvertreters', 'Schreiben des', 'von Bürgern', 'Jahrestages der', 'Gewährleistung der', 'min Ton Enthält', 'Zusammenhang mit der', 'der Grundorganisation', 'XVF997289 Enthält', 'Abt XVF997289 Enthält', 'Inoffiziellen Mitarbeitern', 'XX Staatsapparat', 'Jahrestag der', 'Befehl Nr', 'politischoperativen Arbeit', 'Enthält nur', 'Ermittlungen zu', 'Sekretariats der', 'des Sekretariats der', 'ESAF1647942 Enthält', 'KD ESAF1647942 Enthält', 'zur Gewährleistung', 'Terrorabwehr MfSBezirksverwaltung', 'XXII Terrorabwehr MfSBezirksverwaltung', 'VVS MfS', 'Hinweise zur', 'Anleitung und', 'der Stadt', 'BV Schwerin', 'Kreisdienststelle Heiligenstadt', 'HALF1258857 Enthält u', 'Heiligenstadt MfSBezirksverwaltung', 'KD HEIF1467508', 'Kreisdienststelle Heiligenstadt MfSBezirksverwaltung', 'Heiligenstadt MfSBezirksverwaltung Erfurt', 'Erfurt KD HEIF1467508', 'HEIF1467508 Enthält', 'KD HEIF1467508 Enthält', 'Ministers Neiber', 'Arbeitsgruppe XXII Terrorabwehr', 'des Ministers Neiber', 'Tonaufnahmen HA', '– Tonaufnahmen HA', 'Beschlüsse des', 'Demokratischen Republik', 'der Volkswirtschaft', 'des ZK der', 'Deutschen Demokratischen', 'Deutschen Demokratischen Republik', 'Anleitung und Kontrolle', 'Entwicklung der', 'Neiber Sekr', 'Sekr NeiberF1647941', 'Ministers Neiber Sekr', 'Neiber Sekr NeiberF1647941', 'NeiberF1647941 Enthält', 'Sekr NeiberF1647941 Enthält', 'MfSHauptabteilung XXII', 'Umgang mit', 'Abteilung XVIII', 'Erfassung von', 'Sekretariats der Kreisleitung', 'des MdI', 'und Kontrolle der', 'der Sowjetunion', 'XVIII Volkswirtschaft', 'einen', '1988', 'unter', 'Staaten', 'sind', 'Operativen', 'Bekämpfung', 'Aktivitäten', 'Tätigkeit', '1987', 'oder', 'Angaben', 'Berichterstattung', 'Bestimmungen', 'Potsdam', 'Anweisung', 'nicht', 'Bandnummer', 'Westberlin', 'Kirche', '1986', 'Aufstellung', 'Überwachung', 'Verhinderung', 'Abteilungen', 'Planung', 'Fotos', 'Protokoll', 'ehemaligen', 'Torgau', 'anderen', 'Beschluss', 'Greifswald', 'Nutzung', 'Veranstaltungen', 'Dynamo', 'Abwehr', '1985', 'Bezirksverwaltungen', 'Protokolle', 'Ausland', 'Deutschland', 'Suhl', 'Probleme', 'politischen', 'Juni', 'Festlegungen', 'wurden', 'Beobachtung', 'Bildung', 'Technik', 'Kreisdienststellen', 'Leipziger', 'Kultur', 'Einrichtungen', 'Polen', 'während', '1984', 'Konzeption', 'Richtlinie', 'Aschersleben', 'werden', 'Dauer', 'Aufzeichnungen', 'Zeit', 'Ausreise', 'Sicherheitsdienst', 'Post', 'Objekt', 'Struktur', 'Durchführungsbestimmung', 'Situation', '1983', 'Maßnahmeplan', 'Vorkommnisse', 'Ausbildung', 'Ergebnisse', 'sozialistischen', 'Verkehr', 'Finanzen', 'Person', 'Notizen', 'HalleNeustadt', 'Operationsgebiet', 'weiteren', 'Reaktionen', 'Tagung', 'Cottbus', 'Anlage', 'Einschätzungen', 'ihrer', '1990', 'Gründung', 'Diensteinheit', 'Staatsgrenze', 'Zeitraum', 'Parteiarbeit', 'Analyse', 'Übergabe', 'VPKA', 'sowjetischen', '1982', 'Republikflucht', 'Fotografien', 'Verteidigungszustand', 'Handlungen', 'seiner', 'Untergrund', 'Jugend', 'Personenkontrolle', 'Erarbeitung', 'Vorgänge', 'Deutschlands', 'Kontakte', 'Gesellschaft', 'Unterstützung', 'Vorschlag', 'operativer', 'Übersichten', 'Postkontrolle', 'Linie', 'Mitgliedern', 'Sitzung', 'Fragen', 'westlichen', 'Aktionen', '1981', 'Vorgängen', 'Reise', 'Thema', 'Betrieben', 'verschiedenen', 'Tschechoslowakei', 'Aufnahme', 'Wirksamkeit', 'Kräfte', 'Übersiedlung', 'Objekte', 'Entwurf', 'Auflistung', 'DDRBürgern', 'Reisen', 'Material', 'Stralsund', 'Führung', 'Firma', 'Beratung', 'AfNS', 'Schriftverkehr', 'Sicherstellung', 'Referates', 'Qualifizierung', 'März', 'Auflösung', 'sozialistischer', '1980', 'Treffen', 'Negative', 'Kandidaten', 'Nationalen', 'Öffentlichkeitsarbeit', 'Objekten', 'Apolda', 'Waffen', 'Stellungnahmen', 'Kopien', 'militärischen', 'Bewaffnung', 'Realisierung', '1953', 'GSSD', 'hauptamtlichen', 'Erhöhung', 'Aufenthalt', 'Personenüberprüfungen', 'Organe', 'Bestand', 'Handschriftliche', 'Organisationen', 'Gruppe', 'Schutz', 'stumm', 'Technische', 'Verdacht', 'Vorsitzenden', 'Verantwortungsbereich', 'Kaderarbeit', 'Abschlussbericht', 'tschechoslowakischen', 'Positive', 'verschiedener', 'Vorgang', 'Frankfurt', 'Akten', 'UdSSR', 'Dokumentation', 'Dienstliche', 'Juli']\n",
      " \n",
      "firstWorldWar.json\n",
      "['Kriegschemikalien AGF1533282', 'AGF1533282 Enthält', 'Kriegschemikalien AGF1533282 Enthält', 'Königliches MilitärkabinettF1533193', 'MilitärkabinettF1533193 Enthält', 'Königliches MilitärkabinettF1533193 Enthält', 'und Gardekorps', 'Gardekorps der', 'Armeekorps und Gardekorps', 'und Gardekorps der', 'Gardekorps der Preußischen', 'Preußischen ArmeeF1537206', 'der Preußischen ArmeeF1537206', 'ArmeeF1537206 Enthält', 'Preußischen ArmeeF1537206 Enthält', 'des Kreuzergeschwaders', 'Présentation du', 'du contenu', 'Présentation du contenu', 'Chef des Kreuzergeschwaders', 'Kreuzergeschwaders der', 'Kaiserlichen MarineF1538083', 'des Kreuzergeschwaders der', 'Kreuzergeschwaders der Kaiserlichen', 'der Kaiserlichen MarineF1538083', 'MarineF1538083 Enthält', 'Kaiserlichen MarineF1538083 Enthält', 'des Reichsarchivs', 'la Première', 'Première guerre', 'correspondance plans', 'durant la', 'la Première guerre', 'Nice et', 'AGF1533282 Enthält ua', 'les Niçois', 'Niçois durant', 'guerre mondialeS92', 'mondialeS92 Présentation', 'Nice et les', 'et les Niçois', 'les Niçois durant', 'Niçois durant la', 'durant la Première', 'Première guerre mondialeS92', 'guerre mondialeS92 Présentation', 'mondialeS92 Présentation du', 'der Luftschiffertruppe', 'Le Suire', 'Luftschiffertruppe der', 'Preußischen ArmeeF1538201', 'ArmeeF1538201 Enthält', 'Einheiten der Luftschiffertruppe', 'der Luftschiffertruppe der', 'Luftschiffertruppe der Preußischen', 'der Preußischen ArmeeF1538201', 'Preußischen ArmeeF1538201 Enthält', 'Verzeichnis der', 'des Schutzgebietes', 'Suire Günther', 'Le Suire Günther', 'Günther vF1536089', 'Suire Günther vF1536089', 'vF1536089 Enthält', 'Günther vF1536089 Enthält', 'Gouvernement des', 'Gouvernement des Schutzgebietes', 'Schutzgebietes KiautschouF1537583', 'des Schutzgebietes KiautschouF1537583', 'Kaiserliches Generalgouvernement', 'Collection daffichesF212462', 'KiautschouF1537583 Enthält', 'Schutzgebietes KiautschouF1537583 Enthält', 'Festungen und', 'Gouvernements Festungen', 'und Kommandanturen', 'Kommandanturen der', 'Gouvernements Festungen und', 'Festungen und Kommandanturen', 'und Kommandanturen der', 'Kommandanturen der Preußischen', 'MarineF1538083 Enthält ua', 'Preußischen ArmeeF1536888', 'der Preußischen ArmeeF1536888', 'ArmeeF1536888 Enthält', 'Preußischen ArmeeF1536888 Enthält', 'der Flieger', 'vF1536089 Enthält ua', 'der Heeresarchive', 'victimes de', 'de France', 'Schlacht bei', 'victimes de guerre', 'des Chefs', 'Übersicht über', 'und deren', 'aD von', 'auch Organisationsgeschichte', 'Enthält auch Organisationsgeschichte', 'MilitärkabinettF1533193 Enthält auch', 'des affaires', 'Enthält Manuskripte', 'HeeresF1536668 Enthält Manuskripte', 'des Heeres', 'Auszüge aus', 'in Belgien', 'der Reichskanzlei', 'cm K', 'Enthält Geschütze', 'FeldzeugmeistereiF1533272 Enthält Geschütze', 'Generalgouvernement BelgienF1536758', 'Kaiserliches Generalgouvernement BelgienF1536758', 'BelgienF1536758 Enthält', 'Generalgouvernement BelgienF1536758 Enthält', 'des Generalstabes', 'Direction des', 'Korrigierte Manuskripte', 'Übersicht über die', 'Reichsarchivs mit', 'des Reichsarchivs mit', 'Enthält Korrigierte', 'HeeresF1536668 Enthält Korrigierte', 'Tee und', 'et victimes', 'et victimes de', 'Enthält Korrigierte Manuskripte', 'de loi', 'combattants et', 'combattants et victimes', 'Bleuet de', 'Richtlinien für', 'in Frankreich', 'für Kaffee', 'Bleuet de France', 'Schriftwechsel des Reichsarchivs', 'Kaffee Tee', 'des Feldheeres', 'Kaffee Tee und', 'cm Kanone', 'civiles et', 'während des', 'Tätigkeit der', 'des Weltkriegswerks', 'civiles et du', 'Liste der', 'für Kaffee Tee', 'Kommandeur der', 'der Luftstreitkräfte', 'Rundbild von', 'deren Ersatzmittel', 'Tee und deren', 'und deren Ersatzmittel', 'und ihre', 'Erzberger MatthiasF1538386', 'Auszug aus', 'Chefs der', 'Materialsammlung Kriegsgeschichtliche', 'Materialsammlung Kriegsgeschichtliche Forschungsanstalt', 'MatthiasF1538386 Enthält', 'Erzberger MatthiasF1538386 Enthält', 'Chinesische Schriftzeichen', 'affaires civiles', 'Generalstabes des', 'des Krieges', 'Korrespondenz Kriegsgeschichtliche', 'Korrespondenz Kriegsgeschichtliche Forschungsanstalt', 'Kriegsausschuß für', 'Kriegsausschuß für Kaffee', 'anciens combattants', 'des prises', 'des affaires civiles', 'Abschriften aus', 'des Generalstabes des', 'Ersatzmittel GmbHF1533648', 'deren Ersatzmittel GmbHF1533648', 'plans photos', 'correspondance plans photos', 'nationale du', 'des Chefs der', 'Heeresgruppen des', 'Heeresgruppen des Deutschen', 'GmbHF1533648 Enthält', 'Ersatzmittel GmbHF1533648 Enthält', 'der Generalität', 'du sceau', 'Direction des affaires', 'affaires civiles et', 'et du sceau', 'der britischen', 'Deutschen HeeresF1536618', 'des Deutschen HeeresF1536618', 'Enthält Chinesische', 'KiautschouF1537583 Enthält Chinesische', 'Enthält Chinesische Schriftzeichen', 'du Conseil', 'Justice Direction', 'Justice Direction des', 'FeldartillerieRegimenter der', 'FeldartillerieRegimenter der Preußischen', 'Freiherr von', 'HeeresF1536618 Enthält', 'Deutschen HeeresF1536618 Enthält', 'des anciens', 'Zusammenstellung der', 'Preußischen ArmeeF1537751', 'der Preußischen ArmeeF1537751', 'Regelung der', 'AGF1533282 Enthält va', 'ArmeeF1537751 Enthält', 'Preußischen ArmeeF1537751 Enthält', 'des anciens combattants', 'während der', 'Organisation der', 'Schriftzeichen Eintragungen', 'Die Schlacht', 'Landstreitkräfte der', 'Landstreitkräfte der Kaiserlichen', 'dans les', 'sceau 18501964F973043', 'du sceau 18501964F973043', 'Kommandeur der Flieger', 'Generalität und', 'der Generalität und', 'Chinesische Schriftzeichen Eintragungen', 'Kaiserlichen MarineF1536772', 'der Kaiserlichen MarineF1536772', 'Conseil des', 'Stand der', 'o Dat', 'Kommandierender General', 'Kommandierender General der', 'General der Luftstreitkräfte', 'Hans von', 'Geld und', 'MarineF1536772 Enthält', 'Kaiserlichen MarineF1536772 Enthält', 'Richtlinien für die', 'über eine', 'im Bereich', 'der Schlacht', 'ArmeeF1538201 Enthält Raum', 'Band des', 'Prof Dr', 'des Heeresarchivs', 'Chefs der Heeresarchive', 'Lage', 'sowie', 'Febr', 'Entwurf', '1942', 'beim', 'pour', '1941', 'Druck', '1920', '1940', '1939', '1937', '1943', '1933', '1938', 'Ende', '1936', 'August', 'Wirtschaft', '1935', 'oDat', 'Friedrich', 'deutscher', 'InfanterieRegiment', 'französischen', 'April', '1944', 'Verwaltung', 'Befehle', 'wegen', 'Bestimmungen', '1924', 'Fotos', 'Stellungen', 'Kolonien', 'Teil', '1913', 'London', '1921', 'Verwendung', 'Aktenauszüge', '1928', 'dossiers', 'Schreiben', 'Aufstellung', 'Fahrzeuge', 'England', '1925', 'unter', 'Offiziere', 'Straße', '06AFF', 'Behandlung', 'belgischen', 'Hamburg', 'München', 'Skizzen', 'Gruppe', '1930', '1926', 'Stellungnahme', 'Kämpfe', 'Rede', 'Sitzung', 'Holland', 'Höhe', 'Ferme', 'Deutschlands', '1945', 'Verordnung', '1932', 'Operationen', 'Besprechung', '1934', 'Truppen', 'Merkblatt', 'InfanterieDivision', 'Potsdam', 'Entwürfe', 'Kamerun', '1929', 'Fotografien', 'Protokoll', 'Verdun', 'Artillerie', 'Allgemeines', 'avec', 'Nord', 'Karl', '1931', 'Wien', 'Banken', 'Vortrag', 'Deutscher', 'Industrie', 'Frage', 'Maßnahmen', 'einem', 'Mitteilungen', 'Beamten', 'Guerre', 'Walter', 'besetzten', 'Wald', 'Paris', 'Ausbildung', 'Geschichte', 'Italien', 'Anlage', 'Oberst', 'Angriff', 'seine', 'Generalleutnant', 'September', 'Stabsoffiziere', 'Kronprinz', 'Errichtung', 'Einrichtung', 'DeutschOstafrika', '1912', 'Aufgaben', 'Unterlagen', 'Zeit', 'Flandern', 'englischen', 'Jahre', 'Office', 'Verhandlungen', '1927', 'tribunaux', 'betr', 'Zeitung', 'Einsatz', 'oder', 'Erfahrungen', '1910', 'DeutschSüdwestafrika', 'Graf', 'Gutachten', 'Länder', 'Anciens', 'Rumänien', 'Maßstab', 'Fort', 'Munition', 'Major', 'Wertpapiersammelbank', 'Durchführung', 'Berliner', 'verschiedenen', '1900', 'Ausland', 'judiciaire', '1909', 'Bevölkerung', 'Meldungen', 'Übersichtskarte', '1911', 'Großen', 'Notizen', 'Zone', 'Bois', 'Gebiet', '1904', 'Auswärtigen', 'Vorbereitung', 'Armeeoberkommando', 'Westfront', 'wurde', 'Sonderdruck', 'Schacht', 'Wehrmacht', 'Nationalbank', '1889', 'Kriegsgliederung', 'Leipzig', 'seit', 'Blau', 'Otto', 'Gesellschaft', 'Paul', 'Nachrichten', 'Kriegsministeriums', 'insbesondere', 'Vermerk', 'Plan', 'Personal', 'Geschäftsverteilungsplan', 'Vorschläge', 'Gründung', 'nicht', 'neuen', 'seiner', 'wirtschaftliche', 'Heeresleitung', '19141918', 'sont', '1908', 'ehemaligen', 'Verfügungen', 'Schweiz', 'Angabe', 'Währung', 'Lammers', '1923', '1906', 'direction', 'Franz', 'Führung', 'Anfang', 'Protokolle', 'bureau', 'Gebieten', 'Weltkrieges', 'Dienstanweisung', 'Oktober', 'Ernst', 'Reiches', 'Politik', 'Türkei', 'Regierung', 'Bestände', 'Ausarbeitung', 'Staaten', 'wirtschaftlichen', 'militaires', 'Ausfuhr', 'Küste', 'Hermann', 'wurden', 'Generalmajor', 'Fragen', 'novembre', 'Archives', 'Verordnungen', '1905', 'Ersten', 'Oberstleutnant', 'Übersichten', 'Außenhandel', 'Konferenz', 'dont', 'Commission', 'Kofl', 'dabei', 'Übernahme', 'Kreditabkommen', 'einen', 'Samoa', 'früheren', '1892', 'militärischen', 'Bedeutung', 'Schloß', 'Togo', 'Finanzen', 'Geschützzubehör', 'Verteilung', 'Kirche', 'Arbeiter', 'Polen', 'preußischen', 'Abkommen', 'Gesetz', 'lorganisation', 'Somme', 'Bayern', 'Satzung', 'Ansprache', 'Jahren', 'Forschungsarbeit', 'Fritz', 'Zünder', 'relatif', 'décret', 'Alfred', '1907', 'Darstellung', 'internationalen', 'Preußen', 'Gliederung', 'Bemerkungen', 'November', 'Carl', 'Stuttgart', 'Abwicklung', 'dune', 'rapports', 'Front', 'Verhältnisse']\n",
      " \n",
      "economics.json\n",
      "['dommages de', 'dommages de guerre', 'agricoles et', 'et alimentaires', 'agricoles et alimentaires', 'de logements', 'affaires politiques', 'des affaires politiques', 'logements agréés', 'Catégories de', 'Catégories de logements', 'de logements agréés', 'PAR ORDRE', 'Du n°54B1', 'n°54B1 au', '19701982F965365 Du n°54B1', 'Du n°54B1 au', 'ORDRE CHRONOLOGIQUE', 'PAR ORDRE CHRONOLOGIQUE', 'TLX du', 'formation professionnelle', 'Produits agricoles', 'Produits agricoles et', 'des transports', 'Ministère de', 'alimentaires Premier', 'et alimentaires Premier', 'alimentaires Premier ministre', 'mise en', 'Date dagrément', 'construction 19691970F977815', 'la construction 19691970F977815', 'la santé', 'Equipe entreprise', '19691970F977815 Equipe', 'construction 19691970F977815 Equipe', '19691970F977815 Equipe entreprise', 'la Police', 'du droit', 'des médias', 'comptes rendus', 'de la Police', 'de lEtat', 'développement des médias', 'Commissariat général', 'de la santé', 'nationale Division', 'la création', 'la Mission', 'médias 19351980F966906', 'des médias 19351980F966906', 'des dommages', 'Viandes Premier', 'Viandes Premier ministre', 'des dommages de', 'Police nationale', 'Du n°54B2', 'n°54B2 au', '19701982F965365 Du n°54B2', 'Du n°54B2 au', 'la Police nationale', 'auprès du', 'contrats de', 'la commission', 'santé et', 'de lénergie', 'Commissariat général du', 'organismes de', 'agréés HLM', 'logements agréés HLM', 'Conseiller technique', 'la santé et', 'collectivités locales', 'DE LA', 'santé et de', 'le cadre', 'rendus de', 'recherche médicale', 'en matière', 'Direction dommages', 'Urbanisme Direction dommages', 'Direction dommages de', 'Santé Institut', 'Santé Institut national', 'la recherche médicale', 'médicale INSERM', 'recherche médicale INSERM', 'du Ministère', 'ministre Commissariat', 'Premier ministre Commissariat', 'ministre Commissariat général', 'du secteur', 'INSERM 19431973F971822', 'médicale INSERM 19431973F971822', 'réglement des', 'des collectivités', 'de réglement', 'national de réglement', 'de réglement des', 'réglement des dommages', 'Police nationale Division', 'et produits', 'politiques Sousdirection', 'administration territoriale', 'affaires politiques Sousdirection', 'de lIndustrie', 'Division Archives', 'nationale Division Archives', 'Division Archives documentation', 'Sousdirection administration', 'Transports Direction', 'Sousdirection administration territoriale', 'en place', 'Du n°54B3', 'n°54B3 au', '19701982F965365 Du n°54B3', 'Du n°54B3 au', 'ainsi que', 'classement par', 'projets de', 'téléphone et', 'matières premières', 'Postes téléphone', 'Postes téléphone et', 'téléphone et télécommunications', 'la gestion', 'à noter', 'projet de', 'des organismes', 'de coopération', 'dans le cadre', 'Art 13', 'la formation professionnelle', 'politiques Sousdirection administration', 'Chargé de', 'de synthèse', 'la période', 'Agriculture Direction', 'des marchés', 'du comité', 'la situation', 'organismes de recherche', 'LETTRES NOTES', 'du Conseil', 'des matières', 'Chargé de mission', 'Elevage Premier', 'Elevage Premier ministre', 'de décentralisation', 'la Technologie', 'de lIntérieur', 'comptes rendus de', 'classés par', 'de la commission', 'des matières premières', 'des collectivités locales', 'DOSSIER LETTRES', 'action extérieure', '19431973F971822 CR', 'INSERM 19431973F971822 CR', 'affaires financières', 'Présentation du', 'du cabinet', 'des actions', 'de lemploi', 'HLM Date', 'agréés HLM Date', 'HLM Date dagrément', 'DE TRAVAIL', 'Service audiovisuel', 'audiovisuel 19741979', '19741979 Sousdirection', 'Sousdirection audiovisuel', 'audiovisuel action', 'extérieure 1980', 'linformation Service audiovisuel', 'Service audiovisuel 19741979', 'audiovisuel 19741979 Sousdirection', '19741979 Sousdirection audiovisuel', 'Sousdirection audiovisuel action', 'audiovisuel action extérieure', 'action extérieure 1980', 'la DGRST', 'la Commission', 'Lait et', 'la production', 'Lait et produits', 'du personnel', 'rendus de réunions', 'la mise', 'de la Technologie', 'au sein', '1980 19421981F967493', 'extérieure 1980 19421981F967493', 'du contenu', 'par ordre', 'Archives nationales', 'produits laitiers', 'guerre 19421967F969091', 'de guerre 19421967F969091', 'Soldé CFF', 'construction 19471955F974304', 'la construction 19471955F974304', 'Présentation du contenu', 'Groupe de', 'Mission des', 'gestion des', 'CHRONOLOGIQUE Références', 'ORDRE CHRONOLOGIQUE Références', 'F 90', '90 bis', 'F 90 bis', 'DOSSIER LETTRES NOTES', 'Du n°54B5', 'n°54B5 au', '19701982F965365 Du n°54B5', 'Du n°54B5 au', '19351980F966906 DOSSIER', 'médias 19351980F966906 DOSSIER', 'du conseil', 'des Affaires', 'et produits laitiers', 'territoriale 19841986F969097', 'administration territoriale 19841986F969097', 'de son', 'DOCUMENTS DE', 'DOCUMENTS DE TRAVAIL', 'la suite', 'groupes de', 'laitiers Premier', 'produits laitiers Premier', 'laitiers Premier ministre', 'des programmes', 'lénergie et', 'du financement', 'de commerce', 'Fonds de', 'les années', 'les opérations', 'juin', 'activités', 'sociale', 'internationales', 'bureau', 'Comité', 'française', 'travaux', 'directeur', 'sociétés', 'rapport', 'Culture', 'pays', 'sous', 'détudes', 'préparation', 'dossier', 'octobre', 'janvier', 'décret', 'publics', 'cette', 'mars', 'dont', 'industrielles', 'novembre', 'INTRODUCTION', 'deux', 'leur', 'notamment', 'région', 'puis', 'Travail', '1985', 'supérieur', '1983', 'budget', 'divers', 'organisation', 'diverses', 'septembre', 'informatique', 'PRESSE', 'partie', 'dinformation', 'Société', 'scientifiques', 'questions', 'fonctionnement', 'avril', 'sociales', 'février', 'établissements', 'département', 'fait', 'plans', 'interministériel', 'Relations', 'sécurité', 'générales', 'comités', 'architectes', 'date', 'Préparation', 'Développement', 'Rapports', 'enquêtes', 'sousdirection', 'également', 'était', 'publique', 'interministérielle', 'généraux', 'Services', 'Secrétariat', 'même', 'aussi', 'août', '1988', '1972', 'problèmes', 'départements', '1987', 'National', 'administrative', 'cartons', 'suivi', 'relatifs', 'versements', 'être', 'contre', 'promotion', 'sans', 'centrale', 'Politique', 'Organisation', 'aides', 'Généralités', 'contrôle', 'leurs', 'autres', 'réforme', 'DHLM', 'nouvelles', 'prix', 'textes', 'Etudes', 'avant', 'donc', 'commissions', 'régional', 'Nationale', 'administratives', 'mais', 'chef', '1993', 'régionales', 'secteurs', '1978', 'Elle', 'Documentation', 'Télécommunications', 'crédits', 'civile', 'coordination', '1971', 'très', 'procèsverbaux', '1968', 'publiques', 'alphabétique', 'européenne', 'réglementation', 'sciences', '1975', 'régionaux', 'Correspondance', 'régions', 'lorganisation', 'conventions', 'centres', 'Département', 'domaine', '1976', 'titre', 'équipements', '1977', 'lenseignement', 'Pour', 'recherches', 'lensemble', 'aménagement', 'particulier', 'finances', 'tutelle', 'matériel', 'président', 'concerne', '1966', '1989', 'chaque', 'articles', 'Notes', 'délégués', 'Cette', 'conditions', 'cours', 'membres', '1964', 'SOMMAIRE', 'moyens', 'darchives', 'secrétaire', 'grands', 'relatives', 'linformatique', 'commercial', '1965', 'chargés', '1992', 'Corse', 'protection', 'police', 'avis', 'Programme', 'Enseignement', 'Commerce', 'demandes', 'premier', 'SGCI', 'personnels', 'attributions', 'Pierre', 'dadministration', 'sagit', 'subventions', 'étrangers', 'daide', 'soit', 'statistique', 'technologique', 'tous', 'lors', '1997', 'après', 'planification', 'versé', 'électroniques', 'Coopération', 'structures', 'lactivité', 'Budget', '1995', 'livre', 'Générale', 'séances', 'Justice', 'tout', 'diffusion', '1959', 'depuis', 'électriques', 'participation', 'effectué', 'secrétariat', 'déquipement', 'Chef', '1960', 'ayant', 'quelques', 'technologies', 'rural', 'Création', 'chronologique', 'fonctions', 'base', 'sociaux', 'directement', 'pièces', 'temps', 'dactivité', 'terme', 'Monsieur', 'portant', 'République', 'financiers', 'préfets', 'avait', 'présent', 'procédure', 'trois', 'culturelles', 'PARIS', 'biens', 'annuelle', 'tourisme', 'décisions', 'différents', 'Michel', 'officiels', 'scolaire', '1963', 'daction', 'investissements', 'civiles', 'Jean', 'interventions', 'DOMTOM']\n",
      " \n",
      "slavery.json\n",
      "['de couleur', 'CAOM DPPC', 'FR CAOM DPPC', 'xviiie siècle', 'DPPC GR', 'CAOM DPPC GR', 'labolition de', 'la famille', 'la colonie', 'relative à', 'à partir', 'relatives à', 'la période', 'ainsi que', 'de la famille', 'gens de', 'la chambre', 'Affaires étrangères', 'abolitionsS13 Dans', 'leurs abolitionsS13 Dans', 'colonies françaises', 'La Rochelle', 'les côtes', 'et autres', 'Archives nationales', 'de lhabitation', 'plus particulièrement', 'labolition de lesclavage', 'côtes dAfrique', 'Archives départementales', 'partir de', 'des greffes', 'les articles', 'des Affaires étrangères', 'y trouve', 'Collection des greffes', 'gens de couleur', 'sur les côtes', 'du sieur', 'du Havre', 'de la colonie', 'provenant de', 'de Cayenne', 'à partir de', 'de nouveaux', 'Collection communale', 'particulièrement les', 'État des', 'la marine', 'du gouverneur', 'la répression', 'Dans le', 'en particulier', 'chambre de', 'la chambre de', 'des biens', 'xixe siècle', 'navires négriers', 'Mémoires et', 'la situation', 'les Anglais', 'la Louisiane', 'greffes registres', 'des greffes registres', 'en Afrique', 'articles suivants', 'du ministère', 'mémoire sur', 'nouveaux libres', 'la Réunion', 'marquis de', 'Mémoire sur', 'consultera plus', 'consultera plus particulièrement', 'tous les', 'de ces', 'de Paris', 'On y trouve', 'E 35', '1 E 35', 'abolitionsS13 Cette', 'leurs abolitionsS13 Cette', 'Série géographique', 'la Révolution', 'de marchandises', 'du Roi', 'abolitionsS13 Dans le', 'état des', 'ministère des', 'à Paris', 'de cette', 'du conseil', 'comte de', 'détat civil', 'greffes registres desclaves', 'conseil supérieur', 'AE BIII', 'Arrêt du', 'Dans le fonds', 'en vue', 'de Louis', 'plus particulièrement les', 'aux Archives départementales', 'Lettre de', 'répression de', 'répression de la', '’ esclavage', 'les articles suivants', '17 U', 'colonie de', 'de nombreux', 'contre les', 'État civil', 'de nouveaux libres', 'COL C14', 'CAOM COL C14', 'ministère des Affaires', '61 J', 'CAOM 2601', 'FR CAOM 2601', 'de La Rochelle', 'le sieur', 'de visite', 'on consultera', 'droit de', 'Lettre du', 'par ordre', 'Tribunal de', 'de Bourbon', 'la liberté', 'et de nouveaux', 'du Cap', 'l ’ esclavage', 'la répression de', 'COL C7A', 'CAOM COL C7A', 'COL G1', 'CAOM 3201', 'FR CAOM 3201', '2601 COL', 'CAOM 2601 COL', 'des prises', 'mémoires et', 'de la chambre', 'des papiers', 'de lAmérique', 'nombre de', 'la partie', 'supérieur de', 'labolition de la', 'îles dAmérique', 'CAOM COL G1', 'Enregistrement des', 'on consultera plus', 'Secours aux', 'Toussaint Louverture', 'relative à la', 'la rivière', 'par les Anglais', 'de la marine', 'navire négrier', 'les côtes dAfrique', 'relatives à la', 'départementales de', 'de labolition', 'Cette soussérie', 'E 36', 'des ÉtatsUnis', 'COL C8A', 'CAOM COL C8A', '3201 COL', 'CAOM 3201 COL', 'Ce fonds', 'de lAfrique', 'négociants de', 'particulièrement les articles', 'hommes de', 'Dossiers de', 'instance de', 'de la Louisiane', 'des côtes', 'la suite', 'Archives départementales de', 'nationales doutremer', 'Archives nationales doutremer', 'la première', '1 E 36', 'partie de', 'Guyane française', 'Conseil dÉtat', 'du Conseil dÉtat', 'des actes', 'provenant de la', 'états de', 'faire la', 'par exemple', 'la Grenade', 'nègres marrons', 'la fin', 'la succession', 'compte de', 'en faveur', 'aux Archives nationales', 'la population', 'libres 1', '36 Collection', 'nouveaux libres 1', 'libres 1 E', 'E 36 Collection', '36 Collection communale', 'lhistoire de', 'mais aussi', 'Mémoires et documents', 'depuis le', '« État', 'en Amérique', 'CAOM 2701', 'FR CAOM 2701', 'décembre', 'juillet', 'fait', 'novembre', 'divers', 'octobre', '1790', 'juin', 'dossier', 'Soussérie', '1848', 'février', '1789', 'Commerce', 'affaires', 'comme', 'diverses', 'réfugiés', '1791', 'Exemples', 'après', 'décès', 'rapports', 'Registres', 'Colonies', 'bâtiments', 'même', 'septembre', 'noirs', 'collection', 'livres', 'être', 'comptes', 'procèsverbaux', 'très', 'générale', 'habitations', 'Documents', 'Lettres', 'peut', 'royale', 'politique', 'Pierre', 'dépôt', 'déclarations', 'quelques', 'capitaines', 'plusieurs', 'pièce', '1786', 'Jean', '1788', 'ladministration', 'politiques', 'Gorée', 'années', 'arrêts', 'maritime', 'contient', 'quartier', 'Minutes', 'Noir', 'adressée', '1784', 'quil', 'anglais', 'compagnies', 'également', 'police', 'sucre', 'tout', '1792', 'François', 'Madagascar', 'vaisseaux', 'demande', 'PortauPrince', 'droits', 'colonial', '1777', 'secours', 'soit', 'liste', 'voyage', 'armateurs', 'bord', 'surtout', 'ventes', 'chaque', 'concernent', 'gouvernement', 'portant', 'ayant', 'correspondances', '1831', 'SaintLouis', 'chronologique', 'révolte', 'pendant', 'occidentales', 'date', 'étrangers', 'Actes', 'conservés', 'notes', 'projet', 'traité', 'relatif', 'commandant', 'comptabilité', '1787', 'Îles', 'comprend', 'séries', 'recensements', 'cartes', 'guerre', 'minutes', 'noms', 'généraux', '1833', 'donc', 'affranchissements', 'négresses', '1767', 'instructions', 'SaintPierre', 'Population', 'lAssemblée', 'décret', 'anciens', 'société', 'commerciale', 'dindividualité', 'propriété', 'Pièces', 'toutes', 'Monsieur', 'Marseille', '1783', '1776', 'Convention', 'siècles', 'Comptes', 'Moreau', 'lassiento', 'dactes', 'sans', '1785', 'appartenant', '1845', 'souvent', 'Pour', 'décisions', 'travaux', 'lAngleterre', 'propriétaires', 'pays', 'ordonnances', 'Joseph', 'faite', 'jusquen', 'ceux', 'Elle', '1793', 'navigation', 'commerciales', 'naissances', 'volumes', '1716', 'Cour', 'destination', 'inventaire', 'ensemble', '1802', 'titres', 'enfants', 'certains', 'plans', 'chevalier', 'darmement', 'judiciaires', 'avant', 'faites', 'fort', 'militaires', 'journal', 'trois', 'Service', 'historique', 'services', 'bureau', 'recherche', 'copies', 'coloniale', 'travail', 'intéressant', 'Brésil', 'jusquau', 'frères', 'prix', 'officiers', 'ville', 'mulâtres', 'députés', 'lois', 'fils', 'plantation', 'marronnage', 'Journal', 'maison', 'encore', 'comptoirs', 'gouverneurs', 'premier', 'sousséries', 'familles', 'journaux', 'cargaison', '1763', 'Comité', 'SaintMalo', 'produit', 'Département', 'habitants', 'létat', 'classés', 'CapFrançais', 'délibérations', 'dautres', 'dAngola', 'parmi', 'commissaire', '1815', 'question', 'classement', 'sagit', 'consuls', 'daffaires', 'SainteLucie', 'Gravure', 'suppression', 'personnes', 'VIII', 'pouvoir', 'régime', 'domaine', 'nature', 'tribunal', 'Procèsverbaux', 'tables', 'projets', '1775', 'cote', 'notaire', 'Régime', 'moins', 'communes', 'début', 'nous', 'nest', 'adressées', 'Maurice', 'diplomatiques', 'château', 'classées', 'Traités', 'maîtres', 'Lorient', 'République', 'peuvent', 'parfois', 'dépenses', '1843', 'textes', 'inventaires', 'contenant', 'mariages', 'troubles', 'BasseTerre', 'mention', 'mort', 'dépêches', 'Quelques', 'renseignements', 'Voir', 'Esclavage', 'administrateurs', 'Rapport', 'Jamaïque', 'Carton', 'Monneron', 'Amirauté', '1738', 'déportés', 'Vent', 'Préfecture', 'Guerre', 'lieu', 'devant', 'paroissiaux', 'Administration', 'relativement', 'lintroduction', 'événements', 'essentiellement', 'retour', 'directeurs', 'contrat', 'Jacques', 'veuve', '1822', 'informations', 'civils', 'nombreuses', 'xviie', 'cadre', 'Surinam', 'commissaires', 'anglaise', 'échangée', 'Société', 'lEspagne', 'établissements', 'lAssiento', 'consulats']\n",
      " \n",
      "notaries.json\n",
      "['Inventaire après', 'A noter', 'Inventaire après décès', 'base de', 'de données', 'données migrée', 'migrée voir', 'base de données', 'de données migrée', 'données migrée voir', 'migrée voir contexte', 'la minute', 'la cote', 'bourgeois de', 'minute de', 'la minute de', 'au niveau', 'cote de', 'de type', 'la cote de', 'bourgeois de Paris', 'Contrat de', 'Contrat de mariage', 'notaires parisiens', 'Association des', 'Philippe Bertholet', 'Bertholet Études', 'Études et', 'parisiens en', 'en 1803', '1803 Paris', 'Paris Association', '2004 594', '594 actes', 'linformation Philippe Bertholet', 'Philippe Bertholet Études', 'Bertholet Études et', 'Études et notaires', 'et notaires parisiens', 'notaires parisiens en', 'parisiens en 1803', 'en 1803 Paris', '1803 Paris Association', 'Paris Association des', 'Association des notaires', 'Châtelet 2004 594', '2004 594 actes', '594 actes voir', 'notice 2009', 'la notice 2009', 'siècle env', 'XVIe siècle env', '1 de', 'recherche imprimé', 'de recherche imprimé', 'Fichier dit', 'dit général', 'Fichier dit général', 'linformation Fichier', 'de linformation Fichier', 'fille de', 'linformation Fichier dit', 'inventaires après', 'instruments de', 'la version', 'instrument de', 'imprimé dématérialisé', 'version intégrale', 'accessible en', 'en ligne', 'ligne par', 'la rubrique', 'rubrique Autres', 'Autres instruments', 'instrument de recherche', 'recherche imprimé dématérialisé', 'la version intégrale', 'accessible en ligne', 'en ligne par', 'ligne par la', 'par la rubrique', 'la rubrique Autres', 'rubrique Autres instruments', 'Autres instruments de', 'instruments de recherche', 'Mention dans', 'inventaires après décès', 'notaire coté', 'Mention dans le', 'du notaire coté', 'de minutes', 'seigneur de', 'du document', 'dit général XVIe', 'le classement', 'classement et', 'la cotation', 'cotation du', 'concernant le classement', 'le classement et', 'classement et la', 'et la cotation', 'la cotation du', 'cotation du document', 'Minutier 19301999', '19301999 fichier', 'du Minutier 19301999', 'Minutier 19301999 fichier', '19301999 fichier papier', 'de description', 'minutes du', 'de La', 'de minutes du', 'de lacte', 'env 30000', '30000 actes', 'siècle env 30000', 'env 30000 actes', '30000 actes par', 'par Thierry', 'Thierry Boudignon', 'par Thierry Boudignon', 'dont la', 'de la minute', 'dématérialisé dont', 'intégrale est', 'est accessible', 'imprimé dématérialisé dont', 'dématérialisé dont la', 'dont la version', 'version intégrale est', 'intégrale est accessible', 'est accessible en', 'pas de', 'fait au', 'de ses', 'liasse de', 'pages du', 'convient de', 'minutes du notaire', 'des articles', 'ne permet', 'niveau des', 'se fait', 'au niveau des', 'document Attention', 'Attention la', 'type MCRE', 'MCRE ne', 'permet pas', 'de consulter', 'consulter la', 'lacte ll', 'll convient', 'de rechercher', 'rechercher la', 'type MCET', 'MCET au', 'articles registre', 'registre ou', 'ou liasse', 'notaire Laccès', 'Laccès aux', 'aux images', 'images numérisées', 'numérisées des', 'des pages', 'répertoire se', 'description supérieur', 'supérieur Répertoire', 'notaire rubrique', 'rubrique Consulter', 'Consulter les', 'les archives', 'archives numérisées', 'numérisées associées', 'associées Origine', 'du document Attention', 'document Attention la', 'Attention la cote', 'cote de répertoire', 'répertoire de type', 'de type MCRE', 'type MCRE ne', 'MCRE ne permet', 'ne permet pas', 'permet pas de', 'pas de consulter', 'de consulter la', 'consulter la minute', 'minute de lacte', 'de lacte ll', 'lacte ll convient', 'll convient de', 'convient de rechercher', 'de rechercher la', 'rechercher la cote', 'cote de la', 'minute de type', 'de type MCET', 'type MCET au', 'MCET au niveau', 'niveau des articles', 'des articles registre', 'articles registre ou', 'registre ou liasse', 'ou liasse de', 'liasse de minutes', 'du notaire Laccès', 'notaire Laccès aux', 'Laccès aux images', 'aux images numérisées', 'images numérisées des', 'numérisées des pages', 'des pages du', 'pages du répertoire', 'du répertoire se', 'répertoire se fait', 'se fait au', 'fait au niveau', 'niveau de description', 'de description supérieur', 'description supérieur Répertoire', 'supérieur Répertoire du', 'du notaire rubrique', 'notaire rubrique Consulter', 'rubrique Consulter les', 'Consulter les archives', 'les archives numérisées', 'archives numérisées associées', 'numérisées associées Origine', 'associées Origine de', 'des inventaires', 'des inventaires après', 'vente de', 'révision 2011', 'de révision 2011', 'linformation Base', 'de linformation Base', 'notice 2007', 'la notice 2007', '2011 Date', 'révision 2011 Date', '2011 Date de', 'conseiller du', 'Vente par', 'NotairesF626905 Brèves', '03E NotairesF626905 Brèves', 'Quittance de', 'fils de', 'le concours', 'Base Miriad', 'concours de', 'avec le concours', 'le concours de', 'la suite', 'notice n°', 'Minutes A noter', 'Miriad 2', 'décès 18011850', '18011850 par', 'Boudignon avec', 'de MarieFrance', 'MarieFrance Nivet', 'Nivet et', 'central 19952012', '19952012 base', 'linformation Base Miriad', 'Base Miriad 2', 'Miriad 2 des', '2 des inventaires', 'après décès 18011850', 'décès 18011850 par', '18011850 par Thierry', 'Thierry Boudignon avec', 'Boudignon avec le', 'concours de MarieFrance', 'de MarieFrance Nivet', 'MarieFrance Nivet et', 'Nivet et du', 'Minutier central 19952012', 'central 19952012 base', '19952012 base de', 'du Roi', 'de Grasse', 'de France', 'conseiller du roi', 'Jean TROUVÉ', 'notaire Jean TROUVÉ', 'Bail par', 'Documents du', 'Documents du Minutier', 'la requête', 'linformation Documents', 'de linformation Documents', 'linformation Documents du', 'la communauté', 'Constitution par', 'actes sont', 'notaire Étienne', 'du notaire Étienne', 'héritiers de', 'Actes signalés', 'signalés par', 'linformation Actes signalés', 'Actes signalés par', '18 avril', 'dans lordre', 'requête de', 'somme de', 'de propriété', 'la requête de', 'acte du', 'Presses universitaires', 'procureur au', 'à la requête', 'sont passés', 'la succession', 'sous la', 'titres de', 'aussi notaire', 'de clients', 'de défunt', 'de succession', 'sous le', '20032012 base', '20032012 base de', 'titres de propriété', 'et de ses', 'présence de', 'Protocole A noter', 'à cause', 'en présence', 'Dossiers de', 'et titres', 'de rachat', 'A la suite', 'NotairesF626905 Dossiers', 'clients correspondance', 'correspondance origines', 'origines et', 'propriété règlements', 'règlements de', 'succession etc', '03E NotairesF626905 Dossiers', 'NotairesF626905 Dossiers de', 'Dossiers de clients', 'de clients correspondance', 'clients correspondance origines', 'correspondance origines et', 'origines et titres', 'et titres de', 'de propriété règlements', 'propriété règlements de', 'règlements de succession', 'de succession etc', 'règne de', 'ancien notaire', 'règne de Louis', '21 août', 'lhistoire de', 'Avec table', 'Louis XIV', 'aussi notaire au', 'de Louis XIV', 'Les notaires', 'le règne', 'sous le règne', 'le règne de', 'MarieFrançoise Limon', 'Limon Les', 'Paris sous', 'XIV Toulouse', 'Toulouse Presses', 'universitaires du', 'du Mirail', 'Mirail 1992', '1992 223', '223 actes', 'MarieFrançoise Limon Les', 'Limon Les notaires', 'Les notaires au', 'de Paris sous', 'Paris sous le', 'Louis XIV Toulouse', 'XIV Toulouse Presses', 'Toulouse Presses universitaires', 'Presses universitaires du', 'universitaires du Mirail', 'du Mirail 1992', 'Mirail 1992 223', '1992 223 actes', '223 actes voir', 'étude XXXIII', '1618 étude', 'relatifs à', 'linformation MarieFrançoise Limon', 'actes sont passés', 'avocat en', '16 mai', 'signalés par le', 'noter acte', '27 mars', 'les lieux', 'notariés relatifs', 'A noter acte', 'Recueil dactes', 'dactes notariés', 'Précisions sur', 'Précisions sur les', 'marchand', 'Antoine', 'comme', 'quittance', 'testament', 'Marguerite', 'épouse', 'devant', 'livres', 'alphabétique', 'Ernest', 'part', 'Jeanne', 'Michel', 'parlement', 'biens', 'Simon', 'Denis', 'deux', 'Joseph', '1645', 'Anne', 'prix', 'Mathieu', 'dudit', 'Transport', '1619', 'enfants', 'dAntibes', 'René', 'Parlement', 'Thomas', 'Dépôt', 'cahier', 'tuteur', 'père', '1625', 'ordinaire', 'écuyer', 'Geneviève', 'procuration', 'Martin', 'chambre', 'ledit', 'royal', 'place', 'autres', 'léglise', 'Chapellain', 'frère', 'Archives', 'Bontemps', 'loffice', 'Henri', '1605', 'Nice', 'clerc', 'Etienne', 'audit', 'leur', 'dinsinuation', 'quil', 'envers', 'ladite', 'mère', 'contrat', 'défunte', 'Pour', 'André', 'quittances', 'Germain', '1598', 'Cote', 'écus', 'Procuration', 'JeanBaptiste', 'environs', 'vacante', 'sise', 'Alexandre', '1554', 'Robert', '1637', 'sieur']\n",
      " \n",
      "catholicism.json\n",
      "['été effectué', 'a été effectué', '’ église', 'l ’ église', 'JeanMarie Intérieur', 'JeanMarie Intérieur Direction', 'Grade abbé', '19041998F977133 Grade abbé', 'DE LA', 'la mosquée', 'mosquée de', 'la mosquée de', 'mosquée de Paris', 'de Versailles', 'Introduction Ce', 'effectué à', 'de reconnaissance', 'reconnaissance légale', 'Introduction Ce versement', 'été effectué à', 'effectué à la', 'demande de reconnaissance', 'de reconnaissance légale', 'père Lebret', 'ont été', 'partie du', 'loi n°', 'mondiales de', 'la jeunesse', 'la ville', 'mondiales de la', 'de la jeunesse', 'Eugène Intérieur', 'Eugène Intérieur Direction', 'Félix Intérieur', 'Félix Intérieur Direction', 'lacune Intérieur', 'abbé Fonction', 'Fonction vicaire', 'lacune Intérieur Direction', 'Grade abbé Fonction', 'Emile Intérieur', 'Emile Intérieur Direction', 'Auguste Intérieur', 'Auguste Intérieur Direction', 'Michel Intérieur', 'Michel Intérieur Direction', 'Albert Intérieur', 'Albert Intérieur Direction', 'du CORIF', 'André DAMIEN', 'le cadre', 'son départ', 'M André DAMIEN', 'dans le cadre', 'de ladministrationdirection', 'ladministrationdirection de', 'affaires politiquessousdirection', 'politiquessousdirection des', 'vie associativebureau', 'légale vente', 'aliénation de', 'générale de ladministrationdirection', 'de ladministrationdirection de', 'ladministrationdirection de ladministration', 'des affaires politiquessousdirection', 'affaires politiquessousdirection des', 'politiquessousdirection des affaires', 'la vie associativebureau', 'reconnaissance légale vente', 'aliénation de biens', '19951997 Art', 'les autorités', 'Archives dassociations', 'dassociations 45', '45 As', 'As Archives', 'du RP', 'RP Lebret', 'du révérend', 'révérend père', 'le numéro', 'numéro de', 'versement 19860461', 'de substitution', '45 AS', 'Archives dassociations 45', 'dassociations 45 As', '45 As Archives', 'As Archives du', 'Archives du RP', 'du RP Lebret', 'du révérend père', 'révérend père Lebret', 'sous le numéro', 'le numéro de', 'numéro de versement', 'partie du fonds', 'Marcel Intérieur', 'Marcel Intérieur Direction', 'relative à', 'la loi n°', 'préfet de', 'coordination interministérielle', 'interministérielle des', 'mise en', 'ville de', 'des préfets', 'archives versées', 'Dossiers de', 'de coordination interministérielle', 'coordination interministérielle des', 'la ville de', 'Fonction curé', 'maire de', 'COFFY Robert', 'COFFY Robert Intérieur', 'situation de', 'M Hadj', 'Hadj ZEINA', 'technique 19901995F966202', 'de la mosquée', 'de M Hadj', 'M Hadj ZEINA', 'conseiller technique 19901995F966202', 'du conseil', 'novembre 1993', 'la Mission', 'le 10', 'Charles PASQUA', 'cadre du', 'du protocole', 'protocole signé', 'signé par', 'né le', 'est nommé', 'en janvier', 'en décembre', 'situation religieuse', 'classées par', 'par ordre', 'ordre alphabétique', 'le protestantisme', 'suivi des', 'sectes en', 'technique chargé', 'au cabinet', 'cabinet de', '19931995 Art', '’ Etat', 'M Charles PASQUA', 'le cadre du', 'cadre du protocole', 'du protocole signé', 'protocole signé par', 'à son départ', 'de la ville', 'classées par ordre', 'par ordre alphabétique', 'sectes en France', 'conseiller technique chargé', 'cabinet de M', 'congrégations féminines', 'classés par', 'Congrégations féminines', 'vente d', '’ immeuble', 'immeuble transfert', 'du siège', 'siège dons', 'legs aliénation', 'Décrets arrêtés', 'classement par', 'de congrégations féminines', 'légale vente d', 'vente d ’', 'd ’ immeuble', '’ immeuble transfert', 'immeuble transfert de', 'transfert du siège', 'siège dons et', 'et legs aliénation', 'legs aliénation de', 'M JeanLouis', 'en matière', 'Relations avec', 'Relations avec les', 'avec les autorités', 'originaux sont', 'fonds du révérend', 'du bureau', 'bureau central', 'concerne les', 'bureau central des', 'conservé sous', 'Alfred Intérieur', 'Alfred Intérieur Direction', 'MENAGER Jacques', 'MENAGER Jacques Intérieur', 'Guy Intérieur', 'Guy Intérieur Direction', 'MARTY François', 'MARTY François Intérieur', 'Fonction cardinal', 'bordereau détaillé', 'pendant la', 'de renseignements', 'notamment en', 'complète le', '’ AlsaceLorraine', 'avec bordereau détaillé', 'complète le versement', 'd ’ AlsaceLorraine', 'modification de', 'lAssemblée nationale', 'relative à la', 'de travail', '19862002F974376 A', 'A noter', 'technique 19862002F974376 A', '19862002F974376 A noter', 'M DELZANT', 'de léquipement', 'Elaboration du', 'M Daniel', 'Daniel VAILLANT', 'chargé de', 'du préfet', 'M Daniel VAILLANT', 'auprès du préfet', 'ministre Organismes', 'Organismes rattachés', 'rattachés directement', 'directement Comité', 'des douzième', 'douzième Journées', 'Journées mondiales', 'des 12es', '12es journées', 'journées mondiales', 'lAssociation JMJ', 'JMJ 97', 'Alain Juppé', 'du 22', 'Général Morillon', 'des représentants', 'à caractère', 'lors de', 'de préparation', 'le Ministère', 'des Affaires', 'Affaires étrangères', 'la Jeunesse', '19961997 Art', 'Premier ministre Organismes', 'ministre Organismes rattachés', 'Organismes rattachés directement', 'rattachés directement Comité', 'directement Comité de', 'interministérielle des douzième', 'des douzième Journées', 'douzième Journées mondiales', 'Journées mondiales de', 'des 12es journées', '12es journées mondiales', 'journées mondiales de', 'lAssociation JMJ 97', 'des Affaires étrangères', 'de la Jeunesse', '19961997 Art 2', 'Jules Intérieur', 'Jules Intérieur Direction', 'RIGAUD Maurice', 'RIGAUD Maurice Intérieur', 'Lucien Intérieur', 'Lucien Intérieur Direction', 'URTASUN Joseph', 'URTASUN Joseph Intérieur', 'Edmond Intérieur', 'Edmond Intérieur Direction', 'GOUYON Paul', 'GOUYON Paul Intérieur', 'LALLIER MarcArmand', 'MarcArmand Intérieur', 'LALLIER MarcArmand Intérieur', 'MarcArmand Intérieur Direction', 'FELTIN Maurice', 'FELTIN Maurice Intérieur', 'vicaire général', 'Fonction vicaire général', 'FRETELLIERE François', 'FRETELLIERE François Intérieur', 'VIGNANCOUR Paul', 'VIGNANCOUR Paul Intérieur', 'Frédéric Intérieur', 'Frédéric Intérieur Direction', 'FERRAND Louis', 'FERRAND Louis Intérieur', 'BELLEC Joël', 'Joël Intérieur', 'BELLEC Joël Intérieur', 'Joël Intérieur Direction', 'Gabriel Intérieur', 'Gabriel Intérieur Direction', 'GUYOT Jean', 'GUYOT Jean Intérieur', 'DE PROVENCHERES', 'DECOURTRAY Albert', 'DECOURTRAY Albert Intérieur', 'Alphonse Intérieur', 'Alphonse Intérieur Direction', 'HONORE Jean', 'HONORE Jean Intérieur', 'RODIE JeanMarcel', 'JeanMarcel Intérieur', 'RODIE JeanMarcel Intérieur', 'JeanMarcel Intérieur Direction', 'THOMAS JeanCharles', 'JeanCharles Intérieur', 'THOMAS JeanCharles Intérieur', 'JeanCharles Intérieur Direction', 'DU BOIS', 'BOIS DE', 'LA VILLERABEL', 'DU BOIS DE', 'BOIS DE LA', 'DE LA VILLERABEL', 'COLLINI André', 'COLLINI André Intérieur', 'Claude Intérieur', 'Claude Intérieur Direction', 'STOURM René', 'STOURM René Intérieur', 'VEUILLOT Pierre', 'VEUILLOT Pierre Intérieur', 'MAZERAT Henri', 'MAZERAT Henri Intérieur', 'JeanBaptiste Intérieur', 'JeanBaptiste Intérieur Direction', 'lIslam en', 'rapport du', 'juin 1993', 'des musulmans', 'musulmans de', '1994 Intérieur', '19901995F966202 1', 'lIslam en France', 'des musulmans de', 'musulmans de France', '1994 Intérieur Cabinet', 'technique 19901995F966202 1', 'recteur de', 'coupures de', 'coupures de presse', 'INTRODUCTION Ce', 'Mission des', 'lAménagement du', 'dossier', 'plus', 'documentation', 'voir', 'septembre', '2001', 'courrier', 'comme', 'fait', 'religieuses', 'quatre', 'article', 'relations', 'dune', 'JeanPaul', '1992', 'février', 'dEtat', 'diplômé', 'détudes', 'catholiques', '1981', 'avocat', 'département', 'nomination', 'répertoire', 'deux', 'diocèse', 'léglise', 'littoral', '1991', 'souspréfet', 'interministérielles', 'être', 'dautres', 'réunions', 'entreprises', 'MARTIN', 'islamiques', 'dhistoire', 'droit', '1950', '1977', 'depuis', '1979', 'relatifs', 'très', 'cultuelles', 'seconde', 'religions', 'position', 'judaïsme', 'particuliers', 'interventions', 'mais', 'Documentation', 'AlsaceMoselle', 'Interventions', 'également', 'versements', 'étrangers', 'historique', 'sera', '1999', 'trouve', 'conservées', 'conservation', 'correspondances', 'lattitude', 'clergé', 'guerre', 'notices', 'extraits', 'statut', '19441945', 'siècle', 'rapports', 'question', 'directeur', 'constitutionnel', 'soit', 'dapplication', 'devant', 'avril', 'régionales', 'communautaire', 'conditions', 'corses', 'BONNETAIN', 'octobre', 'différents', 'ministères', 'publics', 'assez', 'personnel', 'sollicitées', 'DUBOIS', 'LEFEBVRE', 'KUEHN', 'CAILLOT', 'rappport', 'commission', 'Situation', 'rivalités', 'compte', 'CCMF', 'généraux', 'liste', 'territoire', '1930', 'criminologie', 'ancien', 'élève', 'supérieures', 'Secrétaire', 'Fédération', 'française', 'étudiants', '1953', 'barreau', 'honoraire', 'jusquen', 'Yvelines', 'Section', 'finances', 'contentieux', 'Académie', 'Sciences', 'morales', 'parties', 'première', 'différentes', 'catholicisme', 'existe', 'important', 'constitué', 'dernière', 'xénophobie', 'deuxième', 'nombre', 'apporte', 'Damien', 'fondations', 'Notes', 'mosquées', 'Musulmans', 'immigration']\n",
      " \n",
      "maps.json\n",
      "['pour 1975', '1975 01011975', 'pour 1975 01011975', '1975 01011975 Plans', 'feuille renouvelée', 'renouvelée pour', 'feuille renouvelée pour', 'renouvelée pour 1975', 'au sol', 'contenu Dessin', 'du contenu Dessin', 'venäjänkielisiä merkintöjä', 'de Provence', 'Vain venäjänkielisiä', 'Vain venäjänkielisiä merkintöjä', 'et 1778', 'Cartes de Provence', '1748 et 1778', 'Plan au sol', 'communes de', 'Dessin de', 'contenu Dessin de', 'Dessin de la', 'voirie 18651869F1592033', '18651869F1592033 Présentation', 'de voirie 18651869F1592033', 'voirie 18651869F1592033 Présentation', '18651869F1592033 Présentation du', 'Nice première', 'Valtionmaan rajat', 'rajat perustuvat', 'Valtionmaan rajat perustuvat', 'la ville', 'rajat perustuvat Metsähallituksen', 'la route', 'générale de', 'générale de la', 'Série D', 'D Administration', 'Administration générale', 'première partieF1584207', 'partieF1584207 Présentation', 'Série D Administration', 'D Administration générale', 'Administration générale de', 'de Nice première', 'Nice première partieF1584207', 'première partieF1584207 Présentation', 'partieF1584207 Présentation du', 'niveau nuit', 'Détails niveau nuit', 'nuit Cote', 'niveau nuit Cote', 'nuit Cote dossier', 'de la ville', 'isolésF626904 Feuillet', 'Plans isolésF626904 Feuillet', 'les quartiers', 'du département', 'ont été', 'rapide de', 'levé en', 'hameau de', 'ville de', 'la famille', 'Vue extérieure', 'vuonna 1954', 'merkintöjä lisätty', 'vuonna 1956', 'Suomenkielisiä merkintöjä', 'Suomenkielisiä merkintöjä lisätty', 'de Cannes', 'à la famille', 'extérieure et', 'Vue extérieure et', 'la ville de', 'vuonna 1958', 'Feuillet n°', 'des communes', 'isolésF626904 Vue extérieure', 'Kuolajärven pitäjästä', 'pitäjästä Oulun', 'Kuolajärven pitäjästä Oulun', 'pitäjästä Oulun läänin', '1963 Kartoitus', 'de masse', 'Kartta Kuolajärven', 'levés de', 'planimétrie détaillée', 'En italien', 'Tietosisältö 2osainen', 'Kartta Kuolajärven pitäjästä', 'arkistoF1039495 Tietosisältö 2osainen', 'les territoires', '1959 Kartoitus', 'isolésF626904 Feuillet n°', 'vuonna 1962', 'département des', 'dressée par', 'au 150000', '1959 Kartoitus 110', 'de Bourcet', 'en couleurs', 'du cadastre', 'Suomessa Suomenkielisiä', 'Suomessa Suomenkielisiä merkintöjä', 'de Valrose', 'Painettu Suomessa Suomenkielisiä', 'noir et', 'et blanc', 'noir et blanc', 'Plan aquarellé', 'Groupement durbanisme', 'le titre', 'comté de', 'durbanisme de', 'France au 150000', 'Porte le', 'isolésF626904 Plan aquarellé', 'des archives', 'comté de Nice', 'contenu Façade', 'du contenu Façade', 'avec indication', 'Grand château', 'détaillée Vue', 'planimétrie détaillée Vue', 'Château de', 'couleurs de', 'Groupement durbanisme de', 'vuonna 1959', 'ensemble de', 'en couleurs de', 'couleurs de la', 'vuonna 1953', 'construction neuve', 'pour construction neuve', 'du département des', 'isolésF626904 Reproduction', 'Plans isolésF626904 Reproduction', 'Nice fut', 'de Nice fut', 'Plans élévations', 'isolésF626904 Plans élévations', 'vuonna 1961', 'Projet de', 'les ingénieurs', 'réalisées par', 'son frère', 'par les ingénieurs', 'des communes de', 'Planches n°', 'Planches n° 1', 'Reproduction en', 'Provence levées', 'levées entre', '1778 par', 'ingénieurs géographes', 'géographes militaires', 'Provence ont', 'été réalisées', 'général PierreJoseph', 'PierreJoseph de', 'Bourcet son', 'frère le', 'le lieutenantcolonel', 'lieutenantcolonel Jean', 'Jean Bourcet', 'Bourcet de', 'la Saigne', 'Saigne et', 'et JC', 'JC E', 'E Le', 'Le Michaud', 'Michaud dArçon', 'dArçon entre', '1778 Le', 'Le comté', 'fut levé', '1748 1749', '1749 la', 'de Barcelon', 'isolésF626904 Reproduction en', 'Reproduction en couleurs', 'de Provence levées', 'Provence levées entre', 'levées entre 1748', 'et 1778 par', '1778 par les', 'les ingénieurs géographes', 'ingénieurs géographes militaires', 'de Provence ont', 'Provence ont été', 'ont été réalisées', 'été réalisées par', 'réalisées par le', 'le général PierreJoseph', 'général PierreJoseph de', 'PierreJoseph de Bourcet', 'de Bourcet son', 'Bourcet son frère', 'son frère le', 'frère le lieutenantcolonel', 'le lieutenantcolonel Jean', 'lieutenantcolonel Jean Bourcet', 'Jean Bourcet de', 'Bourcet de la', 'de la Saigne', 'la Saigne et', 'Saigne et JC', 'et JC E', 'JC E Le', 'E Le Michaud', 'Le Michaud dArçon', 'Michaud dArçon entre', 'dArçon entre 1748', 'et 1778 Le', '1778 Le comté', 'Le comté de', 'Nice fut levé', 'fut levé en', 'levé en 1748', 'en 1748 1749', '1748 1749 la', '1749 la vallée', 'vallée de Barcelon', 'Tietosisältö Toimitusnro', 'arkistoF1039495 Tietosisältö Toimitusnro', 'n° 4', 'quartier de', 'militaires représente', 'géographes militaires représente', 'de la route', 'Porte le titre', 'Tietosisältö Karta', 'arkistoF1039495 Tietosisältö Karta', 'représente les territoires', 'publié par', 'géographique de', 'publié par le', 'département des AlpesMaritimes', 'Plan provenant', 'Lambert III', 'Tietosisältö Karttalehti', 'vuonna 1947', 'révisé en', 'pendant la', 'provenant des', 'militaires représente les', 'kokoelmaF1040330 Tietosisältö Karttalehti', 'Karttalehti perustuu', 'de lancienne', 'Château de Valrose', 'Tietosisältö Karttalehti perustuu', 'provenant des archives', 'de Péone', 'vuonna 1957', 'Suomessa Vain', 'la place', 'de laménagement', 'Plan provenant des', 'Vedette rapide', 'les communes', 'dun ensemble', 'kuvaus vuosina', 'Suomessa Vain venäjänkielisiä', 'David Grimm', 'cadastre napoléonienF624004', 'Plans du cadastre', 'du cadastre napoléonienF624004', '1962 Kartoitus', '1961 Kartoitus', 'de résidence', 'Le Grand', 'topographique expédié', 'Premier ministre', 'Karta öfver', 'province de', 'résidence principale', 'principale à', 'famille Von', 'Von Derwies', 'Derwies entre', 'entre 1871', '1871 et', 'et 1881', '1881 construit', 'construit entre', 'entre 1867', '1867 et', 'et 1870', '1870 architectes', 'architectes David', 'Grimm Mikhaïl', 'Mikhaïl Makaroff', 'Makaroff et', 'et Antonio', 'Antonio Crocci', 'Le Grand château', 'de résidence principale', 'résidence principale à', 'principale à la', 'la famille Von', 'famille Von Derwies', 'Von Derwies entre', 'Derwies entre 1871', 'entre 1871 et', '1871 et 1881', 'et 1881 construit', '1881 construit entre', 'construit entre 1867', 'entre 1867 et', '1867 et 1870', 'et 1870 architectes', '1870 architectes David', 'architectes David Grimm', 'David Grimm Mikhaïl', 'Grimm Mikhaïl Makaroff', 'Mikhaïl Makaroff et', 'Makaroff et Antonio', 'et Antonio Crocci', 'voirie 18611864F1503996', '18611864F1503996 Présentation', 'de voirie 18611864F1503996', 'voirie 18611864F1503996 Présentation', '18611864F1503996 Présentation du', 'de lArmée', 'géographique de lArmée', 'la région', 'Tietosisältö Karta öfver', 'au 1er', '1er janvier', 'archives du', 'des archives du', 'chemin de', 'Vedette rapide de', 'Service géographique', 'Service géographique de', 'Dépôt de', 'déclinaison magnétique', 'au 1er janvier', 'en noir', 'en noir et', 'province de Nice', 'Valberg hameau', 'Valberg hameau de', 'hameau de Péone', 'III zone', 'Lambert III zone', 'kuvaus 1963', '000 kuvaus 1963', 'kuvaus vuonna 1956', 'Karttaa on', 'le Dépôt', 'par le Dépôt', 'le Dépôt de', 'Dépôt de la', 'rive gauche', 'topographique régulier', 'plan topographique expédié', '15000 Représente', 'au 15000 Représente', 'vuonna 1955', 'Ilmakuvatulkinta Valtionmaan', 'Ilmakuvatulkinta Valtionmaan rajat', 'le Service', 'magnétique au', 'par le Service', 'déclinaison magnétique au', 'dun ensemble de', 'la Tinée', 'plan établi', 'territoires de', 'Patrouilleur de', 'AlpesMaritimes au 15000', 'en bandes', 'kuvaus 1963 Kartoitus', 'n° 7', 'magnétique au 1er', 'la Guerre', 'de la Guerre', 'au 110000', 'de la Tinée', 'lancienne province', 'Nice dressée', 'de lancienne province', 'lancienne province de', 'de Nice dressée', 'laménagement du', 'au 120000', 'n° 5', 'indication des', 'du port', 'di Nizza', 'Copie conforme', 'conforme dun', 'Copie conforme dun', 'conforme dun plan', 'les territoires de', 'carte de lancienne', 'Nice dressée par', 'dun plan établi', 'dEtat chargé', 'chargé du', 'laménagement du territoire', '1958 Kartoitus', '1957 Kartoitus', 'Painettu Suomessa Vain', 'la Vésubie', 'par lEtatMajor', 'lEtatMajor italien', 'établi pendant', 'la Restauration', 'Restauration sarde', 'sarde 1814', '1814 1860', 'dressée par lEtatMajor', 'par lEtatMajor italien', 'plan établi pendant', 'établi pendant la', 'pendant la Restauration', 'la Restauration sarde', 'Restauration sarde 1814', 'sarde 1814 1860', 'dEtat chargé du', 'le Service géographique', 'Grasse', 'Villa', 'SaintAndré', 'étage', 'section', 'Menton', 'nord', 'rezdechaussée', 'Pianta', 'dAntibes', 'delle', 'feuilles', '1984', 'strada', '2ème', 'pont', 'détails', 'état', 'folios', 'SaintMartinVésubie', 'signor', 'täydennetty', 'travaux', 'cadastral', 'boulevard', 'vuodelta', 'date', 'représentant', 'Entraunes', 'città', 'nella', 'progetto', 'piano', 'série', '1966', 'coupes', 'Ministre', 'Kemi', 'alla', '1942', 'fonds', 'sont', '1985', 'porte', 'Tirage', 'ouest', 'deux', '1941', 'communale', 'kaavassa', 'Facciata', 'technique', 'régulateur', 'terrain', 'services', 'costruire', '1965', 'aussi', 'Travaux', 'Palais', 'Maison', 'sito', 'nivellement', 'courbes', 'cette', 'contrada', '1931', 'communaux', 'terrains', 'voies', 'celle', 'officiers', 'village', 'indications', 'Paillon', '1952', 'indiquant', 'Cabinet', '1948']\n",
      " \n"
     ]
    }
   ],
   "source": [
    "\n",
    "for t, ngrams in ngram_dict.items():\n",
    "    print (t)\n",
    "    selected = tools.remove_substrings(ngrams,stopwords=150,cutoff=1000)\n",
    "    print (selected)\n",
    "    print ( \" \")"
   ]
  },
  {
   "cell_type": "code",
   "execution_count": 7,
   "metadata": {},
   "outputs": [
    {
     "ename": "NameError",
     "evalue": "name 'get_all_ngrams' is not defined",
     "output_type": "error",
     "traceback": [
      "\u001b[0;31m---------------------------------------------------------------------------\u001b[0m",
      "\u001b[0;31mNameError\u001b[0m                                 Traceback (most recent call last)",
      "\u001b[0;32m<ipython-input-7-5ca082e700ba>\u001b[0m in \u001b[0;36m<module>\u001b[0;34m\u001b[0m\n\u001b[1;32m      7\u001b[0m     \u001b[0;31m#model = model_dict[lang]\u001b[0m\u001b[0;34m\u001b[0m\u001b[0;34m\u001b[0m\u001b[0;34m\u001b[0m\u001b[0m\n\u001b[1;32m      8\u001b[0m     \u001b[0mtext\u001b[0m \u001b[0;34m=\u001b[0m \u001b[0mrow\u001b[0m\u001b[0;34m[\u001b[0m\u001b[0;34m\"unitTitle\"\u001b[0m\u001b[0;34m]\u001b[0m \u001b[0;34m+\u001b[0m\u001b[0;34m\" \"\u001b[0m\u001b[0;34m+\u001b[0m \u001b[0mrow\u001b[0m\u001b[0;34m[\u001b[0m\u001b[0;34m\"titleProper\"\u001b[0m\u001b[0;34m]\u001b[0m\u001b[0;34m+\u001b[0m\u001b[0;34m\" \"\u001b[0m\u001b[0;34m+\u001b[0m \u001b[0mrow\u001b[0m\u001b[0;34m[\u001b[0m\u001b[0;34m\"scopeContent\"\u001b[0m\u001b[0;34m]\u001b[0m\u001b[0;34m\u001b[0m\u001b[0;34m\u001b[0m\u001b[0m\n\u001b[0;32m----> 9\u001b[0;31m     \u001b[0mngrams\u001b[0m \u001b[0;34m=\u001b[0m \u001b[0mget_all_ngrams\u001b[0m\u001b[0;34m(\u001b[0m\u001b[0mtext\u001b[0m\u001b[0;34m,\u001b[0m\u001b[0;36m3\u001b[0m\u001b[0;34m)\u001b[0m\u001b[0;34m\u001b[0m\u001b[0;34m\u001b[0m\u001b[0m\n\u001b[0m\u001b[1;32m     10\u001b[0m     \u001b[0mprint\u001b[0m \u001b[0;34m(\u001b[0m\u001b[0mngrams\u001b[0m\u001b[0;34m)\u001b[0m\u001b[0;34m\u001b[0m\u001b[0;34m\u001b[0m\u001b[0m\n\u001b[1;32m     11\u001b[0m     \u001b[0;32mbreak\u001b[0m\u001b[0;34m\u001b[0m\u001b[0;34m\u001b[0m\u001b[0m\n",
      "\u001b[0;31mNameError\u001b[0m: name 'get_all_ngrams' is not defined"
     ]
    }
   ],
   "source": [
    "words_dict = {}\n",
    "\n",
    "word_langs = {}\n",
    "\n",
    "for index, row in df.iterrows():\n",
    "    lang = row[\"langMaterial\"]\n",
    "    #model = model_dict[lang]\n",
    "    text = row[\"unitTitle\"] +\" \"+ row[\"titleProper\"]+\" \"+ row[\"scopeContent\"]\n",
    "    ngrams = get_all_ngrams(text,3)\n",
    "    print (ngrams)\n",
    "    break\n",
    "    topic = row[\"filename\"]\n",
    "    processed_text = model(text)\n",
    "    # Analyze syntax\n",
    "    words = [strip_punct(chunk.text) for chunk in processed_text.noun_chunks if len(chunk.text.split(\" \"))<4 and len(chunk.text)>2]\n",
    "    \n",
    "    for entity in processed_text.ents:\n",
    "        e = strip_punct(entity.text)\n",
    "        if len(e)>2:\n",
    "            words.append(e)\n",
    "    \n",
    "    for word in words:\n",
    "        if word not in words_dict:\n",
    "            words_dict[word] = {t:0.0 for t in topics}\n",
    "            words_dict[word][topic] = 1\n",
    "        else:\n",
    "            words_dict[word][topic] += 1\n",
    "            \n",
    "        if word not in word_langs:\n",
    "            word_langs[word] = {lang}\n",
    "        else:\n",
    "            word_langs[word].add(lang)\n"
   ]
  },
  {
   "cell_type": "code",
   "execution_count": null,
   "metadata": {},
   "outputs": [],
   "source": [
    "print (index)"
   ]
  },
  {
   "cell_type": "code",
   "execution_count": null,
   "metadata": {},
   "outputs": [],
   "source": []
  },
  {
   "cell_type": "code",
   "execution_count": null,
   "metadata": {},
   "outputs": [],
   "source": [
    "# this is simply for comparing across topics\n",
    "ranking = {t:[] for t in topics}\n",
    "\n",
    "for topic in topics:\n",
    "    for word in words_dict.keys():\n",
    "        if words_dict[word][topic]>0:\n",
    "            score = words_dict[word][topic]\n",
    "            ranking[topic].append([word,score])"
   ]
  },
  {
   "cell_type": "code",
   "execution_count": null,
   "metadata": {},
   "outputs": [],
   "source": [
    "for topic,rank in ranking.items():\n",
    "    print (topic)\n",
    "    rank.sort(key=lambda x: x[1],reverse= True)\n",
    "    for word,freq in rank[:50]:\n",
    "        langs = word_langs[word]\n",
    "        ents = [[Wikipedia_search(word,l),l] for l in langs]\n",
    "        print (word,freq,ents)\n",
    "    print (\" \")"
   ]
  },
  {
   "cell_type": "code",
   "execution_count": null,
   "metadata": {},
   "outputs": [],
   "source": []
  },
  {
   "cell_type": "code",
   "execution_count": null,
   "metadata": {},
   "outputs": [],
   "source": [
    "# this is simply for comparing across topics\n",
    "ranking = {t:[] for t in topics}\n",
    "\n",
    "for topic in topics:\n",
    "    for word in words_dict.keys():\n",
    "        if words_dict[word][topic]>0:\n",
    "            mean = [y for x,y in words_dict[word].items() if x!=topic]\n",
    "            mean = sum(mean)/len(mean)\n",
    "            if mean != 0:\n",
    "                score = words_dict[word][topic] - mean\n",
    "                ranking[topic].append([word,score])"
   ]
  },
  {
   "cell_type": "code",
   "execution_count": null,
   "metadata": {},
   "outputs": [],
   "source": [
    "for topic,rank in ranking.items():\n",
    "    print (topic)\n",
    "    rank.sort(key=lambda x: x[1],reverse= True)\n",
    "    for el in rank[:50]:\n",
    "        print (el)\n",
    "    print (\" \")"
   ]
  },
  {
   "cell_type": "code",
   "execution_count": null,
   "metadata": {},
   "outputs": [],
   "source": []
  }
 ],
 "metadata": {
  "kernelspec": {
   "display_name": "topic)",
   "language": "python",
   "name": "topic"
  },
  "language_info": {
   "codemirror_mode": {
    "name": "ipython",
    "version": 3
   },
   "file_extension": ".py",
   "mimetype": "text/x-python",
   "name": "python",
   "nbconvert_exporter": "python",
   "pygments_lexer": "ipython3",
   "version": "3.7.7"
  }
 },
 "nbformat": 4,
 "nbformat_minor": 4
}
