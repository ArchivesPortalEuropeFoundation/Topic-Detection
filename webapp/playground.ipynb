{
 "cells": [
  {
   "cell_type": "code",
   "execution_count": 5,
   "metadata": {},
   "outputs": [
    {
     "name": "stdout",
     "output_type": "stream",
     "text": [
      "https://en.wikipedia.org/wiki/Barack_Obama\n"
     ]
    },
    {
     "name": "stderr",
     "output_type": "stream",
     "text": [
      "WARNING: wikibase-lexeme datatype is not supported yet.\n"
     ]
    }
   ],
   "source": [
    "import sys,os\n",
    "# Add \"../\" to path to import utils\n",
    "sys.path.insert(0, os.path.abspath(os.path.pardir))\n",
    "\n",
    "from utils import nlp\n",
    "\n",
    "a = nlp.get_entity('Barack Obama','en')\n",
    "if a:\n",
    "    print (a)"
   ]
  }
 ],
 "metadata": {
  "kernelspec": {
   "display_name": "Python 3.7.13 ('py37ape')",
   "language": "python",
   "name": "python3"
  },
  "language_info": {
   "codemirror_mode": {
    "name": "ipython",
    "version": 3
   },
   "file_extension": ".py",
   "mimetype": "text/x-python",
   "name": "python",
   "nbconvert_exporter": "python",
   "pygments_lexer": "ipython3",
   "version": "3.7.13"
  },
  "orig_nbformat": 4,
  "vscode": {
   "interpreter": {
    "hash": "b51bd5e92ea07e0b44d727d8186c9a78f8a91abe5a4b99719d01abf275ff09e9"
   }
  }
 },
 "nbformat": 4,
 "nbformat_minor": 2
}
